{
  "cells": [
    {
      "cell_type": "markdown",
      "id": "d01f9669-6940-4311-bcf9-e930ba3457f2",
      "metadata": {
        "deletable": false,
        "editable": false,
        "id": "d01f9669-6940-4311-bcf9-e930ba3457f2",
        "nbgrader": {
          "cell_type": "markdown",
          "checksum": "2ad988175a8c2593a35c27c5a89d6ea5",
          "grade": false,
          "grade_id": "a1",
          "locked": true,
          "schema_version": 3,
          "solution": false,
          "task": false
        },
        "tags": []
      },
      "source": [
        "# Question A1 (15 marks)"
      ]
    },
    {
      "cell_type": "markdown",
      "id": "2fd870a1-6368-4b4f-9cbb-7eac0acda4ec",
      "metadata": {
        "deletable": false,
        "editable": false,
        "id": "2fd870a1-6368-4b4f-9cbb-7eac0acda4ec",
        "nbgrader": {
          "cell_type": "markdown",
          "checksum": "74435a282dd0f8cb4705e88829506c4e",
          "grade": false,
          "grade_id": "a1_overall",
          "locked": true,
          "schema_version": 3,
          "solution": false,
          "task": false
        },
        "tags": []
      },
      "source": [
        "#### Design a feedforward deep neural network (DNN) which consists of **three** hidden layers of 128 neurons each with ReLU activation function, and an output layer with sigmoid activation function. Apply dropout of probability **0.2** to each of the hidden layers.\n",
        "\n",
        "* note: some cells are non-editable and cannot be filled, but leave them untouched. Fill up only cells which are provided."
      ]
    },
    {
      "cell_type": "code",
      "execution_count": 9,
      "id": "3af871c6-6baa-4eff-b46a-eb7a81faac13",
      "metadata": {
        "deletable": false,
        "editable": false,
        "id": "3af871c6-6baa-4eff-b46a-eb7a81faac13",
        "nbgrader": {
          "cell_type": "code",
          "checksum": "909acb3c7ff3883eb5381eb586615d3b",
          "grade": false,
          "grade_id": "libraries",
          "locked": true,
          "schema_version": 3,
          "solution": false,
          "task": false
        },
        "tags": []
      },
      "outputs": [],
      "source": [
        "import tqdm\n",
        "import time\n",
        "import random\n",
        "import numpy as np\n",
        "import pandas as pd\n",
        "import matplotlib.pyplot as plt\n",
        "\n",
        "import torch\n",
        "from torch import nn\n",
        "from torch.utils.data import Dataset\n",
        "from torch.utils.data import DataLoader\n",
        "\n",
        "from scipy.io import wavfile as wav\n",
        "\n",
        "from sklearn import preprocessing\n",
        "from sklearn.model_selection import KFold\n",
        "from sklearn.model_selection import train_test_split\n",
        "from sklearn.metrics import f1_score, precision_score, recall_score, confusion_matrix\n",
        "\n",
        "from common_utils import set_seed\n",
        "\n",
        "# setting seed\n",
        "set_seed()"
      ]
    },
    {
      "cell_type": "markdown",
      "id": "27828402-6f73-4afc-ad4b-d537b94406fc",
      "metadata": {
        "deletable": false,
        "editable": false,
        "id": "27828402-6f73-4afc-ad4b-d537b94406fc",
        "nbgrader": {
          "cell_type": "markdown",
          "checksum": "238677075e1bc63851fa208a1937b0d0",
          "grade": false,
          "grade_id": "a1_1_2",
          "locked": true,
          "schema_version": 3,
          "solution": false,
          "task": false
        },
        "tags": []
      },
      "source": [
        "1. Define the model class."
      ]
    },
    {
      "cell_type": "code",
      "execution_count": 10,
      "id": "f0a262dc-01fc-42d3-9554-a2a9b41db5f6",
      "metadata": {
        "deletable": false,
        "id": "f0a262dc-01fc-42d3-9554-a2a9b41db5f6",
        "nbgrader": {
          "cell_type": "code",
          "checksum": "ffe9e91761659732c1cda9441c248079",
          "grade": false,
          "grade_id": "mlp",
          "locked": false,
          "schema_version": 3,
          "solution": true,
          "task": false
        },
        "tags": []
      },
      "outputs": [],
      "source": [
        "class MLP(nn.Module):\n",
        "\n",
        "    def __init__(self, no_features, no_hidden, no_labels):\n",
        "        super().__init__()\n",
        "        self.mlp_stack = nn.Sequential(\n",
        "            # YOUR CODE HERE\n",
        "            # To Build: three hidden layers of 128 neurons each with ReLU activation function\n",
        "            # Apply dropout of probability 0.2 to each of the hidden layers\n",
        "\n",
        "            # Input Layer --> First Hidden Layer\n",
        "            nn.Linear(no_features, no_hidden),\n",
        "            nn.ReLU(),\n",
        "            nn.Dropout(0.2),\n",
        "\n",
        "            # First Hidden Layer --> Second Hidden Layer\n",
        "            nn.Linear(no_hidden, no_hidden),\n",
        "            nn.ReLU(),\n",
        "            nn.Dropout(0.2),\n",
        "\n",
        "            # Second Hidden Layer --> Third Hidden Layer\n",
        "            nn.Linear(no_hidden, no_hidden),\n",
        "            nn.ReLU(),\n",
        "            nn.Dropout(0.2),\n",
        "\n",
        "            # Third Hidden Layer --> Output Layer\n",
        "            # Output layer with sigmoid activation function\n",
        "            nn.Linear(no_hidden, no_labels),\n",
        "            nn.Sigmoid()\n",
        "        )\n",
        "\n",
        "    # YOUR CODE HERE\n",
        "    def forward(self, x):\n",
        "        return self.mlp_stack(x)"
      ]
    },
    {
      "cell_type": "code",
      "execution_count": 10,
      "id": "078b1948-74c4-4619-a23f-3e5c7624ff9a",
      "metadata": {
        "deletable": false,
        "editable": false,
        "id": "078b1948-74c4-4619-a23f-3e5c7624ff9a",
        "nbgrader": {
          "cell_type": "code",
          "checksum": "d390df361e01c7ad9ed2ed99a7e8c891",
          "grade": true,
          "grade_id": "correct_mlp",
          "locked": true,
          "points": 1,
          "schema_version": 3,
          "solution": false,
          "task": false
        },
        "tags": []
      },
      "outputs": [],
      "source": []
    },
    {
      "cell_type": "code",
      "execution_count": 10,
      "id": "e77f955d-0cbb-4f45-8a7a-efe0af645fb1",
      "metadata": {
        "deletable": false,
        "editable": false,
        "id": "e77f955d-0cbb-4f45-8a7a-efe0af645fb1",
        "nbgrader": {
          "cell_type": "code",
          "checksum": "acd75cd2a88aa738b9c7ab44fd639829",
          "grade": true,
          "grade_id": "correct_mlp2",
          "locked": true,
          "points": 1,
          "schema_version": 3,
          "solution": false,
          "task": false
        },
        "tags": []
      },
      "outputs": [],
      "source": []
    },
    {
      "cell_type": "markdown",
      "id": "c508f1a3-1781-403e-a6c8-2133c83cf2c0",
      "metadata": {
        "deletable": false,
        "editable": false,
        "id": "c508f1a3-1781-403e-a6c8-2133c83cf2c0",
        "nbgrader": {
          "cell_type": "markdown",
          "checksum": "8fa5e10c9346a8cc9f313cfdeffb29ad",
          "grade": false,
          "grade_id": "a1_2",
          "locked": true,
          "schema_version": 3,
          "solution": false,
          "task": false
        },
        "tags": []
      },
      "source": [
        "#### Divide the dataset into a 70:30 ratio for training and testing. Use **appropriate** scaling of input features. We solely assume that there are only two datasets here: training & test."
      ]
    },
    {
      "cell_type": "markdown",
      "id": "e95fca82-4f7a-4017-8990-e36a78db1560",
      "metadata": {
        "deletable": false,
        "editable": false,
        "id": "e95fca82-4f7a-4017-8990-e36a78db1560",
        "nbgrader": {
          "cell_type": "markdown",
          "checksum": "5b42952eb98d955700c9f15482aa73f1",
          "grade": false,
          "grade_id": "a1_2_1",
          "locked": true,
          "schema_version": 3,
          "solution": false,
          "task": false
        },
        "tags": []
      },
      "source": [
        "1. Split the dataset and do preprocessing."
      ]
    },
    {
      "cell_type": "code",
      "execution_count": 11,
      "id": "c5fa518e-36fc-4071-839f-65766fe06f67",
      "metadata": {
        "deletable": false,
        "id": "c5fa518e-36fc-4071-839f-65766fe06f67",
        "nbgrader": {
          "cell_type": "code",
          "checksum": "7f3aaa6c1bc49a791e2d944fbffa3785",
          "grade": false,
          "grade_id": "preprocess",
          "locked": false,
          "schema_version": 3,
          "solution": true,
          "task": false
        },
        "tags": []
      },
      "outputs": [],
      "source": [
        "from common_utils import split_dataset, preprocess_dataset\n",
        "\n",
        "\n",
        "def preprocess(df):\n",
        "    # YOUR CODE HERE\n",
        "    # use df created below\n",
        "    # Don't want to give model access to the information it is trying to predict,\n",
        "    # hence columns_to_drop = filename, label (contains the desired output: neg/pos)\n",
        "    # since the dataset is to be divided into 70:30 ratio for training and testing, test_size = 0.3\n",
        "    # Assumption: no random_state specified hence set random_state = 0\n",
        "    # split_dataset function returns: df_train2, y_train2, df_test2, y_test2\n",
        "    X_train, y_train, X_test, y_test = split_dataset(df, ['filename', 'label'], 0.3, 0)\n",
        "\n",
        "    # return requires scaled X_train and X_test values (to maintain consistency)\n",
        "    X_train_scaled, X_test_scaled = preprocess_dataset(X_train, X_test)\n",
        "\n",
        "    return X_train_scaled, y_train, X_test_scaled, y_test\n",
        "\n",
        "df = pd.read_csv('simplified.csv')\n",
        "df['label'] = df['filename'].str.split('_').str[-2]\n",
        "\n",
        "df['label'].value_counts()\n",
        "\n",
        "X_train_scaled, y_train, X_test_scaled, y_test = preprocess(df)"
      ]
    },
    {
      "cell_type": "code",
      "execution_count": 11,
      "id": "52d2caa3-82e3-42a1-b2b2-9d7025fe9e47",
      "metadata": {
        "deletable": false,
        "editable": false,
        "id": "52d2caa3-82e3-42a1-b2b2-9d7025fe9e47",
        "nbgrader": {
          "cell_type": "code",
          "checksum": "c00bd6df39380d7a83a15f62195f2c8c",
          "grade": true,
          "grade_id": "correct_preprocess",
          "locked": true,
          "points": 1,
          "schema_version": 3,
          "solution": false,
          "task": false
        },
        "tags": []
      },
      "outputs": [],
      "source": []
    },
    {
      "cell_type": "markdown",
      "id": "a819454c-0064-4d88-a35d-b54a3027f52f",
      "metadata": {
        "deletable": false,
        "editable": false,
        "id": "a819454c-0064-4d88-a35d-b54a3027f52f",
        "nbgrader": {
          "cell_type": "markdown",
          "checksum": "58c39624353d30c202964d96c43a724f",
          "grade": false,
          "grade_id": "a1_3",
          "locked": true,
          "schema_version": 3,
          "solution": false,
          "task": false
        },
        "tags": []
      },
      "source": [
        "#### Use the training dataset to train the model for 100 epochs. Use a mini-batch gradient descent with **‘Adam’** optimizer with learning rate of **0.001**, and **batch size = 256**. Implement early stopping with patience of **3**."
      ]
    },
    {
      "cell_type": "markdown",
      "id": "fc79c097-e526-474a-803f-354465ac02d7",
      "metadata": {
        "deletable": false,
        "editable": false,
        "id": "fc79c097-e526-474a-803f-354465ac02d7",
        "nbgrader": {
          "cell_type": "markdown",
          "checksum": "45710c8274bd2b7689ccd170af7be67c",
          "grade": false,
          "grade_id": "a1_3_1",
          "locked": true,
          "schema_version": 3,
          "solution": false,
          "task": false
        },
        "tags": []
      },
      "source": [
        "1. Define a Pytorch Dataset and Dataloaders.  "
      ]
    },
    {
      "cell_type": "code",
      "execution_count": 12,
      "id": "578b3050-9720-432b-9ef0-c29feba29e68",
      "metadata": {
        "deletable": false,
        "id": "578b3050-9720-432b-9ef0-c29feba29e68",
        "nbgrader": {
          "cell_type": "code",
          "checksum": "808e279fafed9a2b06f06e824dc5fffe",
          "grade": false,
          "grade_id": "pytorch_dataset",
          "locked": false,
          "schema_version": 3,
          "solution": true,
          "task": false
        },
        "tags": []
      },
      "outputs": [],
      "source": [
        "class CustomDataset(Dataset):\n",
        "    # YOUR CODE HERE\n",
        "    def __init__(self, X, y):\n",
        "        # Convert X and y to PyTorch tensors with the appropriate data types.\n",
        "        self.X = torch.tensor(X, dtype=torch.float32)\n",
        "        # model output shape is (X, 1), hence need to reshape labels from 1D to 2D\n",
        "        self.y = torch.tensor(y, dtype=torch.float32).reshape(-1, 1)\n",
        "\n",
        "    def __len__(self):\n",
        "        # return the total number of samples in the dataset\n",
        "        return len(self.X)\n",
        "\n",
        "    def __getitem__(self, idx):\n",
        "        # to retrieve a specific sample by its index (idx)\n",
        "        x_sample = self.X[idx] # Get the input features of the sample.\n",
        "        y_sample = self.y[idx] # Get the label (target) of the sample.\n",
        "        return x_sample, y_sample\n",
        "\n",
        "\n",
        "def intialise_loaders(X_train_scaled, y_train, X_test_scaled, y_test):\n",
        "    # YOUR CODE HERE\n",
        "    # create train and test datasets\n",
        "    train_dataset = CustomDataset(X_train_scaled, y_train)\n",
        "    test_dataset = CustomDataset(X_test_scaled, y_test)\n",
        "\n",
        "    # create train and test dataloaders\n",
        "    # required batch size = 256\n",
        "    # introduce randomness and prevent the model from learning the order of the data\n",
        "    # hence, shuffle = True\n",
        "    train_dataloader = DataLoader(train_dataset, batch_size=256, shuffle=True)\n",
        "    test_dataloader = DataLoader(test_dataset, batch_size=256, shuffle=True)\n",
        "\n",
        "    return train_dataloader, test_dataloader\n",
        "\n",
        "train_dataloader, test_dataloader = intialise_loaders(X_train_scaled, y_train, X_test_scaled, y_test)"
      ]
    },
    {
      "cell_type": "code",
      "execution_count": 12,
      "id": "ebe01c6c-7011-4990-89bc-0b3c39df05c1",
      "metadata": {
        "deletable": false,
        "editable": false,
        "id": "ebe01c6c-7011-4990-89bc-0b3c39df05c1",
        "nbgrader": {
          "cell_type": "code",
          "checksum": "29ad35220b667d0ccbddf8567df4bbe7",
          "grade": true,
          "grade_id": "correct_pytorch_dataset",
          "locked": true,
          "points": 1,
          "schema_version": 3,
          "solution": false,
          "task": false
        },
        "tags": []
      },
      "outputs": [],
      "source": []
    },
    {
      "cell_type": "code",
      "execution_count": 12,
      "id": "30df1d63-bef3-47cb-926f-f32809ccb204",
      "metadata": {
        "deletable": false,
        "editable": false,
        "id": "30df1d63-bef3-47cb-926f-f32809ccb204",
        "nbgrader": {
          "cell_type": "code",
          "checksum": "c4726e1ddc39f6641b2893a082b241ab",
          "grade": true,
          "grade_id": "correct_pytorch_dataset2",
          "locked": true,
          "points": 1,
          "schema_version": 3,
          "solution": false,
          "task": false
        },
        "tags": []
      },
      "outputs": [],
      "source": []
    },
    {
      "cell_type": "code",
      "execution_count": 12,
      "id": "718bf3c6-261a-400b-937c-fe092b7e0c6d",
      "metadata": {
        "deletable": false,
        "editable": false,
        "id": "718bf3c6-261a-400b-937c-fe092b7e0c6d",
        "nbgrader": {
          "cell_type": "code",
          "checksum": "20387d776dca6b012684e3a9f6df77dc",
          "grade": true,
          "grade_id": "correct_datasets_loaders",
          "locked": true,
          "points": 1,
          "schema_version": 3,
          "solution": false,
          "task": false
        },
        "tags": []
      },
      "outputs": [],
      "source": []
    },
    {
      "cell_type": "code",
      "execution_count": 12,
      "id": "c50c1c87-c3ff-47b2-b051-833bca799d38",
      "metadata": {
        "deletable": false,
        "editable": false,
        "id": "c50c1c87-c3ff-47b2-b051-833bca799d38",
        "nbgrader": {
          "cell_type": "code",
          "checksum": "74ae76c28374fc22d0d54dd664be5a4d",
          "grade": true,
          "grade_id": "correct_datasets_loaders2",
          "locked": true,
          "points": 1,
          "schema_version": 3,
          "solution": false,
          "task": false
        },
        "tags": []
      },
      "outputs": [],
      "source": []
    },
    {
      "cell_type": "markdown",
      "id": "648cceb4-adb2-4e4d-bcc5-6cb9f9e252c6",
      "metadata": {
        "deletable": false,
        "editable": false,
        "id": "648cceb4-adb2-4e4d-bcc5-6cb9f9e252c6",
        "nbgrader": {
          "cell_type": "markdown",
          "checksum": "18d61ee1922cd394e81ef773a74489eb",
          "grade": false,
          "grade_id": "a1_3_3",
          "locked": true,
          "schema_version": 3,
          "solution": false,
          "task": false
        },
        "tags": []
      },
      "source": [
        "2. Next, define the model, optimizer and loss function."
      ]
    },
    {
      "cell_type": "code",
      "execution_count": 13,
      "id": "6608f93a-891f-4bbf-b066-761b56b542df",
      "metadata": {
        "deletable": false,
        "id": "6608f93a-891f-4bbf-b066-761b56b542df",
        "nbgrader": {
          "cell_type": "code",
          "checksum": "b3b057f96943875a86bf5e3bf1cbceb6",
          "grade": false,
          "grade_id": "model_optimizer",
          "locked": false,
          "schema_version": 3,
          "solution": true,
          "task": false
        },
        "tags": []
      },
      "outputs": [],
      "source": [
        "# YOUR CODE HERE\n",
        "# no of columns (exlcuding filename) = 77\n",
        "# hidden layers of 128 neurons\n",
        "# output neuron = 1, only need to predict whether it is pos/neg\n",
        "model = MLP(77, 128, 1)\n",
        "# ‘Adam’ optimizer with learning rate of 0.001\n",
        "optimizer = torch.optim.Adam(model.parameters(), lr=0.001)\n",
        "# since there are 2 classes, BCELoss as loss function\n",
        "loss_function = nn.BCELoss()"
      ]
    },
    {
      "cell_type": "code",
      "execution_count": 13,
      "id": "33a4488b-0db9-4710-a08b-508b06440e49",
      "metadata": {
        "deletable": false,
        "editable": false,
        "id": "33a4488b-0db9-4710-a08b-508b06440e49",
        "nbgrader": {
          "cell_type": "code",
          "checksum": "bdd1ad303e792ab0dda5dc0f5da7f4aa",
          "grade": true,
          "grade_id": "correct_model_optimizer",
          "locked": true,
          "points": 1,
          "schema_version": 3,
          "solution": false,
          "task": false
        },
        "tags": []
      },
      "outputs": [],
      "source": []
    },
    {
      "cell_type": "code",
      "execution_count": 13,
      "id": "94b1f0fc-fefe-410f-b6bc-00340688505b",
      "metadata": {
        "deletable": false,
        "editable": false,
        "id": "94b1f0fc-fefe-410f-b6bc-00340688505b",
        "nbgrader": {
          "cell_type": "code",
          "checksum": "865e009af2828a7aa6d2503ff3c2f14e",
          "grade": true,
          "grade_id": "correct_model_optimizer2",
          "locked": true,
          "points": 1,
          "schema_version": 3,
          "solution": false,
          "task": false
        },
        "tags": []
      },
      "outputs": [],
      "source": []
    },
    {
      "cell_type": "code",
      "execution_count": 13,
      "id": "0b0445ac-1139-40ac-b803-c67b3fa1d9c4",
      "metadata": {
        "deletable": false,
        "editable": false,
        "id": "0b0445ac-1139-40ac-b803-c67b3fa1d9c4",
        "nbgrader": {
          "cell_type": "code",
          "checksum": "e3e8f1ffbea729b1e38b9921031433bf",
          "grade": true,
          "grade_id": "correct_loss_fn",
          "locked": true,
          "points": 1,
          "schema_version": 3,
          "solution": false,
          "task": false
        },
        "tags": []
      },
      "outputs": [],
      "source": []
    },
    {
      "cell_type": "markdown",
      "id": "20e178c6-bc5a-4932-9a0a-9a8ab5189c78",
      "metadata": {
        "deletable": false,
        "editable": false,
        "id": "20e178c6-bc5a-4932-9a0a-9a8ab5189c78",
        "nbgrader": {
          "cell_type": "markdown",
          "checksum": "7831e2b9dd6b053fce7ebc058a3c5574",
          "grade": false,
          "grade_id": "a1_3_5",
          "locked": true,
          "schema_version": 3,
          "solution": false,
          "task": false
        },
        "tags": []
      },
      "source": [
        "3. Train model for 100 epochs. Record down train and test accuracies. Implement early stopping."
      ]
    },
    {
      "cell_type": "code",
      "execution_count": 14,
      "id": "57924156-c046-4610-b4dd-cebeb683a6d5",
      "metadata": {
        "deletable": false,
        "id": "57924156-c046-4610-b4dd-cebeb683a6d5",
        "nbgrader": {
          "cell_type": "code",
          "checksum": "94cfe370d3e2676874c81aa42b52b1e1",
          "grade": true,
          "grade_id": "training",
          "locked": false,
          "points": 4,
          "schema_version": 3,
          "solution": true,
          "task": false
        },
        "tags": [],
        "colab": {
          "base_uri": "https://localhost:8080/"
        },
        "outputId": "16b49354-d437-4746-f794-74e6d4fa8340"
      },
      "outputs": [
        {
          "output_type": "stream",
          "name": "stdout",
          "text": [
            "Epoch: 0, Train Accuracy: 57.00%, Train Loss: 0.6800252867467476, Test Accuracy: 55.68%, Test Loss: 0.6841142495473226\n",
            "Epoch: 10, Train Accuracy: 77.18%, Train Loss: 0.48935530312133557, Test Accuracy: 69.88%, Test Loss: 0.5777382989724477\n",
            "Epoch: 20, Train Accuracy: 86.23%, Train Loss: 0.34961123899980023, Test Accuracy: 73.37%, Test Loss: 0.5360496004422506\n",
            "Early stopping implemented at epoch 21.\n"
          ]
        }
      ],
      "source": [
        "# YOUR CODE HERE\n",
        "from common_utils import EarlyStopper\n",
        "\n",
        "# to record accuracy and loss of training\n",
        "acc_train = []\n",
        "loss_train = []\n",
        "\n",
        "# to record accuracy and loss of test\n",
        "acc_test = []\n",
        "loss_test = []\n",
        "\n",
        "# early stopping with patience of 3\n",
        "early_stopper = EarlyStopper(patience=3)\n",
        "\n",
        "# Train model for 100 epoch\n",
        "for i in range(100):\n",
        "    # model to training mode\n",
        "    model.train()\n",
        "    # mini-batch gradient descent\n",
        "    for X_batch, y_batch in train_dataloader:\n",
        "        # Zero out the gradients\n",
        "        optimizer.zero_grad()\n",
        "        # Forward pass to compute predictions\n",
        "        y_pred = model(X_batch)\n",
        "        # Compute the loss between predictions and true labels & backpropagate gradients\n",
        "        loss_function(y_pred, y_batch).backward()\n",
        "        # Update model parameters using optimizer\n",
        "        optimizer.step()\n",
        "\n",
        "    # model to evaluation mode\n",
        "    model.eval()\n",
        "    with torch.no_grad():\n",
        "        # store loss and accuracy values\n",
        "        total_loss = []\n",
        "        total_acc = []\n",
        "\n",
        "        # Evaluate on the training dataset\n",
        "        for X_batch, y_batch in train_dataloader:\n",
        "            # Forward pass to compute predictions\n",
        "            y_pred = model(X_batch)\n",
        "\n",
        "            # Calculate accuracy by comparing rounded predictions to true labels\n",
        "            acc = (y_pred.round() == y_batch).float().mean()\n",
        "            total_acc.append(float(acc))\n",
        "\n",
        "            # Compute the loss for this mini-batch\n",
        "            loss = loss_function(y_pred, y_batch)\n",
        "            total_loss.append(loss.detach().numpy())\n",
        "\n",
        "        # Calculate and store average training accuracy and loss for this epoch\n",
        "        acc_train.append(sum(total_acc) / len(total_acc))\n",
        "        loss_train.append(sum(total_loss) / len(total_loss))\n",
        "\n",
        "        # store per-epoch loss and accuracy values for the test dataset\n",
        "        total_loss = []\n",
        "        total_acc = []\n",
        "\n",
        "        # Evaluate on the test dataset\n",
        "        for X_batch, y_batch in test_dataloader:\n",
        "            # Forward pass to compute predictions\n",
        "            y_pred = model(X_batch)\n",
        "\n",
        "            # Calculate accuracy by comparing rounded predictions to true labels\n",
        "            acc = (y_pred.round() == y_batch).float().mean()\n",
        "            total_acc.append(float(acc))\n",
        "\n",
        "            # Compute the loss for this mini-batch\n",
        "            loss = loss_function(y_pred, y_batch)\n",
        "            total_loss.append(loss.detach().numpy())\n",
        "\n",
        "        # Calculate and store average test accuracy and loss for this epoch\n",
        "        acc_test.append(sum(total_acc) / len(total_acc))\n",
        "        loss_test.append(sum(total_loss) / len(total_loss))\n",
        "\n",
        "    # check: print progress every 10 epochs\n",
        "    if i % 10 == 0:\n",
        "        print(f\"Epoch: {i}, Train Accuracy: {acc_train[-1]*100:.2f}%, Train Loss: {loss_train[-1]}, Test Accuracy: {acc_test[-1]*100:.2f}%, Test Loss: {loss_test[-1]}\")\n",
        "\n",
        "    # Check for early stopping based on test loss (based on lecture notes)\n",
        "    if early_stopper.early_stop(loss_test[-1]):\n",
        "        print(f\"Early stopping implemented at epoch {i}.\")\n",
        "        break"
      ]
    },
    {
      "cell_type": "markdown",
      "id": "5deafd80-4525-4bff-8a5f-dfee0bfede04",
      "metadata": {
        "deletable": false,
        "editable": false,
        "id": "5deafd80-4525-4bff-8a5f-dfee0bfede04",
        "nbgrader": {
          "cell_type": "markdown",
          "checksum": "4f0d29724a79a38566c9153287e31469",
          "grade": false,
          "grade_id": "a1_4",
          "locked": true,
          "schema_version": 3,
          "solution": false,
          "task": false
        },
        "tags": []
      },
      "source": [
        "#### Plot train and test accuracies and losses on training and test data against training epochs and comment on the line plots.\n"
      ]
    },
    {
      "cell_type": "code",
      "execution_count": 15,
      "id": "b25bf720-a4e3-4e70-b90c-456180f18dcf",
      "metadata": {
        "deletable": false,
        "id": "b25bf720-a4e3-4e70-b90c-456180f18dcf",
        "nbgrader": {
          "cell_type": "code",
          "checksum": "c9ce6934b35dea460dcc15bb9a6dedf4",
          "grade": true,
          "grade_id": "plot",
          "locked": false,
          "points": 0,
          "schema_version": 3,
          "solution": true,
          "task": false
        },
        "tags": [],
        "colab": {
          "base_uri": "https://localhost:8080/",
          "height": 466
        },
        "outputId": "9275bae3-4265-4ef0-cbe3-bef646ee846b"
      },
      "outputs": [
        {
          "output_type": "execute_result",
          "data": {
            "text/plain": [
              "<matplotlib.legend.Legend at 0x7fb71514a950>"
            ]
          },
          "metadata": {},
          "execution_count": 15
        },
        {
          "output_type": "display_data",
          "data": {
            "text/plain": [
              "<Figure size 640x480 with 1 Axes>"
            ],
            "image/png": "[encoded data removed]"
          },
          "metadata": {}
        }
      ],
      "source": [
        "# YOUR CODE HERE\n",
        "plt.plot(acc_train, label=\"Training Accuracies\")\n",
        "plt.plot(loss_train, label=\"Training Losses\")\n",
        "plt.plot(acc_test, label=\"Testing Accuracies\")\n",
        "plt.plot(loss_test, label=\"Testing Losses\")\n",
        "\n",
        "plt.xlabel(\"epochs\")\n",
        "plt.grid(True)  # Add gridlines for better readability\n",
        "plt.legend()"
      ]
    },
    {
      "cell_type": "markdown",
      "id": "3307014b-6a6c-406e-a139-94acc919f5f4",
      "metadata": {
        "deletable": false,
        "editable": false,
        "id": "3307014b-6a6c-406e-a139-94acc919f5f4",
        "nbgrader": {
          "cell_type": "markdown",
          "checksum": "0973f053aaa2d1bde7a2261c1d8cd9c4",
          "grade": false,
          "grade_id": "a1_4_2",
          "locked": true,
          "schema_version": 3,
          "solution": false,
          "task": false
        },
        "tags": []
      },
      "source": [
        "2. Comment on line plots."
      ]
    },
    {
      "cell_type": "code",
      "execution_count": 16,
      "id": "b71af7e2-6ed7-4457-940a-df915d349ee0",
      "metadata": {
        "deletable": false,
        "id": "b71af7e2-6ed7-4457-940a-df915d349ee0",
        "nbgrader": {
          "cell_type": "code",
          "checksum": "d2a6f6433369930987c9e7342cb667b0",
          "grade": false,
          "grade_id": "comment_plots",
          "locked": false,
          "schema_version": 3,
          "solution": true,
          "task": false
        },
        "tags": [],
        "colab": {
          "base_uri": "https://localhost:8080/",
          "height": 53
        },
        "outputId": "ba2955dc-087e-42ae-e17d-07296b3a7cca"
      },
      "outputs": [
        {
          "output_type": "execute_result",
          "data": {
            "text/plain": [
              "'The neural network is learning well, with decreasing training loss and increasing training accuracy. However, after around epoch 18, there is a sudden increase in testing loss, which could be a sign of overfitting.'"
            ],
            "application/vnd.google.colaboratory.intrinsic+json": {
              "type": "string"
            }
          },
          "metadata": {},
          "execution_count": 16
        }
      ],
      "source": [
        "# YOUR CODE HERE\n",
        "answer = \"The neural network is learning well, with decreasing training loss and increasing training accuracy. However, after around epoch 18, there is a sudden increase in testing loss, which could be a sign of overfitting.\"\n",
        "answer"
      ]
    },
    {
      "cell_type": "code",
      "execution_count": 16,
      "id": "6219db24-33e9-4fbc-880c-218cd7503482",
      "metadata": {
        "deletable": false,
        "editable": false,
        "id": "6219db24-33e9-4fbc-880c-218cd7503482",
        "nbgrader": {
          "cell_type": "code",
          "checksum": "309410e29156bb4709bef54f79a15acc",
          "grade": true,
          "grade_id": "correct_comment_plots",
          "locked": true,
          "points": 1,
          "schema_version": 3,
          "solution": false,
          "task": false
        },
        "tags": []
      },
      "outputs": [],
      "source": []
    }
  ],
  "metadata": {
    "colab": {
      "provenance": []
    },
    "kernelspec": {
      "display_name": "Python 3 (ipykernel)",
      "language": "python",
      "name": "python3"
    },
    "language_info": {
      "codemirror_mode": {
        "name": "ipython",
        "version": 3
      },
      "file_extension": ".py",
      "mimetype": "text/x-python",
      "name": "python",
      "nbconvert_exporter": "python",
      "pygments_lexer": "ipython3",
      "version": "3.11.2"
    }
  },
  "nbformat": 4,
  "nbformat_minor": 5
}