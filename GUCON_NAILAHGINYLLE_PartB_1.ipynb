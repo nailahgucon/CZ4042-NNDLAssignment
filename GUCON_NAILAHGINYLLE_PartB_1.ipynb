{
  "cells": [
    {
      "cell_type": "markdown",
      "metadata": {
        "id": "jnRX6LUnqBpw"
      },
      "source": [
        "CS4001/4042 Assignment 1, Part B, Q1\n",
        "---\n",
        "\n",
        "Real world datasets often have a mix of numeric and categorical features – this dataset is one example. To build models on such data, categorical features have to be encoded or embedded.\n",
        "\n",
        "PyTorch Tabular is a library that makes it very convenient to build neural networks for tabular data. It is built on top of PyTorch Lightning, which abstracts away boilerplate model training code and makes it easy to integrate other tools, e.g. TensorBoard for experiment tracking.\n",
        "\n",
        "For questions B1 and B2, the following features should be used:   \n",
        "- **Numeric / Continuous** features: dist_to_nearest_stn, dist_to_dhoby, degree_centrality, eigenvector_centrality, remaining_lease_years, floor_area_sqm\n",
        "- **Categorical** features: month, town, flat_model_type, storey_range"
      ]
    },
    {
      "cell_type": "markdown",
      "metadata": {
        "id": "Kn0j2MRKqKVs"
      },
      "source": [
        "\n",
        "\n",
        "---\n",
        "\n"
      ]
    },
    {
      "cell_type": "code",
      "execution_count": 1,
      "metadata": {
        "id": "jA67PbIY3PnH",
        "colab": {
          "base_uri": "https://localhost:8080/",
          "height": 1000
        },
        "outputId": "1dc662f1-d920-4245-cf03-f506f5cc018b"
      },
      "outputs": [
        {
          "output_type": "stream",
          "name": "stdout",
          "text": [
            "Collecting pytorch_tabular[extra]\n",
            "  Downloading pytorch_tabular-1.0.2-py2.py3-none-any.whl (122 kB)\n",
            "\u001b[2K     \u001b[90m━━━━━━━━━━━━━━━━━━━━━━━━━━━━━━━━━━━━━━━\u001b[0m \u001b[32m122.5/122.5 kB\u001b[0m \u001b[31m2.4 MB/s\u001b[0m eta \u001b[36m0:00:00\u001b[0m\n",
            "\u001b[?25hRequirement already satisfied: torch>=1.9.0 in /usr/local/lib/python3.10/dist-packages (from pytorch_tabular[extra]) (2.0.1+cu118)\n",
            "Collecting category-encoders<2.7.0,>=2.6.0 (from pytorch_tabular[extra])\n",
            "  Downloading category_encoders-2.6.2-py2.py3-none-any.whl (81 kB)\n",
            "\u001b[2K     \u001b[90m━━━━━━━━━━━━━━━━━━━━━━━━━━━━━━━━━━━━━━━━\u001b[0m \u001b[32m81.8/81.8 kB\u001b[0m \u001b[31m4.4 MB/s\u001b[0m eta \u001b[36m0:00:00\u001b[0m\n",
            "\u001b[?25hRequirement already satisfied: numpy>=1.17.2 in /usr/local/lib/python3.10/dist-packages (from pytorch_tabular[extra]) (1.23.5)\n",
            "Requirement already satisfied: pandas>=1.1.5 in /usr/local/lib/python3.10/dist-packages (from pytorch_tabular[extra]) (1.5.3)\n",
            "Requirement already satisfied: scikit-learn>=1.0.0 in /usr/local/lib/python3.10/dist-packages (from pytorch_tabular[extra]) (1.2.2)\n",
            "Collecting pytorch-lightning<2.0.0,>=1.8.0 (from pytorch_tabular[extra])\n",
            "  Downloading pytorch_lightning-1.9.5-py3-none-any.whl (829 kB)\n",
            "\u001b[2K     \u001b[90m━━━━━━━━━━━━━━━━━━━━━━━━━━━━━━━━━━━━━━\u001b[0m \u001b[32m829.5/829.5 kB\u001b[0m \u001b[31m19.5 MB/s\u001b[0m eta \u001b[36m0:00:00\u001b[0m\n",
            "\u001b[?25hCollecting omegaconf>=2.1.0 (from pytorch_tabular[extra])\n",
            "  Downloading omegaconf-2.3.0-py3-none-any.whl (79 kB)\n",
            "\u001b[2K     \u001b[90m━━━━━━━━━━━━━━━━━━━━━━━━━━━━━━━━━━━━━━━━\u001b[0m \u001b[32m79.5/79.5 kB\u001b[0m \u001b[31m7.8 MB/s\u001b[0m eta \u001b[36m0:00:00\u001b[0m\n",
            "\u001b[?25hCollecting torchmetrics<0.12.0,>=0.10.0 (from pytorch_tabular[extra])\n",
            "  Downloading torchmetrics-0.11.4-py3-none-any.whl (519 kB)\n",
            "\u001b[2K     \u001b[90m━━━━━━━━━━━━━━━━━━━━━━━━━━━━━━━━━━━━━━\u001b[0m \u001b[32m519.2/519.2 kB\u001b[0m \u001b[31m31.1 MB/s\u001b[0m eta \u001b[36m0:00:00\u001b[0m\n",
            "\u001b[?25hRequirement already satisfied: tensorboard!=2.5.0,>2.2.0 in /usr/local/lib/python3.10/dist-packages (from pytorch_tabular[extra]) (2.13.0)\n",
            "Requirement already satisfied: protobuf<4.23.0,>=3.20.0 in /usr/local/lib/python3.10/dist-packages (from pytorch_tabular[extra]) (3.20.3)\n",
            "Collecting pytorch-tabnet==4.0 (from pytorch_tabular[extra])\n",
            "  Downloading pytorch_tabnet-4.0-py3-none-any.whl (41 kB)\n",
            "\u001b[2K     \u001b[90m━━━━━━━━━━━━━━━━━━━━━━━━━━━━━━━━━━━━━━━━\u001b[0m \u001b[32m41.8/41.8 kB\u001b[0m \u001b[31m3.7 MB/s\u001b[0m eta \u001b[36m0:00:00\u001b[0m\n",
            "\u001b[?25hRequirement already satisfied: PyYAML<6.1.0,>=5.4 in /usr/local/lib/python3.10/dist-packages (from pytorch_tabular[extra]) (6.0.1)\n",
            "Requirement already satisfied: matplotlib>3.1 in /usr/local/lib/python3.10/dist-packages (from pytorch_tabular[extra]) (3.7.1)\n",
            "Requirement already satisfied: ipywidgets in /usr/local/lib/python3.10/dist-packages (from pytorch_tabular[extra]) (7.7.1)\n",
            "Collecting einops<0.7.0,>=0.6.0 (from pytorch_tabular[extra])\n",
            "  Downloading einops-0.6.1-py3-none-any.whl (42 kB)\n",
            "\u001b[2K     \u001b[90m━━━━━━━━━━━━━━━━━━━━━━━━━━━━━━━━━━━━━━━━\u001b[0m \u001b[32m42.2/42.2 kB\u001b[0m \u001b[31m3.9 MB/s\u001b[0m eta \u001b[36m0:00:00\u001b[0m\n",
            "\u001b[?25hRequirement already satisfied: rich>=11.0.0 in /usr/local/lib/python3.10/dist-packages (from pytorch_tabular[extra]) (13.6.0)\n",
            "Collecting wandb==0.13.* (from pytorch_tabular[extra])\n",
            "  Downloading wandb-0.13.11-py3-none-any.whl (2.0 MB)\n",
            "\u001b[2K     \u001b[90m━━━━━━━━━━━━━━━━━━━━━━━━━━━━━━━━━━━━━━━━\u001b[0m \u001b[32m2.0/2.0 MB\u001b[0m \u001b[31m54.5 MB/s\u001b[0m eta \u001b[36m0:00:00\u001b[0m\n",
            "\u001b[?25hCollecting plotly<5.15.0,>=5.13.0 (from pytorch_tabular[extra])\n",
            "  Downloading plotly-5.14.1-py2.py3-none-any.whl (15.3 MB)\n",
            "\u001b[2K     \u001b[90m━━━━━━━━━━━━━━━━━━━━━━━━━━━━━━━━━━━━━━━━\u001b[0m \u001b[32m15.3/15.3 MB\u001b[0m \u001b[31m70.4 MB/s\u001b[0m eta \u001b[36m0:00:00\u001b[0m\n",
            "\u001b[?25hCollecting kaleido==0.2.* (from pytorch_tabular[extra])\n",
            "  Downloading kaleido-0.2.1-py2.py3-none-manylinux1_x86_64.whl (79.9 MB)\n",
            "\u001b[2K     \u001b[90m━━━━━━━━━━━━━━━━━━━━━━━━━━━━━━━━━━━━━━━━\u001b[0m \u001b[32m79.9/79.9 MB\u001b[0m \u001b[31m10.0 MB/s\u001b[0m eta \u001b[36m0:00:00\u001b[0m\n",
            "\u001b[?25hRequirement already satisfied: scipy>1.4 in /usr/local/lib/python3.10/dist-packages (from pytorch-tabnet==4.0->pytorch_tabular[extra]) (1.11.3)\n",
            "Collecting torch>=1.9.0 (from pytorch_tabular[extra])\n",
            "  Downloading torch-1.13.1-cp310-cp310-manylinux1_x86_64.whl (887.5 MB)\n",
            "\u001b[2K     \u001b[90m━━━━━━━━━━━━━━━━━━━━━━━━━━━━━━━━━━━━━\u001b[0m \u001b[32m887.5/887.5 MB\u001b[0m \u001b[31m683.8 kB/s\u001b[0m eta \u001b[36m0:00:00\u001b[0m\n",
            "\u001b[?25hRequirement already satisfied: tqdm<5.0,>=4.36 in /usr/local/lib/python3.10/dist-packages (from pytorch-tabnet==4.0->pytorch_tabular[extra]) (4.66.1)\n",
            "Requirement already satisfied: Click!=8.0.0,>=7.0 in /usr/local/lib/python3.10/dist-packages (from wandb==0.13.*->pytorch_tabular[extra]) (8.1.7)\n",
            "Collecting GitPython!=3.1.29,>=1.0.0 (from wandb==0.13.*->pytorch_tabular[extra])\n",
            "  Downloading GitPython-3.1.37-py3-none-any.whl (190 kB)\n",
            "\u001b[2K     \u001b[90m━━━━━━━━━━━━━━━━━━━━━━━━━━━━━━━━━━━━━━\u001b[0m \u001b[32m190.0/190.0 kB\u001b[0m \u001b[31m15.0 MB/s\u001b[0m eta \u001b[36m0:00:00\u001b[0m\n",
            "\u001b[?25hRequirement already satisfied: requests<3,>=2.0.0 in /usr/local/lib/python3.10/dist-packages (from wandb==0.13.*->pytorch_tabular[extra]) (2.31.0)\n",
            "Requirement already satisfied: psutil>=5.0.0 in /usr/local/lib/python3.10/dist-packages (from wandb==0.13.*->pytorch_tabular[extra]) (5.9.5)\n",
            "Collecting sentry-sdk>=1.0.0 (from wandb==0.13.*->pytorch_tabular[extra])\n",
            "  Downloading sentry_sdk-1.32.0-py2.py3-none-any.whl (240 kB)\n",
            "\u001b[2K     \u001b[90m━━━━━━━━━━━━━━━━━━━━━━━━━━━━━━━━━━━━━━\u001b[0m \u001b[32m241.0/241.0 kB\u001b[0m \u001b[31m20.9 MB/s\u001b[0m eta \u001b[36m0:00:00\u001b[0m\n",
            "\u001b[?25hCollecting docker-pycreds>=0.4.0 (from wandb==0.13.*->pytorch_tabular[extra])\n",
            "  Downloading docker_pycreds-0.4.0-py2.py3-none-any.whl (9.0 kB)\n",
            "Collecting pathtools (from wandb==0.13.*->pytorch_tabular[extra])\n",
            "  Downloading pathtools-0.1.2.tar.gz (11 kB)\n",
            "  Preparing metadata (setup.py) ... \u001b[?25l\u001b[?25hdone\n",
            "Collecting setproctitle (from wandb==0.13.*->pytorch_tabular[extra])\n",
            "  Downloading setproctitle-1.3.3-cp310-cp310-manylinux_2_5_x86_64.manylinux1_x86_64.manylinux_2_17_x86_64.manylinux2014_x86_64.whl (30 kB)\n",
            "Requirement already satisfied: setuptools in /usr/local/lib/python3.10/dist-packages (from wandb==0.13.*->pytorch_tabular[extra]) (67.7.2)\n",
            "Requirement already satisfied: appdirs>=1.4.3 in /usr/local/lib/python3.10/dist-packages (from wandb==0.13.*->pytorch_tabular[extra]) (1.4.4)\n",
            "Requirement already satisfied: statsmodels>=0.9.0 in /usr/local/lib/python3.10/dist-packages (from category-encoders<2.7.0,>=2.6.0->pytorch_tabular[extra]) (0.14.0)\n",
            "Requirement already satisfied: patsy>=0.5.1 in /usr/local/lib/python3.10/dist-packages (from category-encoders<2.7.0,>=2.6.0->pytorch_tabular[extra]) (0.5.3)\n",
            "Requirement already satisfied: contourpy>=1.0.1 in /usr/local/lib/python3.10/dist-packages (from matplotlib>3.1->pytorch_tabular[extra]) (1.1.1)\n",
            "Requirement already satisfied: cycler>=0.10 in /usr/local/lib/python3.10/dist-packages (from matplotlib>3.1->pytorch_tabular[extra]) (0.12.0)\n",
            "Requirement already satisfied: fonttools>=4.22.0 in /usr/local/lib/python3.10/dist-packages (from matplotlib>3.1->pytorch_tabular[extra]) (4.43.1)\n",
            "Requirement already satisfied: kiwisolver>=1.0.1 in /usr/local/lib/python3.10/dist-packages (from matplotlib>3.1->pytorch_tabular[extra]) (1.4.5)\n",
            "Requirement already satisfied: packaging>=20.0 in /usr/local/lib/python3.10/dist-packages (from matplotlib>3.1->pytorch_tabular[extra]) (23.2)\n",
            "Requirement already satisfied: pillow>=6.2.0 in /usr/local/lib/python3.10/dist-packages (from matplotlib>3.1->pytorch_tabular[extra]) (9.4.0)\n",
            "Requirement already satisfied: pyparsing>=2.3.1 in /usr/local/lib/python3.10/dist-packages (from matplotlib>3.1->pytorch_tabular[extra]) (3.1.1)\n",
            "Requirement already satisfied: python-dateutil>=2.7 in /usr/local/lib/python3.10/dist-packages (from matplotlib>3.1->pytorch_tabular[extra]) (2.8.2)\n",
            "Collecting antlr4-python3-runtime==4.9.* (from omegaconf>=2.1.0->pytorch_tabular[extra])\n",
            "  Downloading antlr4-python3-runtime-4.9.3.tar.gz (117 kB)\n",
            "\u001b[2K     \u001b[90m━━━━━━━━━━━━━━━━━━━━━━━━━━━━━━━━━━━━━━━\u001b[0m \u001b[32m117.0/117.0 kB\u001b[0m \u001b[31m9.3 MB/s\u001b[0m eta \u001b[36m0:00:00\u001b[0m\n",
            "\u001b[?25h  Preparing metadata (setup.py) ... \u001b[?25l\u001b[?25hdone\n",
            "Requirement already satisfied: pytz>=2020.1 in /usr/local/lib/python3.10/dist-packages (from pandas>=1.1.5->pytorch_tabular[extra]) (2023.3.post1)\n",
            "Requirement already satisfied: tenacity>=6.2.0 in /usr/local/lib/python3.10/dist-packages (from plotly<5.15.0,>=5.13.0->pytorch_tabular[extra]) (8.2.3)\n",
            "Requirement already satisfied: fsspec[http]>2021.06.0 in /usr/local/lib/python3.10/dist-packages (from pytorch-lightning<2.0.0,>=1.8.0->pytorch_tabular[extra]) (2023.6.0)\n",
            "Requirement already satisfied: typing-extensions>=4.0.0 in /usr/local/lib/python3.10/dist-packages (from pytorch-lightning<2.0.0,>=1.8.0->pytorch_tabular[extra]) (4.5.0)\n",
            "Collecting lightning-utilities>=0.6.0.post0 (from pytorch-lightning<2.0.0,>=1.8.0->pytorch_tabular[extra])\n",
            "  Downloading lightning_utilities-0.9.0-py3-none-any.whl (23 kB)\n",
            "Requirement already satisfied: markdown-it-py>=2.2.0 in /usr/local/lib/python3.10/dist-packages (from rich>=11.0.0->pytorch_tabular[extra]) (3.0.0)\n",
            "Requirement already satisfied: pygments<3.0.0,>=2.13.0 in /usr/local/lib/python3.10/dist-packages (from rich>=11.0.0->pytorch_tabular[extra]) (2.16.1)\n",
            "Requirement already satisfied: joblib>=1.1.1 in /usr/local/lib/python3.10/dist-packages (from scikit-learn>=1.0.0->pytorch_tabular[extra]) (1.3.2)\n",
            "Requirement already satisfied: threadpoolctl>=2.0.0 in /usr/local/lib/python3.10/dist-packages (from scikit-learn>=1.0.0->pytorch_tabular[extra]) (3.2.0)\n",
            "Requirement already satisfied: absl-py>=0.4 in /usr/local/lib/python3.10/dist-packages (from tensorboard!=2.5.0,>2.2.0->pytorch_tabular[extra]) (1.4.0)\n",
            "Requirement already satisfied: grpcio>=1.48.2 in /usr/local/lib/python3.10/dist-packages (from tensorboard!=2.5.0,>2.2.0->pytorch_tabular[extra]) (1.59.0)\n",
            "Requirement already satisfied: google-auth<3,>=1.6.3 in /usr/local/lib/python3.10/dist-packages (from tensorboard!=2.5.0,>2.2.0->pytorch_tabular[extra]) (2.17.3)\n",
            "Requirement already satisfied: google-auth-oauthlib<1.1,>=0.5 in /usr/local/lib/python3.10/dist-packages (from tensorboard!=2.5.0,>2.2.0->pytorch_tabular[extra]) (1.0.0)\n",
            "Requirement already satisfied: markdown>=2.6.8 in /usr/local/lib/python3.10/dist-packages (from tensorboard!=2.5.0,>2.2.0->pytorch_tabular[extra]) (3.4.4)\n",
            "Requirement already satisfied: tensorboard-data-server<0.8.0,>=0.7.0 in /usr/local/lib/python3.10/dist-packages (from tensorboard!=2.5.0,>2.2.0->pytorch_tabular[extra]) (0.7.1)\n",
            "Requirement already satisfied: werkzeug>=1.0.1 in /usr/local/lib/python3.10/dist-packages (from tensorboard!=2.5.0,>2.2.0->pytorch_tabular[extra]) (3.0.0)\n",
            "Requirement already satisfied: wheel>=0.26 in /usr/local/lib/python3.10/dist-packages (from tensorboard!=2.5.0,>2.2.0->pytorch_tabular[extra]) (0.41.2)\n",
            "Collecting nvidia-cuda-runtime-cu11==11.7.99 (from torch>=1.9.0->pytorch_tabular[extra])\n",
            "  Downloading nvidia_cuda_runtime_cu11-11.7.99-py3-none-manylinux1_x86_64.whl (849 kB)\n",
            "\u001b[2K     \u001b[90m━━━━━━━━━━━━━━━━━━━━━━━━━━━━━━━━━━━━━━\u001b[0m \u001b[32m849.3/849.3 kB\u001b[0m \u001b[31m42.8 MB/s\u001b[0m eta \u001b[36m0:00:00\u001b[0m\n",
            "\u001b[?25hCollecting nvidia-cudnn-cu11==8.5.0.96 (from torch>=1.9.0->pytorch_tabular[extra])\n",
            "  Downloading nvidia_cudnn_cu11-8.5.0.96-2-py3-none-manylinux1_x86_64.whl (557.1 MB)\n",
            "\u001b[2K     \u001b[90m━━━━━━━━━━━━━━━━━━━━━━━━━━━━━━━━━━━━━━━\u001b[0m \u001b[32m557.1/557.1 MB\u001b[0m \u001b[31m2.5 MB/s\u001b[0m eta \u001b[36m0:00:00\u001b[0m\n",
            "\u001b[?25hCollecting nvidia-cublas-cu11==11.10.3.66 (from torch>=1.9.0->pytorch_tabular[extra])\n",
            "  Downloading nvidia_cublas_cu11-11.10.3.66-py3-none-manylinux1_x86_64.whl (317.1 MB)\n",
            "\u001b[2K     \u001b[90m━━━━━━━━━━━━━━━━━━━━━━━━━━━━━━━━━━━━━━━\u001b[0m \u001b[32m317.1/317.1 MB\u001b[0m \u001b[31m2.7 MB/s\u001b[0m eta \u001b[36m0:00:00\u001b[0m\n",
            "\u001b[?25hCollecting nvidia-cuda-nvrtc-cu11==11.7.99 (from torch>=1.9.0->pytorch_tabular[extra])\n",
            "  Downloading nvidia_cuda_nvrtc_cu11-11.7.99-2-py3-none-manylinux1_x86_64.whl (21.0 MB)\n",
            "\u001b[2K     \u001b[90m━━━━━━━━━━━━━━━━━━━━━━━━━━━━━━━━━━━━━━━━\u001b[0m \u001b[32m21.0/21.0 MB\u001b[0m \u001b[31m67.5 MB/s\u001b[0m eta \u001b[36m0:00:00\u001b[0m\n",
            "\u001b[?25hRequirement already satisfied: ipykernel>=4.5.1 in /usr/local/lib/python3.10/dist-packages (from ipywidgets->pytorch_tabular[extra]) (5.5.6)\n",
            "Requirement already satisfied: ipython-genutils~=0.2.0 in /usr/local/lib/python3.10/dist-packages (from ipywidgets->pytorch_tabular[extra]) (0.2.0)\n",
            "Requirement already satisfied: traitlets>=4.3.1 in /usr/local/lib/python3.10/dist-packages (from ipywidgets->pytorch_tabular[extra]) (5.7.1)\n",
            "Requirement already satisfied: widgetsnbextension~=3.6.0 in /usr/local/lib/python3.10/dist-packages (from ipywidgets->pytorch_tabular[extra]) (3.6.6)\n",
            "Requirement already satisfied: ipython>=4.0.0 in /usr/local/lib/python3.10/dist-packages (from ipywidgets->pytorch_tabular[extra]) (7.34.0)\n",
            "Requirement already satisfied: jupyterlab-widgets>=1.0.0 in /usr/local/lib/python3.10/dist-packages (from ipywidgets->pytorch_tabular[extra]) (3.0.9)\n",
            "Requirement already satisfied: six>=1.4.0 in /usr/local/lib/python3.10/dist-packages (from docker-pycreds>=0.4.0->wandb==0.13.*->pytorch_tabular[extra]) (1.16.0)\n",
            "Requirement already satisfied: aiohttp!=4.0.0a0,!=4.0.0a1 in /usr/local/lib/python3.10/dist-packages (from fsspec[http]>2021.06.0->pytorch-lightning<2.0.0,>=1.8.0->pytorch_tabular[extra]) (3.8.5)\n",
            "Collecting gitdb<5,>=4.0.1 (from GitPython!=3.1.29,>=1.0.0->wandb==0.13.*->pytorch_tabular[extra])\n",
            "  Downloading gitdb-4.0.10-py3-none-any.whl (62 kB)\n",
            "\u001b[2K     \u001b[90m━━━━━━━━━━━━━━━━━━━━━━━━━━━━━━━━━━━━━━━━\u001b[0m \u001b[32m62.7/62.7 kB\u001b[0m \u001b[31m6.1 MB/s\u001b[0m eta \u001b[36m0:00:00\u001b[0m\n",
            "\u001b[?25hRequirement already satisfied: cachetools<6.0,>=2.0.0 in /usr/local/lib/python3.10/dist-packages (from google-auth<3,>=1.6.3->tensorboard!=2.5.0,>2.2.0->pytorch_tabular[extra]) (5.3.1)\n",
            "Requirement already satisfied: pyasn1-modules>=0.2.1 in /usr/local/lib/python3.10/dist-packages (from google-auth<3,>=1.6.3->tensorboard!=2.5.0,>2.2.0->pytorch_tabular[extra]) (0.3.0)\n",
            "Requirement already satisfied: rsa<5,>=3.1.4 in /usr/local/lib/python3.10/dist-packages (from google-auth<3,>=1.6.3->tensorboard!=2.5.0,>2.2.0->pytorch_tabular[extra]) (4.9)\n",
            "Requirement already satisfied: requests-oauthlib>=0.7.0 in /usr/local/lib/python3.10/dist-packages (from google-auth-oauthlib<1.1,>=0.5->tensorboard!=2.5.0,>2.2.0->pytorch_tabular[extra]) (1.3.1)\n",
            "Requirement already satisfied: jupyter-client in /usr/local/lib/python3.10/dist-packages (from ipykernel>=4.5.1->ipywidgets->pytorch_tabular[extra]) (6.1.12)\n",
            "Requirement already satisfied: tornado>=4.2 in /usr/local/lib/python3.10/dist-packages (from ipykernel>=4.5.1->ipywidgets->pytorch_tabular[extra]) (6.3.2)\n",
            "Collecting jedi>=0.16 (from ipython>=4.0.0->ipywidgets->pytorch_tabular[extra])\n",
            "  Downloading jedi-0.19.1-py2.py3-none-any.whl (1.6 MB)\n",
            "\u001b[2K     \u001b[90m━━━━━━━━━━━━━━━━━━━━━━━━━━━━━━━━━━━━━━━━\u001b[0m \u001b[32m1.6/1.6 MB\u001b[0m \u001b[31m67.3 MB/s\u001b[0m eta \u001b[36m0:00:00\u001b[0m\n",
            "\u001b[?25hRequirement already satisfied: decorator in /usr/local/lib/python3.10/dist-packages (from ipython>=4.0.0->ipywidgets->pytorch_tabular[extra]) (4.4.2)\n",
            "Requirement already satisfied: pickleshare in /usr/local/lib/python3.10/dist-packages (from ipython>=4.0.0->ipywidgets->pytorch_tabular[extra]) (0.7.5)\n",
            "Requirement already satisfied: prompt-toolkit!=3.0.0,!=3.0.1,<3.1.0,>=2.0.0 in /usr/local/lib/python3.10/dist-packages (from ipython>=4.0.0->ipywidgets->pytorch_tabular[extra]) (3.0.39)\n",
            "Requirement already satisfied: backcall in /usr/local/lib/python3.10/dist-packages (from ipython>=4.0.0->ipywidgets->pytorch_tabular[extra]) (0.2.0)\n",
            "Requirement already satisfied: matplotlib-inline in /usr/local/lib/python3.10/dist-packages (from ipython>=4.0.0->ipywidgets->pytorch_tabular[extra]) (0.1.6)\n",
            "Requirement already satisfied: pexpect>4.3 in /usr/local/lib/python3.10/dist-packages (from ipython>=4.0.0->ipywidgets->pytorch_tabular[extra]) (4.8.0)\n",
            "Requirement already satisfied: mdurl~=0.1 in /usr/local/lib/python3.10/dist-packages (from markdown-it-py>=2.2.0->rich>=11.0.0->pytorch_tabular[extra]) (0.1.2)\n",
            "Requirement already satisfied: charset-normalizer<4,>=2 in /usr/local/lib/python3.10/dist-packages (from requests<3,>=2.0.0->wandb==0.13.*->pytorch_tabular[extra]) (3.3.0)\n",
            "Requirement already satisfied: idna<4,>=2.5 in /usr/local/lib/python3.10/dist-packages (from requests<3,>=2.0.0->wandb==0.13.*->pytorch_tabular[extra]) (3.4)\n",
            "Requirement already satisfied: urllib3<3,>=1.21.1 in /usr/local/lib/python3.10/dist-packages (from requests<3,>=2.0.0->wandb==0.13.*->pytorch_tabular[extra]) (2.0.6)\n",
            "Requirement already satisfied: certifi>=2017.4.17 in /usr/local/lib/python3.10/dist-packages (from requests<3,>=2.0.0->wandb==0.13.*->pytorch_tabular[extra]) (2023.7.22)\n",
            "Requirement already satisfied: MarkupSafe>=2.1.1 in /usr/local/lib/python3.10/dist-packages (from werkzeug>=1.0.1->tensorboard!=2.5.0,>2.2.0->pytorch_tabular[extra]) (2.1.3)\n",
            "Requirement already satisfied: notebook>=4.4.1 in /usr/local/lib/python3.10/dist-packages (from widgetsnbextension~=3.6.0->ipywidgets->pytorch_tabular[extra]) (6.5.5)\n",
            "Requirement already satisfied: attrs>=17.3.0 in /usr/local/lib/python3.10/dist-packages (from aiohttp!=4.0.0a0,!=4.0.0a1->fsspec[http]>2021.06.0->pytorch-lightning<2.0.0,>=1.8.0->pytorch_tabular[extra]) (23.1.0)\n",
            "Requirement already satisfied: multidict<7.0,>=4.5 in /usr/local/lib/python3.10/dist-packages (from aiohttp!=4.0.0a0,!=4.0.0a1->fsspec[http]>2021.06.0->pytorch-lightning<2.0.0,>=1.8.0->pytorch_tabular[extra]) (6.0.4)\n",
            "Requirement already satisfied: async-timeout<5.0,>=4.0.0a3 in /usr/local/lib/python3.10/dist-packages (from aiohttp!=4.0.0a0,!=4.0.0a1->fsspec[http]>2021.06.0->pytorch-lightning<2.0.0,>=1.8.0->pytorch_tabular[extra]) (4.0.3)\n",
            "Requirement already satisfied: yarl<2.0,>=1.0 in /usr/local/lib/python3.10/dist-packages (from aiohttp!=4.0.0a0,!=4.0.0a1->fsspec[http]>2021.06.0->pytorch-lightning<2.0.0,>=1.8.0->pytorch_tabular[extra]) (1.9.2)\n",
            "Requirement already satisfied: frozenlist>=1.1.1 in /usr/local/lib/python3.10/dist-packages (from aiohttp!=4.0.0a0,!=4.0.0a1->fsspec[http]>2021.06.0->pytorch-lightning<2.0.0,>=1.8.0->pytorch_tabular[extra]) (1.4.0)\n",
            "Requirement already satisfied: aiosignal>=1.1.2 in /usr/local/lib/python3.10/dist-packages (from aiohttp!=4.0.0a0,!=4.0.0a1->fsspec[http]>2021.06.0->pytorch-lightning<2.0.0,>=1.8.0->pytorch_tabular[extra]) (1.3.1)\n",
            "Collecting smmap<6,>=3.0.1 (from gitdb<5,>=4.0.1->GitPython!=3.1.29,>=1.0.0->wandb==0.13.*->pytorch_tabular[extra])\n",
            "  Downloading smmap-5.0.1-py3-none-any.whl (24 kB)\n",
            "Requirement already satisfied: parso<0.9.0,>=0.8.3 in /usr/local/lib/python3.10/dist-packages (from jedi>=0.16->ipython>=4.0.0->ipywidgets->pytorch_tabular[extra]) (0.8.3)\n",
            "Requirement already satisfied: jinja2 in /usr/local/lib/python3.10/dist-packages (from notebook>=4.4.1->widgetsnbextension~=3.6.0->ipywidgets->pytorch_tabular[extra]) (3.1.2)\n",
            "Requirement already satisfied: pyzmq<25,>=17 in /usr/local/lib/python3.10/dist-packages (from notebook>=4.4.1->widgetsnbextension~=3.6.0->ipywidgets->pytorch_tabular[extra]) (23.2.1)\n",
            "Requirement already satisfied: argon2-cffi in /usr/local/lib/python3.10/dist-packages (from notebook>=4.4.1->widgetsnbextension~=3.6.0->ipywidgets->pytorch_tabular[extra]) (23.1.0)\n",
            "Requirement already satisfied: jupyter-core>=4.6.1 in /usr/local/lib/python3.10/dist-packages (from notebook>=4.4.1->widgetsnbextension~=3.6.0->ipywidgets->pytorch_tabular[extra]) (5.3.2)\n",
            "Requirement already satisfied: nbformat in /usr/local/lib/python3.10/dist-packages (from notebook>=4.4.1->widgetsnbextension~=3.6.0->ipywidgets->pytorch_tabular[extra]) (5.9.2)\n",
            "Requirement already satisfied: nbconvert>=5 in /usr/local/lib/python3.10/dist-packages (from notebook>=4.4.1->widgetsnbextension~=3.6.0->ipywidgets->pytorch_tabular[extra]) (6.5.4)\n",
            "Requirement already satisfied: nest-asyncio>=1.5 in /usr/local/lib/python3.10/dist-packages (from notebook>=4.4.1->widgetsnbextension~=3.6.0->ipywidgets->pytorch_tabular[extra]) (1.5.8)\n",
            "Requirement already satisfied: Send2Trash>=1.8.0 in /usr/local/lib/python3.10/dist-packages (from notebook>=4.4.1->widgetsnbextension~=3.6.0->ipywidgets->pytorch_tabular[extra]) (1.8.2)\n",
            "Requirement already satisfied: terminado>=0.8.3 in /usr/local/lib/python3.10/dist-packages (from notebook>=4.4.1->widgetsnbextension~=3.6.0->ipywidgets->pytorch_tabular[extra]) (0.17.1)\n",
            "Requirement already satisfied: prometheus-client in /usr/local/lib/python3.10/dist-packages (from notebook>=4.4.1->widgetsnbextension~=3.6.0->ipywidgets->pytorch_tabular[extra]) (0.17.1)\n",
            "Requirement already satisfied: nbclassic>=0.4.7 in /usr/local/lib/python3.10/dist-packages (from notebook>=4.4.1->widgetsnbextension~=3.6.0->ipywidgets->pytorch_tabular[extra]) (1.0.0)\n",
            "Requirement already satisfied: ptyprocess>=0.5 in /usr/local/lib/python3.10/dist-packages (from pexpect>4.3->ipython>=4.0.0->ipywidgets->pytorch_tabular[extra]) (0.7.0)\n",
            "Requirement already satisfied: wcwidth in /usr/local/lib/python3.10/dist-packages (from prompt-toolkit!=3.0.0,!=3.0.1,<3.1.0,>=2.0.0->ipython>=4.0.0->ipywidgets->pytorch_tabular[extra]) (0.2.8)\n",
            "Requirement already satisfied: pyasn1<0.6.0,>=0.4.6 in /usr/local/lib/python3.10/dist-packages (from pyasn1-modules>=0.2.1->google-auth<3,>=1.6.3->tensorboard!=2.5.0,>2.2.0->pytorch_tabular[extra]) (0.5.0)\n",
            "Requirement already satisfied: oauthlib>=3.0.0 in /usr/local/lib/python3.10/dist-packages (from requests-oauthlib>=0.7.0->google-auth-oauthlib<1.1,>=0.5->tensorboard!=2.5.0,>2.2.0->pytorch_tabular[extra]) (3.2.2)\n",
            "Requirement already satisfied: platformdirs>=2.5 in /usr/local/lib/python3.10/dist-packages (from jupyter-core>=4.6.1->notebook>=4.4.1->widgetsnbextension~=3.6.0->ipywidgets->pytorch_tabular[extra]) (3.11.0)\n",
            "Requirement already satisfied: jupyter-server>=1.8 in /usr/local/lib/python3.10/dist-packages (from nbclassic>=0.4.7->notebook>=4.4.1->widgetsnbextension~=3.6.0->ipywidgets->pytorch_tabular[extra]) (1.24.0)\n",
            "Requirement already satisfied: notebook-shim>=0.2.3 in /usr/local/lib/python3.10/dist-packages (from nbclassic>=0.4.7->notebook>=4.4.1->widgetsnbextension~=3.6.0->ipywidgets->pytorch_tabular[extra]) (0.2.3)\n",
            "Requirement already satisfied: lxml in /usr/local/lib/python3.10/dist-packages (from nbconvert>=5->notebook>=4.4.1->widgetsnbextension~=3.6.0->ipywidgets->pytorch_tabular[extra]) (4.9.3)\n",
            "Requirement already satisfied: beautifulsoup4 in /usr/local/lib/python3.10/dist-packages (from nbconvert>=5->notebook>=4.4.1->widgetsnbextension~=3.6.0->ipywidgets->pytorch_tabular[extra]) (4.11.2)\n",
            "Requirement already satisfied: bleach in /usr/local/lib/python3.10/dist-packages (from nbconvert>=5->notebook>=4.4.1->widgetsnbextension~=3.6.0->ipywidgets->pytorch_tabular[extra]) (6.0.0)\n",
            "Requirement already satisfied: defusedxml in /usr/local/lib/python3.10/dist-packages (from nbconvert>=5->notebook>=4.4.1->widgetsnbextension~=3.6.0->ipywidgets->pytorch_tabular[extra]) (0.7.1)\n",
            "Requirement already satisfied: entrypoints>=0.2.2 in /usr/local/lib/python3.10/dist-packages (from nbconvert>=5->notebook>=4.4.1->widgetsnbextension~=3.6.0->ipywidgets->pytorch_tabular[extra]) (0.4)\n",
            "Requirement already satisfied: jupyterlab-pygments in /usr/local/lib/python3.10/dist-packages (from nbconvert>=5->notebook>=4.4.1->widgetsnbextension~=3.6.0->ipywidgets->pytorch_tabular[extra]) (0.2.2)\n",
            "Requirement already satisfied: mistune<2,>=0.8.1 in /usr/local/lib/python3.10/dist-packages (from nbconvert>=5->notebook>=4.4.1->widgetsnbextension~=3.6.0->ipywidgets->pytorch_tabular[extra]) (0.8.4)\n",
            "Requirement already satisfied: nbclient>=0.5.0 in /usr/local/lib/python3.10/dist-packages (from nbconvert>=5->notebook>=4.4.1->widgetsnbextension~=3.6.0->ipywidgets->pytorch_tabular[extra]) (0.8.0)\n",
            "Requirement already satisfied: pandocfilters>=1.4.1 in /usr/local/lib/python3.10/dist-packages (from nbconvert>=5->notebook>=4.4.1->widgetsnbextension~=3.6.0->ipywidgets->pytorch_tabular[extra]) (1.5.0)\n",
            "Requirement already satisfied: tinycss2 in /usr/local/lib/python3.10/dist-packages (from nbconvert>=5->notebook>=4.4.1->widgetsnbextension~=3.6.0->ipywidgets->pytorch_tabular[extra]) (1.2.1)\n",
            "Requirement already satisfied: fastjsonschema in /usr/local/lib/python3.10/dist-packages (from nbformat->notebook>=4.4.1->widgetsnbextension~=3.6.0->ipywidgets->pytorch_tabular[extra]) (2.18.1)\n",
            "Requirement already satisfied: jsonschema>=2.6 in /usr/local/lib/python3.10/dist-packages (from nbformat->notebook>=4.4.1->widgetsnbextension~=3.6.0->ipywidgets->pytorch_tabular[extra]) (4.19.1)\n",
            "Requirement already satisfied: argon2-cffi-bindings in /usr/local/lib/python3.10/dist-packages (from argon2-cffi->notebook>=4.4.1->widgetsnbextension~=3.6.0->ipywidgets->pytorch_tabular[extra]) (21.2.0)\n",
            "Requirement already satisfied: jsonschema-specifications>=2023.03.6 in /usr/local/lib/python3.10/dist-packages (from jsonschema>=2.6->nbformat->notebook>=4.4.1->widgetsnbextension~=3.6.0->ipywidgets->pytorch_tabular[extra]) (2023.7.1)\n",
            "Requirement already satisfied: referencing>=0.28.4 in /usr/local/lib/python3.10/dist-packages (from jsonschema>=2.6->nbformat->notebook>=4.4.1->widgetsnbextension~=3.6.0->ipywidgets->pytorch_tabular[extra]) (0.30.2)\n",
            "Requirement already satisfied: rpds-py>=0.7.1 in /usr/local/lib/python3.10/dist-packages (from jsonschema>=2.6->nbformat->notebook>=4.4.1->widgetsnbextension~=3.6.0->ipywidgets->pytorch_tabular[extra]) (0.10.4)\n",
            "Requirement already satisfied: anyio<4,>=3.1.0 in /usr/local/lib/python3.10/dist-packages (from jupyter-server>=1.8->nbclassic>=0.4.7->notebook>=4.4.1->widgetsnbextension~=3.6.0->ipywidgets->pytorch_tabular[extra]) (3.7.1)\n",
            "Requirement already satisfied: websocket-client in /usr/local/lib/python3.10/dist-packages (from jupyter-server>=1.8->nbclassic>=0.4.7->notebook>=4.4.1->widgetsnbextension~=3.6.0->ipywidgets->pytorch_tabular[extra]) (1.6.3)\n",
            "Requirement already satisfied: cffi>=1.0.1 in /usr/local/lib/python3.10/dist-packages (from argon2-cffi-bindings->argon2-cffi->notebook>=4.4.1->widgetsnbextension~=3.6.0->ipywidgets->pytorch_tabular[extra]) (1.16.0)\n",
            "Requirement already satisfied: soupsieve>1.2 in /usr/local/lib/python3.10/dist-packages (from beautifulsoup4->nbconvert>=5->notebook>=4.4.1->widgetsnbextension~=3.6.0->ipywidgets->pytorch_tabular[extra]) (2.5)\n",
            "Requirement already satisfied: webencodings in /usr/local/lib/python3.10/dist-packages (from bleach->nbconvert>=5->notebook>=4.4.1->widgetsnbextension~=3.6.0->ipywidgets->pytorch_tabular[extra]) (0.5.1)\n",
            "Requirement already satisfied: sniffio>=1.1 in /usr/local/lib/python3.10/dist-packages (from anyio<4,>=3.1.0->jupyter-server>=1.8->nbclassic>=0.4.7->notebook>=4.4.1->widgetsnbextension~=3.6.0->ipywidgets->pytorch_tabular[extra]) (1.3.0)\n",
            "Requirement already satisfied: exceptiongroup in /usr/local/lib/python3.10/dist-packages (from anyio<4,>=3.1.0->jupyter-server>=1.8->nbclassic>=0.4.7->notebook>=4.4.1->widgetsnbextension~=3.6.0->ipywidgets->pytorch_tabular[extra]) (1.1.3)\n",
            "Requirement already satisfied: pycparser in /usr/local/lib/python3.10/dist-packages (from cffi>=1.0.1->argon2-cffi-bindings->argon2-cffi->notebook>=4.4.1->widgetsnbextension~=3.6.0->ipywidgets->pytorch_tabular[extra]) (2.21)\n",
            "Building wheels for collected packages: antlr4-python3-runtime, pathtools\n",
            "  Building wheel for antlr4-python3-runtime (setup.py) ... \u001b[?25l\u001b[?25hdone\n",
            "  Created wheel for antlr4-python3-runtime: filename=antlr4_python3_runtime-4.9.3-py3-none-any.whl size=144554 sha256=b090e1058598e7567cdefb04410055c8152d79be0200a594b135cf1b9c0ed21c\n",
            "  Stored in directory: /root/.cache/pip/wheels/12/93/dd/1f6a127edc45659556564c5730f6d4e300888f4bca2d4c5a88\n",
            "  Building wheel for pathtools (setup.py) ... \u001b[?25l\u001b[?25hdone\n",
            "  Created wheel for pathtools: filename=pathtools-0.1.2-py3-none-any.whl size=8791 sha256=7cdb049fafde4b737bc88fd10cf7ba74c4c789d4d2c3f392eae1751725172eaa\n",
            "  Stored in directory: /root/.cache/pip/wheels/e7/f3/22/152153d6eb222ee7a56ff8617d80ee5207207a8c00a7aab794\n",
            "Successfully built antlr4-python3-runtime pathtools\n",
            "Installing collected packages: pathtools, kaleido, antlr4-python3-runtime, smmap, setproctitle, sentry-sdk, plotly, omegaconf, nvidia-cuda-runtime-cu11, nvidia-cuda-nvrtc-cu11, nvidia-cublas-cu11, lightning-utilities, jedi, einops, docker-pycreds, nvidia-cudnn-cu11, gitdb, torch, GitPython, wandb, torchmetrics, pytorch-tabnet, category-encoders, pytorch-lightning, pytorch_tabular\n",
            "  Attempting uninstall: plotly\n",
            "    Found existing installation: plotly 5.15.0\n",
            "    Uninstalling plotly-5.15.0:\n",
            "      Successfully uninstalled plotly-5.15.0\n",
            "  Attempting uninstall: torch\n",
            "    Found existing installation: torch 2.0.1+cu118\n",
            "    Uninstalling torch-2.0.1+cu118:\n",
            "      Successfully uninstalled torch-2.0.1+cu118\n",
            "\u001b[31mERROR: pip's dependency resolver does not currently take into account all the packages that are installed. This behaviour is the source of the following dependency conflicts.\n",
            "torchaudio 2.0.2+cu118 requires torch==2.0.1, but you have torch 1.13.1 which is incompatible.\n",
            "torchdata 0.6.1 requires torch==2.0.1, but you have torch 1.13.1 which is incompatible.\n",
            "torchtext 0.15.2 requires torch==2.0.1, but you have torch 1.13.1 which is incompatible.\n",
            "torchvision 0.15.2+cu118 requires torch==2.0.1, but you have torch 1.13.1 which is incompatible.\u001b[0m\u001b[31m\n",
            "\u001b[0mSuccessfully installed GitPython-3.1.37 antlr4-python3-runtime-4.9.3 category-encoders-2.6.2 docker-pycreds-0.4.0 einops-0.6.1 gitdb-4.0.10 jedi-0.19.1 kaleido-0.2.1 lightning-utilities-0.9.0 nvidia-cublas-cu11-11.10.3.66 nvidia-cuda-nvrtc-cu11-11.7.99 nvidia-cuda-runtime-cu11-11.7.99 nvidia-cudnn-cu11-8.5.0.96 omegaconf-2.3.0 pathtools-0.1.2 plotly-5.14.1 pytorch-lightning-1.9.5 pytorch-tabnet-4.0 pytorch_tabular-1.0.2 sentry-sdk-1.32.0 setproctitle-1.3.3 smmap-5.0.1 torch-1.13.1 torchmetrics-0.11.4 wandb-0.13.11\n"
          ]
        },
        {
          "output_type": "display_data",
          "data": {
            "application/vnd.colab-display-data+json": {
              "pip_warning": {
                "packages": [
                  "pydevd_plugins"
                ]
              }
            }
          },
          "metadata": {}
        }
      ],
      "source": [
        "!pip install pytorch_tabular[extra]"
      ]
    },
    {
      "cell_type": "code",
      "execution_count": 17,
      "metadata": {
        "id": "Jr6P3U7w3NVl"
      },
      "outputs": [],
      "source": [
        "SEED = 42\n",
        "\n",
        "import os\n",
        "\n",
        "import random\n",
        "random.seed(SEED)\n",
        "\n",
        "import numpy as np\n",
        "np.random.seed(SEED)\n",
        "\n",
        "import pandas as pd\n",
        "\n",
        "from pytorch_tabular import TabularModel\n",
        "from pytorch_tabular.models import CategoryEmbeddingModelConfig\n",
        "from pytorch_tabular.config import (\n",
        "    DataConfig,\n",
        "    OptimizerConfig,\n",
        "    TrainerConfig,\n",
        ")"
      ]
    },
    {
      "cell_type": "markdown",
      "metadata": {
        "id": "zGyEWcVlqKTz"
      },
      "source": [
        "> Divide the dataset (‘hdb_price_prediction.csv’) into train, validation and test sets by using entries from year 2019 and before as training data, year 2020 as validation data and year 2021 as test data.\n",
        "**Do not** use data from year 2022 and year 2023.\n",
        "\n"
      ]
    },
    {
      "cell_type": "code",
      "execution_count": 18,
      "metadata": {
        "id": "hoCPcOWupw5Y"
      },
      "outputs": [],
      "source": [
        "df = pd.read_csv('hdb_price_prediction.csv')\n",
        "\n",
        "# TODO: Enter your code here\n",
        "# year 2019 and before as training data\n",
        "df_train = df[df['year'] <= 2019]\n",
        "# year 2020 as validation data\n",
        "df_validation = df[df['year'] == 2020]\n",
        "# year 2021 as test data\n",
        "df_test = df[df['year'] == 2021]"
      ]
    },
    {
      "cell_type": "code",
      "source": [],
      "metadata": {
        "id": "FCN1MZGoDrig"
      },
      "execution_count": 18,
      "outputs": []
    },
    {
      "cell_type": "markdown",
      "metadata": {
        "id": "sebMgSuzqPe7"
      },
      "source": [
        "> Refer to the documentation of **PyTorch Tabular** and perform the following tasks: https://pytorch-tabular.readthedocs.io/en/latest/#usage\n",
        "- Use **[DataConfig](https://pytorch-tabular.readthedocs.io/en/latest/data/)** to define the target variable, as well as the names of the continuous and categorical variables.\n",
        "- Use **[TrainerConfig](https://pytorch-tabular.readthedocs.io/en/latest/training/)** to automatically tune the learning rate. Set batch_size to be 1024 and set max_epoch as 50.\n",
        "- Use **[CategoryEmbeddingModelConfig](https://pytorch-tabular.readthedocs.io/en/latest/models/#category-embedding-model)** to create a feedforward neural network with 1 hidden layer containing 50 neurons.\n",
        "- Use **[OptimizerConfig](https://pytorch-tabular.readthedocs.io/en/latest/optimizer/)** to choose Adam optimiser. There is no need to set the learning rate (since it will be tuned automatically) nor scheduler.\n",
        "- Use **[TabularModel](https://pytorch-tabular.readthedocs.io/en/latest/tabular_model/)** to initialise the model and put all the configs together."
      ]
    },
    {
      "cell_type": "code",
      "execution_count": 19,
      "metadata": {
        "id": "ZZWAYdNhqPzh",
        "colab": {
          "base_uri": "https://localhost:8080/",
          "height": 1000,
          "referenced_widgets": [
            "11988f311a3b41189509f12ac897e0bd",
            "e59a563f07b44fada362140037de3770",
            "b71c1fc9affe49ab8b7724ff1d713d16",
            "ea1db08fe2fe4af182012f9950dca5c0",
            "ca6bd83a96bc47e4ba79e20140bda09f",
            "2047e0d69ea94442bf9b6a8a0d80d10a",
            "1a6d05631efb4fc6922a3469be8e1fa3",
            "a9aafd2e22264d75b92aba343ba17fcc",
            "3d21e688bac44b1bae997971931fb13f",
            "fa1cbf5faa0f4722a3c73f0217a09ed3",
            "5657c3befc47471e8018d84c9fdb7816",
            "eddf3b87f56e4116bde44a24514c5a46",
            "54fd91e9b6954654b3f03f7bb3abef43",
            "b4fea576e4f8428997c736373fe6db86",
            "a3981dea00bc4d4daa85247a6fb41467",
            "b56599e4b4484676aee189c754ffe404",
            "bc107e6d3430460aaad7a7821d8938ba"
          ]
        },
        "outputId": "1b9aa4a5-d0b9-495e-adcc-565f51531d56"
      },
      "outputs": [
        {
          "output_type": "stream",
          "name": "stderr",
          "text": [
            "2023-10-12 16:21:53,734 - {pytorch_tabular.tabular_model:105} - INFO - Experiment Tracking is turned off\n",
            "INFO:pytorch_tabular.tabular_model:Experiment Tracking is turned off\n",
            "INFO:lightning_fabric.utilities.seed:Global seed set to 42\n",
            "2023-10-12 16:21:53,778 - {pytorch_tabular.tabular_model:473} - INFO - Preparing the DataLoaders\n",
            "INFO:pytorch_tabular.tabular_model:Preparing the DataLoaders\n",
            "2023-10-12 16:21:53,786 - {pytorch_tabular.tabular_datamodule:290} - INFO - Setting up the datamodule for regression task\n",
            "INFO:pytorch_tabular.tabular_datamodule:Setting up the datamodule for regression task\n",
            "2023-10-12 16:21:54,108 - {pytorch_tabular.tabular_model:521} - INFO - Preparing the Model: CategoryEmbeddingModel\n",
            "INFO:pytorch_tabular.tabular_model:Preparing the Model: CategoryEmbeddingModel\n",
            "2023-10-12 16:21:54,177 - {pytorch_tabular.tabular_model:268} - INFO - Preparing the Trainer\n",
            "INFO:pytorch_tabular.tabular_model:Preparing the Trainer\n",
            "/usr/local/lib/python3.10/dist-packages/pytorch_lightning/trainer/connectors/accelerator_connector.py:589: LightningDeprecationWarning: The Trainer argument `auto_select_gpus` has been deprecated in v1.9.0 and will be removed in v2.0.0. Please use the function `pytorch_lightning.accelerators.find_usable_cuda_devices` instead.\n",
            "  rank_zero_deprecation(\n",
            "INFO:pytorch_lightning.utilities.rank_zero:GPU available: False, used: False\n",
            "INFO:pytorch_lightning.utilities.rank_zero:TPU available: False, using: 0 TPU cores\n",
            "INFO:pytorch_lightning.utilities.rank_zero:IPU available: False, using: 0 IPUs\n",
            "INFO:pytorch_lightning.utilities.rank_zero:HPU available: False, using: 0 HPUs\n",
            "2023-10-12 16:21:54,285 - {pytorch_tabular.tabular_model:573} - INFO - Auto LR Find Started\n",
            "INFO:pytorch_tabular.tabular_model:Auto LR Find Started\n",
            "/usr/local/lib/python3.10/dist-packages/pytorch_lightning/callbacks/model_checkpoint.py:613: UserWarning: Checkpoint directory /content/saved_models exists and is not empty.\n",
            "  rank_zero_warn(f\"Checkpoint directory {dirpath} exists and is not empty.\")\n",
            "/usr/local/lib/python3.10/dist-packages/pytorch_lightning/core/module.py:493: UserWarning: You called `self.log('valid_loss', ..., logger=True)` but have no logger configured. You can enable one by doing `Trainer(logger=ALogger(...))`\n",
            "  rank_zero_warn(\n",
            "/usr/local/lib/python3.10/dist-packages/pytorch_lightning/core/module.py:493: UserWarning: You called `self.log('valid_mean_squared_error', ..., logger=True)` but have no logger configured. You can enable one by doing `Trainer(logger=ALogger(...))`\n",
            "  rank_zero_warn(\n"
          ]
        },
        {
          "output_type": "display_data",
          "data": {
            "text/plain": [
              "Finding best initial lr:   0%|          | 0/100 [00:00<?, ?it/s]"
            ],
            "application/vnd.jupyter.widget-view+json": {
              "version_major": 2,
              "version_minor": 0,
              "model_id": "11988f311a3b41189509f12ac897e0bd"
            }
          },
          "metadata": {}
        },
        {
          "output_type": "stream",
          "name": "stderr",
          "text": [
            "/usr/local/lib/python3.10/dist-packages/pytorch_lightning/core/module.py:493: UserWarning: You called `self.log('train_loss', ..., logger=True)` but have no logger configured. You can enable one by doing `Trainer(logger=ALogger(...))`\n",
            "  rank_zero_warn(\n",
            "/usr/local/lib/python3.10/dist-packages/pytorch_lightning/core/module.py:493: UserWarning: You called `self.log('train_mean_squared_error', ..., logger=True)` but have no logger configured. You can enable one by doing `Trainer(logger=ALogger(...))`\n",
            "  rank_zero_warn(\n",
            "INFO:pytorch_lightning.utilities.rank_zero:`Trainer.fit` stopped: `max_steps=100` reached.\n",
            "INFO:pytorch_lightning.tuner.lr_finder:Learning rate set to 0.5754399373371567\n",
            "INFO:pytorch_lightning.utilities.rank_zero:Restoring states from the checkpoint path at /content/.lr_find_582a66c6-bcc7-478b-bb4d-034d9f08d009.ckpt\n",
            "INFO:pytorch_lightning.utilities.rank_zero:Restored all states from the checkpoint file at /content/.lr_find_582a66c6-bcc7-478b-bb4d-034d9f08d009.ckpt\n",
            "2023-10-12 16:22:01,111 - {pytorch_tabular.tabular_model:575} - INFO - Suggested LR: 0.5754399373371567. For plot and detailed analysis, use `find_learning_rate` method.\n",
            "INFO:pytorch_tabular.tabular_model:Suggested LR: 0.5754399373371567. For plot and detailed analysis, use `find_learning_rate` method.\n",
            "2023-10-12 16:22:01,115 - {pytorch_tabular.tabular_model:582} - INFO - Training Started\n",
            "INFO:pytorch_tabular.tabular_model:Training Started\n"
          ]
        },
        {
          "output_type": "display_data",
          "data": {
            "text/plain": [
              "┏━━━┳━━━━━━━━━━━━━━━━━━┳━━━━━━━━━━━━━━━━━━━━━━━━━━━┳━━━━━━━━┓\n",
              "┃\u001b[1;35m \u001b[0m\u001b[1;35m \u001b[0m\u001b[1;35m \u001b[0m┃\u001b[1;35m \u001b[0m\u001b[1;35mName            \u001b[0m\u001b[1;35m \u001b[0m┃\u001b[1;35m \u001b[0m\u001b[1;35mType                     \u001b[0m\u001b[1;35m \u001b[0m┃\u001b[1;35m \u001b[0m\u001b[1;35mParams\u001b[0m\u001b[1;35m \u001b[0m┃\n",
              "┡━━━╇━━━━━━━━━━━━━━━━━━╇━━━━━━━━━━━━━━━━━━━━━━━━━━━╇━━━━━━━━┩\n",
              "│\u001b[2m \u001b[0m\u001b[2m0\u001b[0m\u001b[2m \u001b[0m│ _backbone        │ CategoryEmbeddingBackbone │  2.9 K │\n",
              "│\u001b[2m \u001b[0m\u001b[2m1\u001b[0m\u001b[2m \u001b[0m│ _embedding_layer │ Embedding1dLayer          │  1.5 K │\n",
              "│\u001b[2m \u001b[0m\u001b[2m2\u001b[0m\u001b[2m \u001b[0m│ head             │ LinearHead                │     51 │\n",
              "│\u001b[2m \u001b[0m\u001b[2m3\u001b[0m\u001b[2m \u001b[0m│ loss             │ MSELoss                   │      0 │\n",
              "└───┴──────────────────┴───────────────────────────┴────────┘\n"
            ],
            "text/html": [
              "<pre style=\"white-space:pre;overflow-x:auto;line-height:normal;font-family:Menlo,'DejaVu Sans Mono',consolas,'Courier New',monospace\">┏━━━┳━━━━━━━━━━━━━━━━━━┳━━━━━━━━━━━━━━━━━━━━━━━━━━━┳━━━━━━━━┓\n",
              "┃<span style=\"color: #800080; text-decoration-color: #800080; font-weight: bold\">   </span>┃<span style=\"color: #800080; text-decoration-color: #800080; font-weight: bold\"> Name             </span>┃<span style=\"color: #800080; text-decoration-color: #800080; font-weight: bold\"> Type                      </span>┃<span style=\"color: #800080; text-decoration-color: #800080; font-weight: bold\"> Params </span>┃\n",
              "┡━━━╇━━━━━━━━━━━━━━━━━━╇━━━━━━━━━━━━━━━━━━━━━━━━━━━╇━━━━━━━━┩\n",
              "│<span style=\"color: #7f7f7f; text-decoration-color: #7f7f7f\"> 0 </span>│ _backbone        │ CategoryEmbeddingBackbone │  2.9 K │\n",
              "│<span style=\"color: #7f7f7f; text-decoration-color: #7f7f7f\"> 1 </span>│ _embedding_layer │ Embedding1dLayer          │  1.5 K │\n",
              "│<span style=\"color: #7f7f7f; text-decoration-color: #7f7f7f\"> 2 </span>│ head             │ LinearHead                │     51 │\n",
              "│<span style=\"color: #7f7f7f; text-decoration-color: #7f7f7f\"> 3 </span>│ loss             │ MSELoss                   │      0 │\n",
              "└───┴──────────────────┴───────────────────────────┴────────┘\n",
              "</pre>\n"
            ]
          },
          "metadata": {}
        },
        {
          "output_type": "display_data",
          "data": {
            "text/plain": [
              "\u001b[1mTrainable params\u001b[0m: 4.5 K                                                                                            \n",
              "\u001b[1mNon-trainable params\u001b[0m: 0                                                                                            \n",
              "\u001b[1mTotal params\u001b[0m: 4.5 K                                                                                                \n",
              "\u001b[1mTotal estimated model params size (MB)\u001b[0m: 0                                                                          \n"
            ],
            "text/html": [
              "<pre style=\"white-space:pre;overflow-x:auto;line-height:normal;font-family:Menlo,'DejaVu Sans Mono',consolas,'Courier New',monospace\"><span style=\"font-weight: bold\">Trainable params</span>: 4.5 K                                                                                            \n",
              "<span style=\"font-weight: bold\">Non-trainable params</span>: 0                                                                                            \n",
              "<span style=\"font-weight: bold\">Total params</span>: 4.5 K                                                                                                \n",
              "<span style=\"font-weight: bold\">Total estimated model params size (MB)</span>: 0                                                                          \n",
              "</pre>\n"
            ]
          },
          "metadata": {}
        },
        {
          "output_type": "display_data",
          "data": {
            "text/plain": [
              "Output()"
            ],
            "application/vnd.jupyter.widget-view+json": {
              "version_major": 2,
              "version_minor": 0,
              "model_id": "eddf3b87f56e4116bde44a24514c5a46"
            }
          },
          "metadata": {}
        },
        {
          "output_type": "display_data",
          "data": {
            "text/plain": [],
            "text/html": [
              "<pre style=\"white-space:pre;overflow-x:auto;line-height:normal;font-family:Menlo,'DejaVu Sans Mono',consolas,'Courier New',monospace\"></pre>\n"
            ]
          },
          "metadata": {}
        },
        {
          "output_type": "display_data",
          "data": {
            "text/plain": [
              "\n"
            ],
            "text/html": [
              "<pre style=\"white-space:pre;overflow-x:auto;line-height:normal;font-family:Menlo,'DejaVu Sans Mono',consolas,'Courier New',monospace\">\n",
              "</pre>\n"
            ]
          },
          "metadata": {}
        },
        {
          "output_type": "stream",
          "name": "stderr",
          "text": [
            "2023-10-12 16:22:44,734 - {pytorch_tabular.tabular_model:584} - INFO - Training the model completed\n",
            "INFO:pytorch_tabular.tabular_model:Training the model completed\n",
            "2023-10-12 16:22:44,741 - {pytorch_tabular.tabular_model:1258} - INFO - Loading the best model\n",
            "INFO:pytorch_tabular.tabular_model:Loading the best model\n"
          ]
        },
        {
          "output_type": "display_data",
          "data": {
            "text/plain": [
              "Output()"
            ],
            "application/vnd.jupyter.widget-view+json": {
              "version_major": 2,
              "version_minor": 0,
              "model_id": "b4fea576e4f8428997c736373fe6db86"
            }
          },
          "metadata": {}
        },
        {
          "output_type": "stream",
          "name": "stderr",
          "text": [
            "/usr/local/lib/python3.10/dist-packages/pytorch_lightning/utilities/cloud_io.py:33: LightningDeprecationWarning: `pytorch_lightning.utilities.cloud_io.get_filesystem` has been deprecated in v1.8.0 and will be removed in v2.0.0. Please use `lightning_fabric.utilities.cloud_io.get_filesystem` instead.\n",
            "  rank_zero_deprecation(\n"
          ]
        },
        {
          "output_type": "display_data",
          "data": {
            "text/plain": [
              "/usr/local/lib/python3.10/dist-packages/pytorch_lightning/core/module.py:493: UserWarning: You called \n",
              "`self.log('test_loss', ..., logger=True)` but have no logger configured. You can enable one by doing \n",
              "`Trainer(logger=ALogger(...))`\n",
              "  rank_zero_warn(\n"
            ],
            "text/html": [
              "<pre style=\"white-space:pre;overflow-x:auto;line-height:normal;font-family:Menlo,'DejaVu Sans Mono',consolas,'Courier New',monospace\">/usr/local/lib/python3.10/dist-packages/pytorch_lightning/core/module.py:493: UserWarning: You called \n",
              "`self.log('test_loss', ..., logger=True)` but have no logger configured. You can enable one by doing \n",
              "`Trainer(logger=ALogger(...))`\n",
              "  rank_zero_warn(\n",
              "</pre>\n"
            ]
          },
          "metadata": {}
        },
        {
          "output_type": "display_data",
          "data": {
            "text/plain": [
              "/usr/local/lib/python3.10/dist-packages/pytorch_lightning/core/module.py:493: UserWarning: You called \n",
              "`self.log('test_mean_squared_error', ..., logger=True)` but have no logger configured. You can enable one by doing \n",
              "`Trainer(logger=ALogger(...))`\n",
              "  rank_zero_warn(\n"
            ],
            "text/html": [
              "<pre style=\"white-space:pre;overflow-x:auto;line-height:normal;font-family:Menlo,'DejaVu Sans Mono',consolas,'Courier New',monospace\">/usr/local/lib/python3.10/dist-packages/pytorch_lightning/core/module.py:493: UserWarning: You called \n",
              "`self.log('test_mean_squared_error', ..., logger=True)` but have no logger configured. You can enable one by doing \n",
              "`Trainer(logger=ALogger(...))`\n",
              "  rank_zero_warn(\n",
              "</pre>\n"
            ]
          },
          "metadata": {}
        },
        {
          "output_type": "display_data",
          "data": {
            "text/plain": [
              "┏━━━━━━━━━━━━━━━━━━━━━━━━━━━┳━━━━━━━━━━━━━━━━━━━━━━━━━━━┓\n",
              "┃\u001b[1m \u001b[0m\u001b[1m       Test metric       \u001b[0m\u001b[1m \u001b[0m┃\u001b[1m \u001b[0m\u001b[1m      DataLoader 0       \u001b[0m\u001b[1m \u001b[0m┃\n",
              "┡━━━━━━━━━━━━━━━━━━━━━━━━━━━╇━━━━━━━━━━━━━━━━━━━━━━━━━━━┩\n",
              "│\u001b[36m \u001b[0m\u001b[36m        test_loss        \u001b[0m\u001b[36m \u001b[0m│\u001b[35m \u001b[0m\u001b[35m      5882416128.0       \u001b[0m\u001b[35m \u001b[0m│\n",
              "│\u001b[36m \u001b[0m\u001b[36m test_mean_squared_error \u001b[0m\u001b[36m \u001b[0m│\u001b[35m \u001b[0m\u001b[35m      5882416128.0       \u001b[0m\u001b[35m \u001b[0m│\n",
              "└───────────────────────────┴───────────────────────────┘\n"
            ],
            "text/html": [
              "<pre style=\"white-space:pre;overflow-x:auto;line-height:normal;font-family:Menlo,'DejaVu Sans Mono',consolas,'Courier New',monospace\">┏━━━━━━━━━━━━━━━━━━━━━━━━━━━┳━━━━━━━━━━━━━━━━━━━━━━━━━━━┓\n",
              "┃<span style=\"font-weight: bold\">        Test metric        </span>┃<span style=\"font-weight: bold\">       DataLoader 0        </span>┃\n",
              "┡━━━━━━━━━━━━━━━━━━━━━━━━━━━╇━━━━━━━━━━━━━━━━━━━━━━━━━━━┩\n",
              "│<span style=\"color: #008080; text-decoration-color: #008080\">         test_loss         </span>│<span style=\"color: #800080; text-decoration-color: #800080\">       5882416128.0        </span>│\n",
              "│<span style=\"color: #008080; text-decoration-color: #008080\">  test_mean_squared_error  </span>│<span style=\"color: #800080; text-decoration-color: #800080\">       5882416128.0        </span>│\n",
              "└───────────────────────────┴───────────────────────────┘\n",
              "</pre>\n"
            ]
          },
          "metadata": {}
        },
        {
          "output_type": "display_data",
          "data": {
            "text/plain": [],
            "text/html": [
              "<pre style=\"white-space:pre;overflow-x:auto;line-height:normal;font-family:Menlo,'DejaVu Sans Mono',consolas,'Courier New',monospace\"></pre>\n"
            ]
          },
          "metadata": {}
        },
        {
          "output_type": "display_data",
          "data": {
            "text/plain": [
              "\n"
            ],
            "text/html": [
              "<pre style=\"white-space:pre;overflow-x:auto;line-height:normal;font-family:Menlo,'DejaVu Sans Mono',consolas,'Courier New',monospace\">\n",
              "</pre>\n"
            ]
          },
          "metadata": {}
        },
        {
          "output_type": "display_data",
          "data": {
            "text/plain": [
              "Output()"
            ],
            "application/vnd.jupyter.widget-view+json": {
              "version_major": 2,
              "version_minor": 0,
              "model_id": "b56599e4b4484676aee189c754ffe404"
            }
          },
          "metadata": {}
        },
        {
          "output_type": "display_data",
          "data": {
            "text/plain": [],
            "text/html": [
              "<pre style=\"white-space:pre;overflow-x:auto;line-height:normal;font-family:Menlo,'DejaVu Sans Mono',consolas,'Courier New',monospace\"></pre>\n"
            ]
          },
          "metadata": {}
        },
        {
          "output_type": "display_data",
          "data": {
            "text/plain": [
              "\n"
            ],
            "text/html": [
              "<pre style=\"white-space:pre;overflow-x:auto;line-height:normal;font-family:Menlo,'DejaVu Sans Mono',consolas,'Courier New',monospace\">\n",
              "</pre>\n"
            ]
          },
          "metadata": {}
        },
        {
          "output_type": "stream",
          "name": "stderr",
          "text": [
            "2023-10-12 16:22:48,433 - {pytorch_tabular.tabular_model:1289} - WARNING - Directory is not empty. Overwriting the contents.\n",
            "WARNING:pytorch_tabular.tabular_model:Directory is not empty. Overwriting the contents.\n"
          ]
        }
      ],
      "source": [
        "# TODO: Enter your code here\n",
        "\n",
        "# target: List[str]: A list of strings with the names of the target column(s)\n",
        "# The aim is to predict public housing prices in Singapore from related features, hence I use resale_price\n",
        "target = ['resale_price']\n",
        "\n",
        "# continuous_columns: List[str]: Column names of the numeric fields. Defaults to []\n",
        "# Numeric / Continuous features given: dist_to_nearest_stn, dist_to_dhoby, degree_centrality, eigenvector_centrality, remaining_lease_years, floor_area_sqm\n",
        "continuous_columns = ['dist_to_nearest_stn', 'dist_to_dhoby', 'degree_centrality', 'eigenvector_centrality', 'remaining_lease_years', 'floor_area_sqm']\n",
        "\n",
        "# categorical_columns: List[str]: Column names of the categorical fields to treat differently\n",
        "# Categorical features given: month, town, flat_model_type, storey_range\n",
        "categorical_columns = ['month', 'town', 'flat_model_type', 'storey_range']\n",
        "\n",
        "# define the target variable, names of the continuous and categorical variables\n",
        "data_config = DataConfig(\n",
        "    target=target,\n",
        "    continuous_cols=continuous_columns,\n",
        "    categorical_cols=categorical_columns,\n",
        ")\n",
        "\n",
        "trainer_config = TrainerConfig(\n",
        "    # batch_size to be 1024\n",
        "    batch_size=1024,\n",
        "    # max_epoch as 50.\n",
        "    max_epochs=50,\n",
        "    # automatically tune the learning rate.\n",
        "    auto_lr_find=True\n",
        ")\n",
        "\n",
        "# create a feedforward neural network with 1 hidden layer containing 50 neurons.\n",
        "# use default values of CategoryEmbeddingModelConfig, like activation function defaults to ReLU\n",
        "model_config = CategoryEmbeddingModelConfig(\n",
        "    # task is set to regression\n",
        "    task=\"regression\",\n",
        "    # Hyphen-separated number of layers and units in the classification head. eg. 32-64-32.\n",
        "    # since only 1 hidden layer with 50 neurons is needed, value set to \"50\"\n",
        "    layers=\"50\"\n",
        ")\n",
        "\n",
        "# use default optimizer - Adam\n",
        "optimizer_config = OptimizerConfig()\n",
        "\n",
        "# plug in all the values above together: data_config, model_config, optimizer_config, trainer_config\n",
        "tabular_model = TabularModel(\n",
        "    data_config=data_config,\n",
        "    trainer_config=trainer_config,\n",
        "    model_config=model_config,\n",
        "    optimizer_config=optimizer_config\n",
        ")\n",
        "\n",
        "# Usage Example: https://pytorch-tabular.readthedocs.io/en/latest/\n",
        "tabular_model.fit(train=df_train, validation=df_validation)\n",
        "\n",
        "result = tabular_model.evaluate(df_test)\n",
        "pred_df = tabular_model.predict(df_test)\n",
        "\n",
        "tabular_model.save_model(\"nailah_models/b1_model\")"
      ]
    },
    {
      "cell_type": "markdown",
      "metadata": {
        "id": "-2UXPKq0qWQG"
      },
      "source": [
        "> Report the test RMSE error and the test R2 value that you obtained.\n",
        "\n"
      ]
    },
    {
      "cell_type": "markdown",
      "metadata": {
        "id": "zmE9Bc7Nqadi"
      },
      "source": [
        "\\# TODO: \\<Enter your answer here\\>"
      ]
    },
    {
      "cell_type": "code",
      "source": [
        "import math\n",
        "import sklearn.metrics\n",
        "\n",
        "target = pred_df['resale_price']\n",
        "predict = pred_df['resale_price_prediction']\n",
        "\n",
        "print(\"Values Obtained for RMSE error and R2\")\n",
        "print(\"-----------------------------------------------\")\n",
        "# https://www.javatpoint.com/rsme-root-mean-square-error-in-python\n",
        "print(f\"Test RMSE: {math.sqrt(sklearn.metrics.mean_squared_error(target, predict))}\")\n",
        "# https://scikit-learn.org/stable/modules/generated/sklearn.metrics.r2_score.html\n",
        "print(f\"R2: {sklearn.metrics.r2_score(target, predict)}\")"
      ],
      "metadata": {
        "id": "Q5Y6UOEw0Mu4",
        "colab": {
          "base_uri": "https://localhost:8080/"
        },
        "outputId": "7b10cbf4-173e-42a0-882f-d7afa56245b7"
      },
      "execution_count": 20,
      "outputs": [
        {
          "output_type": "stream",
          "name": "stdout",
          "text": [
            "Values Obtained for RMSE error and R2\n",
            "-----------------------------------------------\n",
            "Test RMSE: 76696.91659962252\n",
            "R2: 0.7776188068029297\n"
          ]
        }
      ]
    },
    {
      "cell_type": "markdown",
      "metadata": {
        "id": "NEJhRU18qX22"
      },
      "source": [
        "> Print out the corresponding rows in the dataframe for the top 25 test samples with the largest errors. Identify a trend in these poor predictions and suggest a way to reduce these errors.\n",
        "\n"
      ]
    },
    {
      "cell_type": "code",
      "execution_count": 21,
      "metadata": {
        "id": "5ma5K9vKqZEq",
        "colab": {
          "base_uri": "https://localhost:8080/"
        },
        "outputId": "2eadd54d-db3c-4346-d376-3b02a46dfbd8"
      },
      "outputs": [
        {
          "output_type": "stream",
          "name": "stdout",
          "text": [
            "        month  year          town                full_address    nearest_stn  \\\n",
            "92405      11  2021   BUKIT MERAH            46 SENG POH ROAD    Tiong Bahru   \n",
            "90957       6  2021   BUKIT BATOK  288A BUKIT BATOK STREET 25    Bukit Batok   \n",
            "112128     12  2021      TAMPINES      156 TAMPINES STREET 12       Tampines   \n",
            "90608      12  2021        BISHAN       273B BISHAN STREET 24         Bishan   \n",
            "106192     12  2021    QUEENSTOWN              89 DAWSON ROAD     Queenstown   \n",
            "91871       6  2021   BUKIT MERAH         17 TIONG BAHRU ROAD    Tiong Bahru   \n",
            "93825       8  2021  CENTRAL AREA       4 TANJONG PAGAR PLAZA  Tanjong Pagar   \n",
            "92504      12  2021   BUKIT MERAH            49 KIM PONG ROAD    Tiong Bahru   \n",
            "105695      6  2021    QUEENSTOWN              91 DAWSON ROAD     Queenstown   \n",
            "90432       8  2021        BISHAN       275A BISHAN STREET 24         Bishan   \n",
            "92299      10  2021   BUKIT MERAH         36 MOH GUAN TERRACE    Tiong Bahru   \n",
            "92442      11  2021   BUKIT MERAH          127D KIM TIAN ROAD    Tiong Bahru   \n",
            "93895      11  2021  CENTRAL AREA       3 TANJONG PAGAR PLAZA  Tanjong Pagar   \n",
            "105699      6  2021    QUEENSTOWN              91 DAWSON ROAD     Queenstown   \n",
            "88081       8  2021    ANG MO KIO    310A ANG MO KIO AVENUE 1     Ang Mo Kio   \n",
            "106057     10  2021    QUEENSTOWN              92 DAWSON ROAD     Queenstown   \n",
            "90521      10  2021        BISHAN        237 BISHAN STREET 22         Bishan   \n",
            "92340      10  2021   BUKIT MERAH            56 HAVELOCK ROAD    Tiong Bahru   \n",
            "91694       4  2021   BUKIT MERAH          35 LIM LIAK STREET    Tiong Bahru   \n",
            "98379      12  2021       HOUGANG        615 HOUGANG AVENUE 8        Hougang   \n",
            "92226       9  2021   BUKIT MERAH          96A HENDERSON ROAD    Tiong Bahru   \n",
            "105468      3  2021    QUEENSTOWN              90 DAWSON ROAD     Queenstown   \n",
            "92533      12  2021   BUKIT MERAH          2C BOON TIONG ROAD    Tiong Bahru   \n",
            "105966      9  2021    QUEENSTOWN              91 DAWSON ROAD     Queenstown   \n",
            "92066       8  2021   BUKIT MERAH         48 MOH GUAN TERRACE    Tiong Bahru   \n",
            "\n",
            "        dist_to_nearest_stn  dist_to_dhoby  degree_centrality  \\\n",
            "92405              0.581977       2.309477           0.016807   \n",
            "90957              1.292540      10.763777           0.016807   \n",
            "112128             0.370873      12.479752           0.033613   \n",
            "90608              0.776182       6.297489           0.033613   \n",
            "106192             0.658035       3.807573           0.016807   \n",
            "91871              0.693391       2.058774           0.016807   \n",
            "93825              0.451637       2.594828           0.016807   \n",
            "92504              0.468378       2.365532           0.016807   \n",
            "105695             0.745596       3.720593           0.016807   \n",
            "90432              0.827889       6.370404           0.033613   \n",
            "92299              0.490926       2.278805           0.016807   \n",
            "92442              0.686789       2.664024           0.016807   \n",
            "93895              0.490378       2.630876           0.016807   \n",
            "105699             0.745596       3.720593           0.016807   \n",
            "88081              0.860056       7.263401           0.016807   \n",
            "106057             0.584731       3.882019           0.016807   \n",
            "90521              0.947205       6.663943           0.033613   \n",
            "92340              0.451387       2.128424           0.016807   \n",
            "91694              0.481551       2.262574           0.016807   \n",
            "98379              0.899849       8.828235           0.016807   \n",
            "92226              0.586629       2.932814           0.016807   \n",
            "105468             0.701852       3.763948           0.016807   \n",
            "92533              0.656363       1.982722           0.016807   \n",
            "105966             0.745596       3.720593           0.016807   \n",
            "92066              0.538563       2.345844           0.016807   \n",
            "\n",
            "        eigenvector_centrality                 flat_model_type  \\\n",
            "92405                 0.047782                3 ROOM, Standard   \n",
            "90957                 0.000217            EXECUTIVE, Apartment   \n",
            "112128                0.000229           EXECUTIVE, Maisonette   \n",
            "90608                 0.015854                    5 ROOM, DBSS   \n",
            "106192                0.008342  4 ROOM, Premium Apartment Loft   \n",
            "91871                 0.047782                3 ROOM, Standard   \n",
            "93825                 0.103876           5 ROOM, Adjoined flat   \n",
            "92504                 0.047782                3 ROOM, Standard   \n",
            "105695                0.008342  4 ROOM, Premium Apartment Loft   \n",
            "90432                 0.015854                    5 ROOM, DBSS   \n",
            "92299                 0.047782                3 ROOM, Standard   \n",
            "92442                 0.047782                5 ROOM, Improved   \n",
            "93895                 0.103876           5 ROOM, Adjoined flat   \n",
            "105699                0.008342  4 ROOM, Premium Apartment Loft   \n",
            "88081                 0.006243                5 ROOM, Improved   \n",
            "106057                0.008342  4 ROOM, Premium Apartment Loft   \n",
            "90521                 0.015854                5 ROOM, Improved   \n",
            "92340                 0.047782                5 ROOM, Improved   \n",
            "91694                 0.047782                3 ROOM, Standard   \n",
            "98379                 0.001507            EXECUTIVE, Apartment   \n",
            "92226                 0.047782                5 ROOM, Improved   \n",
            "105468                0.008342  4 ROOM, Premium Apartment Loft   \n",
            "92533                 0.047782                5 ROOM, Improved   \n",
            "105966                0.008342  4 ROOM, Premium Apartment Loft   \n",
            "92066                 0.047782                3 ROOM, Standard   \n",
            "\n",
            "        remaining_lease_years  floor_area_sqm storey_range  resale_price  \\\n",
            "92405               50.166667            88.0     01 TO 03      780000.0   \n",
            "90957               75.583333           144.0     10 TO 12      968000.0   \n",
            "112128              61.750000           148.0     01 TO 03      998000.0   \n",
            "90608               88.833333           120.0     37 TO 39     1360000.0   \n",
            "106192              93.333333           109.0     04 TO 06      968000.0   \n",
            "91871               50.583333            88.0     01 TO 03      680888.0   \n",
            "93825               54.583333           118.0     16 TO 18      938000.0   \n",
            "92504               50.166667            88.0     01 TO 03      695000.0   \n",
            "105695              93.916667            97.0     07 TO 09      930000.0   \n",
            "90432               88.916667           120.0     25 TO 27     1280000.0   \n",
            "92299               50.333333            88.0     01 TO 03      690000.0   \n",
            "92442               90.333333           113.0     16 TO 18     1165000.0   \n",
            "93895               54.250000           139.0     07 TO 09      958000.0   \n",
            "105699              93.916667           109.0     31 TO 33     1032888.0   \n",
            "88081               90.166667           121.0     28 TO 30     1100000.0   \n",
            "106057              93.500000            97.0     13 TO 15      958000.0   \n",
            "90521               69.583333           121.0     07 TO 09      988000.0   \n",
            "92340               90.750000           114.0     34 TO 36     1245000.0   \n",
            "91694               50.833333            88.0     01 TO 03      680000.0   \n",
            "98379               63.666667           142.0     04 TO 06      873000.0   \n",
            "92226               96.750000           113.0     28 TO 30     1220000.0   \n",
            "105468              94.166667            95.0     10 TO 12      920000.0   \n",
            "92533               78.083333           115.0     28 TO 30     1130000.0   \n",
            "105966              93.666667            97.0     25 TO 27      968800.0   \n",
            "92066               50.500000            77.0     01 TO 03      628000.0   \n",
            "\n",
            "        resale_price_prediction         error  \n",
            "92405              3.646865e+05  1.724853e+11  \n",
            "90957              6.144984e+05  1.249634e+11  \n",
            "112128             6.555938e+05  1.172420e+11  \n",
            "90608              1.020589e+06  1.152001e+11  \n",
            "106192             6.359388e+05  1.102646e+11  \n",
            "91871              3.583568e+05  1.040264e+11  \n",
            "93825              6.179542e+05  1.024293e+11  \n",
            "92504              3.760023e+05  1.017595e+11  \n",
            "105695             6.124678e+05  1.008267e+11  \n",
            "90432              9.629781e+05  1.005029e+11  \n",
            "92299              3.759402e+05  9.863353e+10  \n",
            "92442              8.518172e+05  9.808343e+10  \n",
            "93895              6.479514e+05  9.613015e+10  \n",
            "105699             7.242337e+05  9.526748e+10  \n",
            "88081              7.917691e+05  9.500631e+10  \n",
            "106057             6.501535e+05  9.476947e+10  \n",
            "90521              6.803419e+05  9.465348e+10  \n",
            "92340              9.410490e+05  9.238621e+10  \n",
            "91694              3.766706e+05  9.200871e+10  \n",
            "98379              5.709142e+05  9.125584e+10  \n",
            "92226              9.209056e+05  8.945748e+10  \n",
            "105468             6.215141e+05  8.909382e+10  \n",
            "92533              8.315202e+05  8.909016e+10  \n",
            "105966             6.728788e+05  8.756935e+10  \n",
            "92066              3.324645e+05  8.734125e+10  \n"
          ]
        }
      ],
      "source": [
        "# TODO: Enter your code here\n",
        "# use MSE to find test samples with largest errors\n",
        "pred_df['error'] = (pred_df['resale_price'] - pred_df['resale_price_prediction'])**2\n",
        "# sort values to get the largest errors on top and show the top 25\n",
        "poor_predictions = pred_df.sort_values(by=\"error\", ascending=False).head(25)\n",
        "print(poor_predictions)"
      ]
    },
    {
      "cell_type": "code",
      "source": [
        "print(\"Using categorical columns to see the trend (in poor_predictions)\")\n",
        "print(\"----------------------------------------------------------------\\n\")\n",
        "for column in categorical_columns:\n",
        "    print(f\"Column: {column}\")\n",
        "    counts = poor_predictions[column].value_counts().reset_index()\n",
        "    counts.columns = [column, 'Count']\n",
        "    print(counts)\n",
        "    print(\"\\n\")"
      ],
      "metadata": {
        "colab": {
          "base_uri": "https://localhost:8080/"
        },
        "id": "u_3Eud_llGVl",
        "outputId": "b95c66da-caae-42ed-c48b-0f0fe45ac540"
      },
      "execution_count": 22,
      "outputs": [
        {
          "output_type": "stream",
          "name": "stdout",
          "text": [
            "Using categorical columns to see the trend (in poor_predictions)\n",
            "----------------------------------------------------------------\n",
            "\n",
            "Column: month\n",
            "   month  Count\n",
            "0     12      6\n",
            "1      6      4\n",
            "2      8      4\n",
            "3     10      4\n",
            "4     11      3\n",
            "5      9      2\n",
            "6      4      1\n",
            "7      3      1\n",
            "\n",
            "\n",
            "Column: town\n",
            "           town  Count\n",
            "0   BUKIT MERAH     10\n",
            "1    QUEENSTOWN      6\n",
            "2        BISHAN      3\n",
            "3  CENTRAL AREA      2\n",
            "4   BUKIT BATOK      1\n",
            "5      TAMPINES      1\n",
            "6    ANG MO KIO      1\n",
            "7       HOUGANG      1\n",
            "\n",
            "\n",
            "Column: flat_model_type\n",
            "                  flat_model_type  Count\n",
            "0                3 ROOM, Standard      6\n",
            "1  4 ROOM, Premium Apartment Loft      6\n",
            "2                5 ROOM, Improved      6\n",
            "3            EXECUTIVE, Apartment      2\n",
            "4                    5 ROOM, DBSS      2\n",
            "5           5 ROOM, Adjoined flat      2\n",
            "6           EXECUTIVE, Maisonette      1\n",
            "\n",
            "\n",
            "Column: storey_range\n",
            "   storey_range  Count\n",
            "0      01 TO 03      7\n",
            "1      07 TO 09      3\n",
            "2      28 TO 30      3\n",
            "3      10 TO 12      2\n",
            "4      04 TO 06      2\n",
            "5      16 TO 18      2\n",
            "6      25 TO 27      2\n",
            "7      37 TO 39      1\n",
            "8      31 TO 33      1\n",
            "9      13 TO 15      1\n",
            "10     34 TO 36      1\n",
            "\n",
            "\n"
          ]
        }
      ]
    },
    {
      "cell_type": "code",
      "source": [
        "print(\"Using categorical columns to see the trend (full list)\")\n",
        "print(\"--------------------------------------------------------\\n\")\n",
        "for column in categorical_columns:\n",
        "    print(f\"Column: {column}\")\n",
        "    counts = df[column].value_counts().reset_index()\n",
        "    counts.columns = [column, 'Count']\n",
        "    print(counts)\n",
        "    print(\"\\n\")"
      ],
      "metadata": {
        "colab": {
          "base_uri": "https://localhost:8080/"
        },
        "id": "UxdDHg9DkVch",
        "outputId": "d1a6ef6a-9b0a-4e25-eb81-f7b254103d21"
      },
      "execution_count": 23,
      "outputs": [
        {
          "output_type": "stream",
          "name": "stdout",
          "text": [
            "Using categorical columns to see the trend (full list)\n",
            "--------------------------------------------------------\n",
            "\n",
            "Column: month\n",
            "    month  Count\n",
            "0       7  15932\n",
            "1       8  14798\n",
            "2       3  14334\n",
            "3       6  14318\n",
            "4       1  13189\n",
            "5       9  13044\n",
            "6      10  12840\n",
            "7       4  12764\n",
            "8      11  12755\n",
            "9       5  12486\n",
            "10     12  11975\n",
            "11      2  11118\n",
            "\n",
            "\n",
            "Column: town\n",
            "               town  Count\n",
            "0          SENGKANG  13391\n",
            "1           PUNGGOL  11838\n",
            "2         WOODLANDS  11242\n",
            "3            YISHUN  10969\n",
            "4          TAMPINES  10671\n",
            "5       JURONG WEST  10479\n",
            "6             BEDOK   8566\n",
            "7           HOUGANG   7854\n",
            "8     CHOA CHU KANG   7289\n",
            "9        ANG MO KIO   6611\n",
            "10      BUKIT MERAH   6115\n",
            "11    BUKIT PANJANG   6015\n",
            "12      BUKIT BATOK   5624\n",
            "13        TOA PAYOH   5079\n",
            "14        PASIR RIS   4866\n",
            "15  KALLANG/WHAMPOA   4799\n",
            "16       QUEENSTOWN   4479\n",
            "17        SEMBAWANG   4129\n",
            "18          GEYLANG   3956\n",
            "19         CLEMENTI   3632\n",
            "20      JURONG EAST   3284\n",
            "21           BISHAN   2988\n",
            "22        SERANGOON   2944\n",
            "23     CENTRAL AREA   1317\n",
            "24    MARINE PARADE   1010\n",
            "25      BUKIT TIMAH    406\n",
            "\n",
            "\n",
            "Column: flat_model_type\n",
            "                       flat_model_type  Count\n",
            "0                      4 ROOM, Model A  40309\n",
            "1                     5 ROOM, Improved  27980\n",
            "2               3 ROOM, New Generation  12638\n",
            "3                      3 ROOM, Model A  10411\n",
            "4            4 ROOM, Premium Apartment   9536\n",
            "5                     3 ROOM, Improved   9304\n",
            "6               4 ROOM, New Generation   7331\n",
            "7            5 ROOM, Premium Apartment   6376\n",
            "8                 EXECUTIVE, Apartment   6092\n",
            "9                EXECUTIVE, Maisonette   4621\n",
            "10                  4 ROOM, Simplified   4585\n",
            "11                    3 ROOM, Standard   2149\n",
            "12                     5 ROOM, Model A   2077\n",
            "13                    4 ROOM, Model A2   1834\n",
            "14                    4 ROOM, Improved   1791\n",
            "15                    5 ROOM, Standard   1772\n",
            "16                  3 ROOM, Simplified   1623\n",
            "17                     2 ROOM, Model A   1602\n",
            "18        EXECUTIVE, Premium Apartment   1318\n",
            "19                        5 ROOM, DBSS   1276\n",
            "20                        4 ROOM, DBSS   1133\n",
            "21           3 ROOM, Premium Apartment    986\n",
            "22                    2 ROOM, Standard    490\n",
            "23                    2 ROOM, Improved    418\n",
            "24                        3 ROOM, DBSS    387\n",
            "25          5 ROOM, Model A-Maisonette    292\n",
            "26                     4 ROOM, Type S1    281\n",
            "27               5 ROOM, Adjoined flat    157\n",
            "28                     5 ROOM, Type S2    152\n",
            "29            EXECUTIVE, Adjoined flat     99\n",
            "30                     3 ROOM, Terrace     84\n",
            "31      4 ROOM, Premium Apartment Loft     76\n",
            "32  MULTI-GENERATION, Multi Generation     73\n",
            "33                    1 ROOM, Improved     60\n",
            "34                    4 ROOM, Standard     55\n",
            "35                      2 ROOM, 2-room     53\n",
            "36               4 ROOM, Adjoined flat     28\n",
            "37           2 ROOM, Premium Apartment     25\n",
            "38         5 ROOM, Improved-Maisonette     24\n",
            "39      5 ROOM, Premium Apartment Loft     19\n",
            "40                        5 ROOM, 3Gen     15\n",
            "41       EXECUTIVE, Premium Maisonette     14\n",
            "42                     4 ROOM, Terrace      6\n",
            "43                        2 ROOM, DBSS      1\n",
            "\n",
            "\n",
            "Column: storey_range\n",
            "   storey_range  Count\n",
            "0      04 TO 06  36717\n",
            "1      07 TO 09  33461\n",
            "2      10 TO 12  29806\n",
            "3      01 TO 03  28168\n",
            "4      13 TO 15  15228\n",
            "5      16 TO 18   7196\n",
            "6      19 TO 21   3042\n",
            "7      22 TO 24   2212\n",
            "8      25 TO 27   1331\n",
            "9      28 TO 30    859\n",
            "10     31 TO 33    452\n",
            "11     34 TO 36    421\n",
            "12     37 TO 39    374\n",
            "13     40 TO 42    183\n",
            "14     43 TO 45     52\n",
            "15     46 TO 48     37\n",
            "16     49 TO 51     14\n",
            "\n",
            "\n"
          ]
        }
      ]
    },
    {
      "cell_type": "markdown",
      "metadata": {
        "id": "bX5zy7V3qaGp"
      },
      "source": [
        "A trend I identified is that the model consistently overestimation of resale prices especially for those underepresented values in the dataset. For example, `flat_model_type = 4 ROOM, Premium Apartment Loft` has one of the highest occurence (6) in the poor predictions dataframe and a likely contributing factor to this is that there is very little representation (76) of it in the full dataset (as compared to `flat_model_type = 4 ROOM, Model A` which has a count of 40309)\n",
        "\n",
        "Hence, one way to reduce the error in resale price predictions is to use a more diverse (and larger if possible) dataset which will help the model to better learn the underlying data patterns and ultimately make more accurate predictions."
      ]
    }
  ],
  "metadata": {
    "colab": {
      "provenance": []
    },
    "kernelspec": {
      "display_name": "Python 3 (ipykernel)",
      "language": "python",
      "name": "python3"
    },
    "language_info": {
      "codemirror_mode": {
        "name": "ipython",
        "version": 3
      },
      "file_extension": ".py",
      "mimetype": "text/x-python",
      "name": "python",
      "nbconvert_exporter": "python",
      "pygments_lexer": "ipython3",
      "version": "3.11.2"
    },
    "widgets": {
      "application/vnd.jupyter.widget-state+json": {
        "11988f311a3b41189509f12ac897e0bd": {
          "model_module": "@jupyter-widgets/controls",
          "model_name": "HBoxModel",
          "model_module_version": "1.5.0",
          "state": {
            "_dom_classes": [],
            "_model_module": "@jupyter-widgets/controls",
            "_model_module_version": "1.5.0",
            "_model_name": "HBoxModel",
            "_view_count": null,
            "_view_module": "@jupyter-widgets/controls",
            "_view_module_version": "1.5.0",
            "_view_name": "HBoxView",
            "box_style": "",
            "children": [
              "IPY_MODEL_e59a563f07b44fada362140037de3770",
              "IPY_MODEL_b71c1fc9affe49ab8b7724ff1d713d16",
              "IPY_MODEL_ea1db08fe2fe4af182012f9950dca5c0"
            ],
            "layout": "IPY_MODEL_ca6bd83a96bc47e4ba79e20140bda09f"
          }
        },
        "e59a563f07b44fada362140037de3770": {
          "model_module": "@jupyter-widgets/controls",
          "model_name": "HTMLModel",
          "model_module_version": "1.5.0",
          "state": {
            "_dom_classes": [],
            "_model_module": "@jupyter-widgets/controls",
            "_model_module_version": "1.5.0",
            "_model_name": "HTMLModel",
            "_view_count": null,
            "_view_module": "@jupyter-widgets/controls",
            "_view_module_version": "1.5.0",
            "_view_name": "HTMLView",
            "description": "",
            "description_tooltip": null,
            "layout": "IPY_MODEL_2047e0d69ea94442bf9b6a8a0d80d10a",
            "placeholder": "​",
            "style": "IPY_MODEL_1a6d05631efb4fc6922a3469be8e1fa3",
            "value": "Finding best initial lr: 100%"
          }
        },
        "b71c1fc9affe49ab8b7724ff1d713d16": {
          "model_module": "@jupyter-widgets/controls",
          "model_name": "FloatProgressModel",
          "model_module_version": "1.5.0",
          "state": {
            "_dom_classes": [],
            "_model_module": "@jupyter-widgets/controls",
            "_model_module_version": "1.5.0",
            "_model_name": "FloatProgressModel",
            "_view_count": null,
            "_view_module": "@jupyter-widgets/controls",
            "_view_module_version": "1.5.0",
            "_view_name": "ProgressView",
            "bar_style": "success",
            "description": "",
            "description_tooltip": null,
            "layout": "IPY_MODEL_a9aafd2e22264d75b92aba343ba17fcc",
            "max": 100,
            "min": 0,
            "orientation": "horizontal",
            "style": "IPY_MODEL_3d21e688bac44b1bae997971931fb13f",
            "value": 100
          }
        },
        "ea1db08fe2fe4af182012f9950dca5c0": {
          "model_module": "@jupyter-widgets/controls",
          "model_name": "HTMLModel",
          "model_module_version": "1.5.0",
          "state": {
            "_dom_classes": [],
            "_model_module": "@jupyter-widgets/controls",
            "_model_module_version": "1.5.0",
            "_model_name": "HTMLModel",
            "_view_count": null,
            "_view_module": "@jupyter-widgets/controls",
            "_view_module_version": "1.5.0",
            "_view_name": "HTMLView",
            "description": "",
            "description_tooltip": null,
            "layout": "IPY_MODEL_fa1cbf5faa0f4722a3c73f0217a09ed3",
            "placeholder": "​",
            "style": "IPY_MODEL_5657c3befc47471e8018d84c9fdb7816",
            "value": " 100/100 [00:15&lt;00:00, 28.11it/s]"
          }
        },
        "ca6bd83a96bc47e4ba79e20140bda09f": {
          "model_module": "@jupyter-widgets/base",
          "model_name": "LayoutModel",
          "model_module_version": "1.2.0",
          "state": {
            "_model_module": "@jupyter-widgets/base",
            "_model_module_version": "1.2.0",
            "_model_name": "LayoutModel",
            "_view_count": null,
            "_view_module": "@jupyter-widgets/base",
            "_view_module_version": "1.2.0",
            "_view_name": "LayoutView",
            "align_content": null,
            "align_items": null,
            "align_self": null,
            "border": null,
            "bottom": null,
            "display": null,
            "flex": null,
            "flex_flow": null,
            "grid_area": null,
            "grid_auto_columns": null,
            "grid_auto_flow": null,
            "grid_auto_rows": null,
            "grid_column": null,
            "grid_gap": null,
            "grid_row": null,
            "grid_template_areas": null,
            "grid_template_columns": null,
            "grid_template_rows": null,
            "height": null,
            "justify_content": null,
            "justify_items": null,
            "left": null,
            "margin": null,
            "max_height": null,
            "max_width": null,
            "min_height": null,
            "min_width": null,
            "object_fit": null,
            "object_position": null,
            "order": null,
            "overflow": null,
            "overflow_x": null,
            "overflow_y": null,
            "padding": null,
            "right": null,
            "top": null,
            "visibility": null,
            "width": null
          }
        },
        "2047e0d69ea94442bf9b6a8a0d80d10a": {
          "model_module": "@jupyter-widgets/base",
          "model_name": "LayoutModel",
          "model_module_version": "1.2.0",
          "state": {
            "_model_module": "@jupyter-widgets/base",
            "_model_module_version": "1.2.0",
            "_model_name": "LayoutModel",
            "_view_count": null,
            "_view_module": "@jupyter-widgets/base",
            "_view_module_version": "1.2.0",
            "_view_name": "LayoutView",
            "align_content": null,
            "align_items": null,
            "align_self": null,
            "border": null,
            "bottom": null,
            "display": null,
            "flex": null,
            "flex_flow": null,
            "grid_area": null,
            "grid_auto_columns": null,
            "grid_auto_flow": null,
            "grid_auto_rows": null,
            "grid_column": null,
            "grid_gap": null,
            "grid_row": null,
            "grid_template_areas": null,
            "grid_template_columns": null,
            "grid_template_rows": null,
            "height": null,
            "justify_content": null,
            "justify_items": null,
            "left": null,
            "margin": null,
            "max_height": null,
            "max_width": null,
            "min_height": null,
            "min_width": null,
            "object_fit": null,
            "object_position": null,
            "order": null,
            "overflow": null,
            "overflow_x": null,
            "overflow_y": null,
            "padding": null,
            "right": null,
            "top": null,
            "visibility": null,
            "width": null
          }
        },
        "1a6d05631efb4fc6922a3469be8e1fa3": {
          "model_module": "@jupyter-widgets/controls",
          "model_name": "DescriptionStyleModel",
          "model_module_version": "1.5.0",
          "state": {
            "_model_module": "@jupyter-widgets/controls",
            "_model_module_version": "1.5.0",
            "_model_name": "DescriptionStyleModel",
            "_view_count": null,
            "_view_module": "@jupyter-widgets/base",
            "_view_module_version": "1.2.0",
            "_view_name": "StyleView",
            "description_width": ""
          }
        },
        "a9aafd2e22264d75b92aba343ba17fcc": {
          "model_module": "@jupyter-widgets/base",
          "model_name": "LayoutModel",
          "model_module_version": "1.2.0",
          "state": {
            "_model_module": "@jupyter-widgets/base",
            "_model_module_version": "1.2.0",
            "_model_name": "LayoutModel",
            "_view_count": null,
            "_view_module": "@jupyter-widgets/base",
            "_view_module_version": "1.2.0",
            "_view_name": "LayoutView",
            "align_content": null,
            "align_items": null,
            "align_self": null,
            "border": null,
            "bottom": null,
            "display": null,
            "flex": null,
            "flex_flow": null,
            "grid_area": null,
            "grid_auto_columns": null,
            "grid_auto_flow": null,
            "grid_auto_rows": null,
            "grid_column": null,
            "grid_gap": null,
            "grid_row": null,
            "grid_template_areas": null,
            "grid_template_columns": null,
            "grid_template_rows": null,
            "height": null,
            "justify_content": null,
            "justify_items": null,
            "left": null,
            "margin": null,
            "max_height": null,
            "max_width": null,
            "min_height": null,
            "min_width": null,
            "object_fit": null,
            "object_position": null,
            "order": null,
            "overflow": null,
            "overflow_x": null,
            "overflow_y": null,
            "padding": null,
            "right": null,
            "top": null,
            "visibility": null,
            "width": null
          }
        },
        "3d21e688bac44b1bae997971931fb13f": {
          "model_module": "@jupyter-widgets/controls",
          "model_name": "ProgressStyleModel",
          "model_module_version": "1.5.0",
          "state": {
            "_model_module": "@jupyter-widgets/controls",
            "_model_module_version": "1.5.0",
            "_model_name": "ProgressStyleModel",
            "_view_count": null,
            "_view_module": "@jupyter-widgets/base",
            "_view_module_version": "1.2.0",
            "_view_name": "StyleView",
            "bar_color": null,
            "description_width": ""
          }
        },
        "fa1cbf5faa0f4722a3c73f0217a09ed3": {
          "model_module": "@jupyter-widgets/base",
          "model_name": "LayoutModel",
          "model_module_version": "1.2.0",
          "state": {
            "_model_module": "@jupyter-widgets/base",
            "_model_module_version": "1.2.0",
            "_model_name": "LayoutModel",
            "_view_count": null,
            "_view_module": "@jupyter-widgets/base",
            "_view_module_version": "1.2.0",
            "_view_name": "LayoutView",
            "align_content": null,
            "align_items": null,
            "align_self": null,
            "border": null,
            "bottom": null,
            "display": null,
            "flex": null,
            "flex_flow": null,
            "grid_area": null,
            "grid_auto_columns": null,
            "grid_auto_flow": null,
            "grid_auto_rows": null,
            "grid_column": null,
            "grid_gap": null,
            "grid_row": null,
            "grid_template_areas": null,
            "grid_template_columns": null,
            "grid_template_rows": null,
            "height": null,
            "justify_content": null,
            "justify_items": null,
            "left": null,
            "margin": null,
            "max_height": null,
            "max_width": null,
            "min_height": null,
            "min_width": null,
            "object_fit": null,
            "object_position": null,
            "order": null,
            "overflow": null,
            "overflow_x": null,
            "overflow_y": null,
            "padding": null,
            "right": null,
            "top": null,
            "visibility": null,
            "width": null
          }
        },
        "5657c3befc47471e8018d84c9fdb7816": {
          "model_module": "@jupyter-widgets/controls",
          "model_name": "DescriptionStyleModel",
          "model_module_version": "1.5.0",
          "state": {
            "_model_module": "@jupyter-widgets/controls",
            "_model_module_version": "1.5.0",
            "_model_name": "DescriptionStyleModel",
            "_view_count": null,
            "_view_module": "@jupyter-widgets/base",
            "_view_module_version": "1.2.0",
            "_view_name": "StyleView",
            "description_width": ""
          }
        },
        "eddf3b87f56e4116bde44a24514c5a46": {
          "model_module": "@jupyter-widgets/output",
          "model_name": "OutputModel",
          "model_module_version": "1.0.0",
          "state": {
            "_dom_classes": [],
            "_model_module": "@jupyter-widgets/output",
            "_model_module_version": "1.0.0",
            "_model_name": "OutputModel",
            "_view_count": null,
            "_view_module": "@jupyter-widgets/output",
            "_view_module_version": "1.0.0",
            "_view_name": "OutputView",
            "layout": "IPY_MODEL_54fd91e9b6954654b3f03f7bb3abef43",
            "msg_id": "",
            "outputs": [
              {
                "output_type": "display_data",
                "data": {
                  "text/plain": "Epoch 6/49 \u001b[38;2;98;6;224m━━━━━━━━━━━━━━━━━━━━━━━━━━━━━━━━━━\u001b[0m \u001b[37m86/86\u001b[0m \u001b[38;5;245m0:00:07 • 0:00:00\u001b[0m \u001b[38;5;249m11.81it/s\u001b[0m \u001b[37mloss: 1.41e+09 train_loss:         \u001b[0m\n                                                                                \u001b[37m1677344384.0 valid_loss:           \u001b[0m\n                                                                                \u001b[37m2100975360.0                       \u001b[0m\n                                                                                \u001b[37mvalid_mean_squared_error:          \u001b[0m\n                                                                                \u001b[37m2100975360.0                       \u001b[0m\n                                                                                \u001b[37mtrain_mean_squared_error:          \u001b[0m\n                                                                                \u001b[37m1483820416.0                       \u001b[0m\n",
                  "text/html": "<pre style=\"white-space:pre;overflow-x:auto;line-height:normal;font-family:Menlo,'DejaVu Sans Mono',consolas,'Courier New',monospace\">Epoch 6/49 <span style=\"color: #6206e0; text-decoration-color: #6206e0\">━━━━━━━━━━━━━━━━━━━━━━━━━━━━━━━━━━</span> <span style=\"color: #c0c0c0; text-decoration-color: #c0c0c0\">86/86</span> <span style=\"color: #8a8a8a; text-decoration-color: #8a8a8a\">0:00:07 • 0:00:00</span> <span style=\"color: #b2b2b2; text-decoration-color: #b2b2b2\">11.81it/s</span> <span style=\"color: #c0c0c0; text-decoration-color: #c0c0c0\">loss: 1.41e+09 train_loss:         </span>\n                                                                                <span style=\"color: #c0c0c0; text-decoration-color: #c0c0c0\">1677344384.0 valid_loss:           </span>\n                                                                                <span style=\"color: #c0c0c0; text-decoration-color: #c0c0c0\">2100975360.0                       </span>\n                                                                                <span style=\"color: #c0c0c0; text-decoration-color: #c0c0c0\">valid_mean_squared_error:          </span>\n                                                                                <span style=\"color: #c0c0c0; text-decoration-color: #c0c0c0\">2100975360.0                       </span>\n                                                                                <span style=\"color: #c0c0c0; text-decoration-color: #c0c0c0\">train_mean_squared_error:          </span>\n                                                                                <span style=\"color: #c0c0c0; text-decoration-color: #c0c0c0\">1483820416.0                       </span>\n</pre>\n"
                },
                "metadata": {}
              }
            ]
          }
        },
        "54fd91e9b6954654b3f03f7bb3abef43": {
          "model_module": "@jupyter-widgets/base",
          "model_name": "LayoutModel",
          "model_module_version": "1.2.0",
          "state": {
            "_model_module": "@jupyter-widgets/base",
            "_model_module_version": "1.2.0",
            "_model_name": "LayoutModel",
            "_view_count": null,
            "_view_module": "@jupyter-widgets/base",
            "_view_module_version": "1.2.0",
            "_view_name": "LayoutView",
            "align_content": null,
            "align_items": null,
            "align_self": null,
            "border": null,
            "bottom": null,
            "display": null,
            "flex": null,
            "flex_flow": null,
            "grid_area": null,
            "grid_auto_columns": null,
            "grid_auto_flow": null,
            "grid_auto_rows": null,
            "grid_column": null,
            "grid_gap": null,
            "grid_row": null,
            "grid_template_areas": null,
            "grid_template_columns": null,
            "grid_template_rows": null,
            "height": null,
            "justify_content": null,
            "justify_items": null,
            "left": null,
            "margin": null,
            "max_height": null,
            "max_width": null,
            "min_height": null,
            "min_width": null,
            "object_fit": null,
            "object_position": null,
            "order": null,
            "overflow": null,
            "overflow_x": null,
            "overflow_y": null,
            "padding": null,
            "right": null,
            "top": null,
            "visibility": null,
            "width": null
          }
        },
        "b4fea576e4f8428997c736373fe6db86": {
          "model_module": "@jupyter-widgets/output",
          "model_name": "OutputModel",
          "model_module_version": "1.0.0",
          "state": {
            "_dom_classes": [],
            "_model_module": "@jupyter-widgets/output",
            "_model_module_version": "1.0.0",
            "_model_name": "OutputModel",
            "_view_count": null,
            "_view_module": "@jupyter-widgets/output",
            "_view_module_version": "1.0.0",
            "_view_name": "OutputView",
            "layout": "IPY_MODEL_a3981dea00bc4d4daa85247a6fb41467",
            "msg_id": "",
            "outputs": [
              {
                "output_type": "display_data",
                "data": {
                  "text/plain": "\u001b[37mTesting\u001b[0m \u001b[38;2;98;6;224m━━━━━━━━━━━━━━━━━━━━━━━━━━━━━━━━━━━━━━━━\u001b[0m \u001b[37m29/29\u001b[0m \u001b[38;5;245m0:00:01 • 0:00:00\u001b[0m \u001b[38;5;249m15.06it/s\u001b[0m  \n",
                  "text/html": "<pre style=\"white-space:pre;overflow-x:auto;line-height:normal;font-family:Menlo,'DejaVu Sans Mono',consolas,'Courier New',monospace\"><span style=\"color: #c0c0c0; text-decoration-color: #c0c0c0\">Testing</span> <span style=\"color: #6206e0; text-decoration-color: #6206e0\">━━━━━━━━━━━━━━━━━━━━━━━━━━━━━━━━━━━━━━━━</span> <span style=\"color: #c0c0c0; text-decoration-color: #c0c0c0\">29/29</span> <span style=\"color: #8a8a8a; text-decoration-color: #8a8a8a\">0:00:01 • 0:00:00</span> <span style=\"color: #b2b2b2; text-decoration-color: #b2b2b2\">15.06it/s</span>  \n</pre>\n"
                },
                "metadata": {}
              }
            ]
          }
        },
        "a3981dea00bc4d4daa85247a6fb41467": {
          "model_module": "@jupyter-widgets/base",
          "model_name": "LayoutModel",
          "model_module_version": "1.2.0",
          "state": {
            "_model_module": "@jupyter-widgets/base",
            "_model_module_version": "1.2.0",
            "_model_name": "LayoutModel",
            "_view_count": null,
            "_view_module": "@jupyter-widgets/base",
            "_view_module_version": "1.2.0",
            "_view_name": "LayoutView",
            "align_content": null,
            "align_items": null,
            "align_self": null,
            "border": null,
            "bottom": null,
            "display": null,
            "flex": null,
            "flex_flow": null,
            "grid_area": null,
            "grid_auto_columns": null,
            "grid_auto_flow": null,
            "grid_auto_rows": null,
            "grid_column": null,
            "grid_gap": null,
            "grid_row": null,
            "grid_template_areas": null,
            "grid_template_columns": null,
            "grid_template_rows": null,
            "height": null,
            "justify_content": null,
            "justify_items": null,
            "left": null,
            "margin": null,
            "max_height": null,
            "max_width": null,
            "min_height": null,
            "min_width": null,
            "object_fit": null,
            "object_position": null,
            "order": null,
            "overflow": null,
            "overflow_x": null,
            "overflow_y": null,
            "padding": null,
            "right": null,
            "top": null,
            "visibility": null,
            "width": null
          }
        },
        "b56599e4b4484676aee189c754ffe404": {
          "model_module": "@jupyter-widgets/output",
          "model_name": "OutputModel",
          "model_module_version": "1.0.0",
          "state": {
            "_dom_classes": [],
            "_model_module": "@jupyter-widgets/output",
            "_model_module_version": "1.0.0",
            "_model_name": "OutputModel",
            "_view_count": null,
            "_view_module": "@jupyter-widgets/output",
            "_view_module_version": "1.0.0",
            "_view_name": "OutputView",
            "layout": "IPY_MODEL_bc107e6d3430460aaad7a7821d8938ba",
            "msg_id": "",
            "outputs": [
              {
                "output_type": "display_data",
                "data": {
                  "text/plain": "Generating Predictions... \u001b[38;2;114;156;31m━━━━━━━━━━━━━━━━━━━━━━━━━━━━━━━━━━━━━━━━\u001b[0m \u001b[35m100%\u001b[0m \u001b[33m0:00:01\u001b[0m\n",
                  "text/html": "<pre style=\"white-space:pre;overflow-x:auto;line-height:normal;font-family:Menlo,'DejaVu Sans Mono',consolas,'Courier New',monospace\">Generating Predictions... <span style=\"color: #729c1f; text-decoration-color: #729c1f\">━━━━━━━━━━━━━━━━━━━━━━━━━━━━━━━━━━━━━━━━</span> <span style=\"color: #800080; text-decoration-color: #800080\">100%</span> <span style=\"color: #808000; text-decoration-color: #808000\">0:00:01</span>\n</pre>\n"
                },
                "metadata": {}
              }
            ]
          }
        },
        "bc107e6d3430460aaad7a7821d8938ba": {
          "model_module": "@jupyter-widgets/base",
          "model_name": "LayoutModel",
          "model_module_version": "1.2.0",
          "state": {
            "_model_module": "@jupyter-widgets/base",
            "_model_module_version": "1.2.0",
            "_model_name": "LayoutModel",
            "_view_count": null,
            "_view_module": "@jupyter-widgets/base",
            "_view_module_version": "1.2.0",
            "_view_name": "LayoutView",
            "align_content": null,
            "align_items": null,
            "align_self": null,
            "border": null,
            "bottom": null,
            "display": null,
            "flex": null,
            "flex_flow": null,
            "grid_area": null,
            "grid_auto_columns": null,
            "grid_auto_flow": null,
            "grid_auto_rows": null,
            "grid_column": null,
            "grid_gap": null,
            "grid_row": null,
            "grid_template_areas": null,
            "grid_template_columns": null,
            "grid_template_rows": null,
            "height": null,
            "justify_content": null,
            "justify_items": null,
            "left": null,
            "margin": null,
            "max_height": null,
            "max_width": null,
            "min_height": null,
            "min_width": null,
            "object_fit": null,
            "object_position": null,
            "order": null,
            "overflow": null,
            "overflow_x": null,
            "overflow_y": null,
            "padding": null,
            "right": null,
            "top": null,
            "visibility": null,
            "width": null
          }
        }
      }
    }
  },
  "nbformat": 4,
  "nbformat_minor": 0
}