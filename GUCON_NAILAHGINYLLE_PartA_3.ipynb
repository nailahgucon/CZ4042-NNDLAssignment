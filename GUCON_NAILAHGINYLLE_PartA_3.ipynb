{
  "cells": [
    {
      "cell_type": "markdown",
      "id": "c5cb62ac-8e88-43e6-bce9-da20fabf38ff",
      "metadata": {
        "deletable": false,
        "editable": false,
        "id": "c5cb62ac-8e88-43e6-bce9-da20fabf38ff",
        "nbgrader": {
          "cell_type": "markdown",
          "checksum": "7e726e0bc51bda6101498fa65e298d55",
          "grade": false,
          "grade_id": "cell-a5df181492bc4d5b",
          "locked": true,
          "schema_version": 3,
          "solution": false,
          "task": false
        }
      },
      "source": [
        "# Question A3"
      ]
    },
    {
      "cell_type": "markdown",
      "id": "5c8f824c",
      "metadata": {
        "deletable": false,
        "editable": false,
        "id": "5c8f824c",
        "nbgrader": {
          "cell_type": "markdown",
          "checksum": "8de5fc7baf0dbbe0ae44ff5e2f33d3e2",
          "grade": false,
          "grade_id": "cell-742f6ec36e67f66e",
          "locked": true,
          "schema_version": 3,
          "solution": false,
          "task": false
        }
      },
      "source": [
        "Find the optimal number of hidden neurons for first hidden layer of the 4-layer network (3 hidden layers, output layer) designed in Question 1 and 2"
      ]
    },
    {
      "cell_type": "markdown",
      "id": "fb9411ad-2324-400e-852e-ff5c0ca716f0",
      "metadata": {
        "deletable": false,
        "editable": false,
        "id": "fb9411ad-2324-400e-852e-ff5c0ca716f0",
        "nbgrader": {
          "cell_type": "markdown",
          "checksum": "c699e75b7edb52e94f6605279070c695",
          "grade": false,
          "grade_id": "cell-e96803fd0366edd9",
          "locked": true,
          "schema_version": 3,
          "solution": false,
          "task": false
        },
        "tags": []
      },
      "source": [
        "#### Plot the mean cross-validation accuracies on the final epoch for different numbers of hidden-layer neurons using a scatter plot. Limit the search space of the number of neurons to {64, 128, 256}. Continue using 5-fold cross validation on training dataset. Select the optimal number of neurons for the hidden layer. State the rationale for your selection.\n",
        "\n",
        "This might take a while to run, approximately 20 - 30 min, so plan your time carefully."
      ]
    },
    {
      "cell_type": "markdown",
      "id": "981c85ca-9a14-4d0a-b44d-814f02c0f8e1",
      "metadata": {
        "deletable": false,
        "editable": false,
        "id": "981c85ca-9a14-4d0a-b44d-814f02c0f8e1",
        "nbgrader": {
          "cell_type": "markdown",
          "checksum": "227f476ef461a471ef38af7d3f6715f8",
          "grade": false,
          "grade_id": "cell-808458412f82c806",
          "locked": true,
          "schema_version": 3,
          "solution": false,
          "task": false
        }
      },
      "source": [
        "1. Firstly, we import relevant libraries."
      ]
    },
    {
      "cell_type": "code",
      "execution_count": 91,
      "id": "b0edc610-21e6-4cc7-9603-59318b961990",
      "metadata": {
        "deletable": false,
        "editable": false,
        "id": "b0edc610-21e6-4cc7-9603-59318b961990",
        "nbgrader": {
          "cell_type": "code",
          "checksum": "04b3385379104c8466a67ea59116fe58",
          "grade": false,
          "grade_id": "cell-03d073049be6df79",
          "locked": true,
          "schema_version": 3,
          "solution": false,
          "task": false
        },
        "tags": []
      },
      "outputs": [],
      "source": [
        "import tqdm\n",
        "import time\n",
        "import random\n",
        "import numpy as np\n",
        "import pandas as pd\n",
        "import matplotlib.pyplot as plt\n",
        "\n",
        "import torch\n",
        "from torch import nn\n",
        "from torch.utils.data import Dataset\n",
        "from torch.utils.data import DataLoader\n",
        "\n",
        "from scipy.io import wavfile as wav\n",
        "\n",
        "from sklearn import preprocessing\n",
        "from sklearn.model_selection import KFold\n",
        "from sklearn.model_selection import train_test_split\n",
        "from sklearn.metrics import f1_score, precision_score, recall_score, confusion_matrix\n",
        "from common_utils import set_seed\n",
        "\n",
        "# setting seed\n",
        "set_seed()"
      ]
    },
    {
      "cell_type": "markdown",
      "id": "e8e12861-4713-4914-9f4b-8a7381708243",
      "metadata": {
        "deletable": false,
        "editable": false,
        "id": "e8e12861-4713-4914-9f4b-8a7381708243",
        "nbgrader": {
          "cell_type": "markdown",
          "checksum": "1203c0efa2d363ccc72779a7511ed5b5",
          "grade": false,
          "grade_id": "cell-647b74152d4edf45",
          "locked": true,
          "schema_version": 3,
          "solution": false,
          "task": false
        }
      },
      "source": [
        "2. To reduce repeated code, place your\n",
        "\n",
        "- network (MLP defined in QA1)\n",
        "- torch datasets (CustomDataset defined in QA1)\n",
        "- loss function (loss_fn defined in QA1)\n",
        "\n",
        "in a separate file called **common_utils.py**\n",
        "\n",
        "Import them into this file. You will not be repenalised for any error in QA1 here as the code in QA1 will not be remarked.\n",
        "\n",
        "The following code cell will not be marked."
      ]
    },
    {
      "cell_type": "code",
      "execution_count": 92,
      "id": "37a1a982-de85-46de-b890-3b81f79f5887",
      "metadata": {
        "deletable": false,
        "id": "37a1a982-de85-46de-b890-3b81f79f5887",
        "nbgrader": {
          "cell_type": "code",
          "checksum": "52ed938922eb6062a33a7d047d8fc605",
          "grade": false,
          "grade_id": "import",
          "locked": false,
          "schema_version": 3,
          "solution": true,
          "task": false
        },
        "tags": []
      },
      "outputs": [],
      "source": [
        "# YOUR CODE HERE\n",
        "from common_utils import MLP, CustomDataset, loss_fn\n",
        "\n",
        "### since can only submit 1 version of common_utils.py\n",
        "### A3 version of the MLP class code - need to change num neurons of first layer\n",
        "class MLP(nn.Module):\n",
        "\n",
        "    def __init__(self, no_features, no_hidden, no_labels):\n",
        "        super().__init__()\n",
        "        self.mlp_stack = nn.Sequential(\n",
        "            # Input Layer --> First Hidden Layer\n",
        "            nn.Linear(no_features, no_hidden),\n",
        "            nn.ReLU(),\n",
        "            nn.Dropout(0.2),\n",
        "\n",
        "            #   for A3, `no_hidden` will refer to the num of neurons in the first layer only\n",
        "            #   hence the rest of the layers are hardcoded (as seen from the advice given in the FAQ)\n",
        "            #   First Hidden Layer --> Second Hidden Layer\n",
        "            nn.Linear(no_hidden, 128),\n",
        "            nn.ReLU(),\n",
        "            nn.Dropout(0.2),\n",
        "\n",
        "            # Second Hidden Layer --> Third Hidden Layer\n",
        "            nn.Linear(128, 128),\n",
        "            nn.ReLU(),\n",
        "            nn.Dropout(0.2),\n",
        "\n",
        "            # Third Hidden Layer --> Output Layer\n",
        "            # Output layer with sigmoid activation function\n",
        "            nn.Linear(128, no_labels),\n",
        "            nn.Sigmoid()\n",
        "        )\n",
        "\n",
        "    def forward(self, x):\n",
        "        return self.mlp_stack(x)"
      ]
    },
    {
      "cell_type": "code",
      "execution_count": 92,
      "id": "88f0e215-033b-4720-89f8-64f96574ebe2",
      "metadata": {
        "deletable": false,
        "editable": false,
        "id": "88f0e215-033b-4720-89f8-64f96574ebe2",
        "nbgrader": {
          "cell_type": "code",
          "checksum": "ae6b33318200b4bc38d431576963edb1",
          "grade": true,
          "grade_id": "correct_import",
          "locked": true,
          "points": 0,
          "schema_version": 3,
          "solution": false,
          "task": false
        },
        "tags": []
      },
      "outputs": [],
      "source": []
    },
    {
      "cell_type": "markdown",
      "id": "558aa470-6d7e-454c-9cda-9ad881d58c53",
      "metadata": {
        "deletable": false,
        "editable": false,
        "id": "558aa470-6d7e-454c-9cda-9ad881d58c53",
        "nbgrader": {
          "cell_type": "markdown",
          "checksum": "79004bd568c9f48abd1cf359cd050ab5",
          "grade": false,
          "grade_id": "cell-10b7165b0a25758f",
          "locked": true,
          "schema_version": 3,
          "solution": false,
          "task": false
        }
      },
      "source": [
        "3. Perform hyperparameter tuning for the different neurons with 5-fold cross validation."
      ]
    },
    {
      "cell_type": "code",
      "execution_count": 93,
      "id": "8c77bd18-c546-473e-8c2f-643b4281d9ba",
      "metadata": {
        "deletable": false,
        "id": "8c77bd18-c546-473e-8c2f-643b4281d9ba",
        "nbgrader": {
          "cell_type": "code",
          "checksum": "c610a779f6858f6c77f3fc6beb198dcd",
          "grade": true,
          "grade_id": "train",
          "locked": false,
          "points": 2,
          "schema_version": 3,
          "solution": true,
          "task": false
        },
        "tags": []
      },
      "outputs": [],
      "source": [
        "def train(model, X_train_scaled, y_train2, X_val_scaled, y_val2, batch_size):\n",
        "    # Create CustomDataset and DataLoader objects for training and validation\n",
        "    train_dataset = CustomDataset(X_train_scaled, y_train2)\n",
        "    train_dataloader = DataLoader(train_dataset, batch_size = batch_size, shuffle = True)\n",
        "\n",
        "    val_dataset = CustomDataset(X_val_scaled, y_val2)\n",
        "    val_dataloader = DataLoader(val_dataset, batch_size = batch_size, shuffle = True)\n",
        "\n",
        "    # times refer to the training time\n",
        "    # but since I won't be using it, return 0 (as suggested in \"Question A3\" in the Discussion Board)\n",
        "    times = 0\n",
        "    train_accuracies = []\n",
        "    train_losses = []\n",
        "    test_accuracies = []\n",
        "    test_losses = []\n",
        "\n",
        "    # follow num of epochs used in previous questions\n",
        "    for epoch in range(100):\n",
        "      model.train()\n",
        "\n",
        "      batch_train_loss = []\n",
        "      batch_train_accuracy = []\n",
        "\n",
        "      for X_batch, y_batch in train_dataloader:\n",
        "        # follow optimizer used in previous questions\n",
        "        optimizer = torch.optim.Adam(model.parameters(), lr=0.001)\n",
        "        optimizer.zero_grad()\n",
        "        # Forward pass\n",
        "        y_pred = model(X_batch)\n",
        "\n",
        "        # calculate training accuracy\n",
        "        accuracy = (y_pred.round() == y_batch).float().mean()\n",
        "        batch_train_accuracy.append(float(accuracy))\n",
        "\n",
        "        # calculate training loss\n",
        "        loss = loss_fn(y_pred, y_batch)\n",
        "        batch_train_loss.append(loss.detach().numpy())\n",
        "\n",
        "        loss.backward()\n",
        "        optimizer.step()\n",
        "\n",
        "      train_losses.append(sum(batch_train_loss) / len(batch_train_loss))\n",
        "      train_accuracies.append(sum(batch_train_accuracy) / len(batch_train_accuracy))\n",
        "\n",
        "      model.eval()\n",
        "      batch_test_loss = []\n",
        "      batch_test_accuracy = []\n",
        "      with torch.no_grad():\n",
        "\n",
        "        for X_batch, y_batch in val_dataloader:\n",
        "          y_pred = model(X_batch)\n",
        "\n",
        "          # calculate test accuracy\n",
        "          accuracy = (y_pred.round() == y_batch).float().mean()\n",
        "          batch_test_accuracy.append(float(accuracy))\n",
        "\n",
        "          # calculate test loss\n",
        "          loss = loss_fn(y_pred, y_batch)\n",
        "          batch_test_loss.append(loss.detach().numpy())\n",
        "\n",
        "        # Calculate mean validation loss and accuracy for the current epoch\n",
        "        test_accuracies.append(sum(batch_test_accuracy) / len(batch_test_accuracy))\n",
        "        test_losses.append(sum(batch_test_loss) / len(batch_test_loss))\n",
        "\n",
        "      if epoch % 10 == 0:\n",
        "        print(f\"Epoch: {epoch}, Batch Train Accuracy: {batch_train_accuracy[-1]*100:.2f}%, Batch Train Loss: {batch_train_loss[-1]}, Batch Test Accuracy: {batch_test_accuracy[-1]*100:.2f}%, Batch Test Loss: {batch_test_loss[-1]}\")\n",
        "\n",
        "    return train_accuracies, train_losses, test_accuracies, test_losses, times"
      ]
    },
    {
      "cell_type": "code",
      "execution_count": 94,
      "id": "d13d1ff1-7242-4c3f-bcf2-c92fe0c723db",
      "metadata": {
        "colab": {
          "base_uri": "https://localhost:8080/"
        },
        "deletable": false,
        "id": "d13d1ff1-7242-4c3f-bcf2-c92fe0c723db",
        "nbgrader": {
          "cell_type": "code",
          "checksum": "ec4e70e2dfdc84af8c83bc858117af1f",
          "grade": true,
          "grade_id": "hyperparameter_tuning",
          "locked": false,
          "points": 2,
          "schema_version": 3,
          "solution": true,
          "task": false
        },
        "outputId": "565d5b25-7563-45b8-bbe6-c048e9b9a28f",
        "tags": []
      },
      "outputs": [
        {
          "name": "stdout",
          "output_type": "stream",
          "text": [
            "\n",
            "Number of Neurons: 64\n",
            "Epoch: 0, Batch Train Accuracy: 48.55%, Batch Train Loss: 0.6919631361961365, Batch Test Accuracy: 58.33%, Batch Test Loss: 0.6824613213539124\n",
            "Epoch: 10, Batch Train Accuracy: 61.85%, Batch Train Loss: 0.6429989337921143, Batch Test Accuracy: 61.11%, Batch Test Loss: 0.651394784450531\n",
            "Epoch: 20, Batch Train Accuracy: 66.47%, Batch Train Loss: 0.5926618576049805, Batch Test Accuracy: 62.04%, Batch Test Loss: 0.6495775580406189\n",
            "Epoch: 30, Batch Train Accuracy: 71.68%, Batch Train Loss: 0.5729548931121826, Batch Test Accuracy: 73.15%, Batch Test Loss: 0.5782727599143982\n",
            "Epoch: 40, Batch Train Accuracy: 71.68%, Batch Train Loss: 0.5692195892333984, Batch Test Accuracy: 69.44%, Batch Test Loss: 0.5969845056533813\n",
            "Epoch: 50, Batch Train Accuracy: 80.92%, Batch Train Loss: 0.4556102752685547, Batch Test Accuracy: 70.37%, Batch Test Loss: 0.5578799247741699\n",
            "Epoch: 60, Batch Train Accuracy: 83.24%, Batch Train Loss: 0.36271440982818604, Batch Test Accuracy: 75.00%, Batch Test Loss: 0.49218156933784485\n",
            "Epoch: 70, Batch Train Accuracy: 78.61%, Batch Train Loss: 0.4057677090167999, Batch Test Accuracy: 76.85%, Batch Test Loss: 0.5185415744781494\n",
            "Epoch: 80, Batch Train Accuracy: 82.08%, Batch Train Loss: 0.43689608573913574, Batch Test Accuracy: 68.52%, Batch Test Loss: 0.6143372654914856\n",
            "Epoch: 90, Batch Train Accuracy: 79.77%, Batch Train Loss: 0.44221460819244385, Batch Test Accuracy: 67.59%, Batch Test Loss: 0.6173995733261108\n",
            "\n",
            "Number of Neurons: 64\n",
            "Epoch: 0, Batch Train Accuracy: 53.18%, Batch Train Loss: 0.6914907693862915, Batch Test Accuracy: 60.19%, Batch Test Loss: 0.6832201480865479\n",
            "Epoch: 10, Batch Train Accuracy: 68.21%, Batch Train Loss: 0.6038657426834106, Batch Test Accuracy: 67.59%, Batch Test Loss: 0.6076657772064209\n",
            "Epoch: 20, Batch Train Accuracy: 66.47%, Batch Train Loss: 0.5692213177680969, Batch Test Accuracy: 58.33%, Batch Test Loss: 0.6223124861717224\n",
            "Epoch: 30, Batch Train Accuracy: 75.14%, Batch Train Loss: 0.5097444653511047, Batch Test Accuracy: 68.52%, Batch Test Loss: 0.5799617171287537\n",
            "Epoch: 40, Batch Train Accuracy: 73.41%, Batch Train Loss: 0.5058339834213257, Batch Test Accuracy: 66.67%, Batch Test Loss: 0.5768771767616272\n",
            "Epoch: 50, Batch Train Accuracy: 70.52%, Batch Train Loss: 0.5545933842658997, Batch Test Accuracy: 74.07%, Batch Test Loss: 0.5263447761535645\n",
            "Epoch: 60, Batch Train Accuracy: 75.72%, Batch Train Loss: 0.5168358087539673, Batch Test Accuracy: 68.52%, Batch Test Loss: 0.5475633144378662\n",
            "Epoch: 70, Batch Train Accuracy: 78.61%, Batch Train Loss: 0.4761711657047272, Batch Test Accuracy: 68.52%, Batch Test Loss: 0.6270755529403687\n",
            "Epoch: 80, Batch Train Accuracy: 76.30%, Batch Train Loss: 0.4570075273513794, Batch Test Accuracy: 78.70%, Batch Test Loss: 0.5052443742752075\n",
            "Epoch: 90, Batch Train Accuracy: 81.50%, Batch Train Loss: 0.4654671549797058, Batch Test Accuracy: 76.85%, Batch Test Loss: 0.4477582275867462\n",
            "\n",
            "Number of Neurons: 64\n",
            "Epoch: 0, Batch Train Accuracy: 56.90%, Batch Train Loss: 0.6856223940849304, Batch Test Accuracy: 53.27%, Batch Test Loss: 0.6838939189910889\n",
            "Epoch: 10, Batch Train Accuracy: 64.37%, Batch Train Loss: 0.641311764717102, Batch Test Accuracy: 62.62%, Batch Test Loss: 0.6365990042686462\n",
            "Epoch: 20, Batch Train Accuracy: 64.37%, Batch Train Loss: 0.5994885563850403, Batch Test Accuracy: 68.22%, Batch Test Loss: 0.6438786387443542\n",
            "Epoch: 30, Batch Train Accuracy: 75.86%, Batch Train Loss: 0.4574657678604126, Batch Test Accuracy: 66.36%, Batch Test Loss: 0.6110323071479797\n",
            "Epoch: 40, Batch Train Accuracy: 72.41%, Batch Train Loss: 0.5039127469062805, Batch Test Accuracy: 67.29%, Batch Test Loss: 0.581526517868042\n",
            "Epoch: 50, Batch Train Accuracy: 79.31%, Batch Train Loss: 0.4620301127433777, Batch Test Accuracy: 71.96%, Batch Test Loss: 0.5510048270225525\n",
            "Epoch: 60, Batch Train Accuracy: 76.44%, Batch Train Loss: 0.47562679648399353, Batch Test Accuracy: 71.03%, Batch Test Loss: 0.5801167488098145\n",
            "Epoch: 70, Batch Train Accuracy: 82.76%, Batch Train Loss: 0.3825443387031555, Batch Test Accuracy: 76.64%, Batch Test Loss: 0.5335286855697632\n",
            "Epoch: 80, Batch Train Accuracy: 75.29%, Batch Train Loss: 0.4967784583568573, Batch Test Accuracy: 72.90%, Batch Test Loss: 0.6195131540298462\n",
            "Epoch: 90, Batch Train Accuracy: 83.33%, Batch Train Loss: 0.4072347581386566, Batch Test Accuracy: 80.37%, Batch Test Loss: 0.5647279620170593\n",
            "\n",
            "Number of Neurons: 64\n",
            "Epoch: 0, Batch Train Accuracy: 56.32%, Batch Train Loss: 0.6831660866737366, Batch Test Accuracy: 56.07%, Batch Test Loss: 0.6819332242012024\n",
            "Epoch: 10, Batch Train Accuracy: 70.11%, Batch Train Loss: 0.5969845056533813, Batch Test Accuracy: 64.49%, Batch Test Loss: 0.6179696917533875\n",
            "Epoch: 20, Batch Train Accuracy: 72.99%, Batch Train Loss: 0.5617018938064575, Batch Test Accuracy: 69.16%, Batch Test Loss: 0.5673261284828186\n",
            "Epoch: 30, Batch Train Accuracy: 69.54%, Batch Train Loss: 0.5630907416343689, Batch Test Accuracy: 75.70%, Batch Test Loss: 0.5522111058235168\n",
            "Epoch: 40, Batch Train Accuracy: 73.56%, Batch Train Loss: 0.49626031517982483, Batch Test Accuracy: 71.96%, Batch Test Loss: 0.5868086814880371\n",
            "Epoch: 50, Batch Train Accuracy: 74.14%, Batch Train Loss: 0.5059469938278198, Batch Test Accuracy: 65.42%, Batch Test Loss: 0.5915197134017944\n",
            "Epoch: 60, Batch Train Accuracy: 75.29%, Batch Train Loss: 0.5128087997436523, Batch Test Accuracy: 79.44%, Batch Test Loss: 0.5335254073143005\n",
            "Epoch: 70, Batch Train Accuracy: 75.29%, Batch Train Loss: 0.4916461706161499, Batch Test Accuracy: 76.64%, Batch Test Loss: 0.5212308764457703\n",
            "Epoch: 80, Batch Train Accuracy: 82.76%, Batch Train Loss: 0.4009312093257904, Batch Test Accuracy: 76.64%, Batch Test Loss: 0.5337566137313843\n",
            "Epoch: 90, Batch Train Accuracy: 78.74%, Batch Train Loss: 0.4767652153968811, Batch Test Accuracy: 81.31%, Batch Test Loss: 0.42650774121284485\n",
            "\n",
            "Number of Neurons: 64\n",
            "Epoch: 0, Batch Train Accuracy: 50.00%, Batch Train Loss: 0.6889803409576416, Batch Test Accuracy: 53.27%, Batch Test Loss: 0.6903091669082642\n",
            "Epoch: 10, Batch Train Accuracy: 66.67%, Batch Train Loss: 0.5912396311759949, Batch Test Accuracy: 57.94%, Batch Test Loss: 0.6343389749526978\n",
            "Epoch: 20, Batch Train Accuracy: 66.09%, Batch Train Loss: 0.6024917960166931, Batch Test Accuracy: 75.70%, Batch Test Loss: 0.5368990302085876\n",
            "Epoch: 30, Batch Train Accuracy: 69.54%, Batch Train Loss: 0.5583171844482422, Batch Test Accuracy: 76.64%, Batch Test Loss: 0.509696900844574\n",
            "Epoch: 40, Batch Train Accuracy: 73.56%, Batch Train Loss: 0.5379226207733154, Batch Test Accuracy: 73.83%, Batch Test Loss: 0.5299854278564453\n",
            "Epoch: 50, Batch Train Accuracy: 72.99%, Batch Train Loss: 0.473677396774292, Batch Test Accuracy: 76.64%, Batch Test Loss: 0.47734925150871277\n",
            "Epoch: 60, Batch Train Accuracy: 78.16%, Batch Train Loss: 0.48841848969459534, Batch Test Accuracy: 69.16%, Batch Test Loss: 0.5681784152984619\n",
            "Epoch: 70, Batch Train Accuracy: 73.56%, Batch Train Loss: 0.5787890553474426, Batch Test Accuracy: 70.09%, Batch Test Loss: 0.5229701399803162\n",
            "Epoch: 80, Batch Train Accuracy: 74.14%, Batch Train Loss: 0.5046905279159546, Batch Test Accuracy: 85.05%, Batch Test Loss: 0.39056089520454407\n",
            "Epoch: 90, Batch Train Accuracy: 77.59%, Batch Train Loss: 0.4985508620738983, Batch Test Accuracy: 79.44%, Batch Test Loss: 0.4935125410556793\n",
            "\n",
            "Number of Neurons: 128\n",
            "Epoch: 0, Batch Train Accuracy: 53.18%, Batch Train Loss: 0.6831205487251282, Batch Test Accuracy: 59.26%, Batch Test Loss: 0.6751672029495239\n",
            "Epoch: 10, Batch Train Accuracy: 64.74%, Batch Train Loss: 0.625369131565094, Batch Test Accuracy: 70.37%, Batch Test Loss: 0.5634574890136719\n",
            "Epoch: 20, Batch Train Accuracy: 77.46%, Batch Train Loss: 0.5053656697273254, Batch Test Accuracy: 64.81%, Batch Test Loss: 0.5968685150146484\n",
            "Epoch: 30, Batch Train Accuracy: 76.88%, Batch Train Loss: 0.506533682346344, Batch Test Accuracy: 69.44%, Batch Test Loss: 0.6553069353103638\n",
            "Epoch: 40, Batch Train Accuracy: 80.35%, Batch Train Loss: 0.4301570951938629, Batch Test Accuracy: 76.85%, Batch Test Loss: 0.5472056865692139\n",
            "Epoch: 50, Batch Train Accuracy: 78.03%, Batch Train Loss: 0.42527201771736145, Batch Test Accuracy: 79.63%, Batch Test Loss: 0.4131041169166565\n",
            "Epoch: 60, Batch Train Accuracy: 83.24%, Batch Train Loss: 0.4034048616886139, Batch Test Accuracy: 83.33%, Batch Test Loss: 0.40590015053749084\n",
            "Epoch: 70, Batch Train Accuracy: 80.92%, Batch Train Loss: 0.3913039267063141, Batch Test Accuracy: 70.37%, Batch Test Loss: 0.6965542435646057\n",
            "Epoch: 80, Batch Train Accuracy: 82.66%, Batch Train Loss: 0.3417663872241974, Batch Test Accuracy: 81.48%, Batch Test Loss: 0.45305150747299194\n",
            "Epoch: 90, Batch Train Accuracy: 93.64%, Batch Train Loss: 0.19940000772476196, Batch Test Accuracy: 75.00%, Batch Test Loss: 0.5264492630958557\n",
            "\n",
            "Number of Neurons: 128\n",
            "Epoch: 0, Batch Train Accuracy: 53.76%, Batch Train Loss: 0.6739577651023865, Batch Test Accuracy: 48.15%, Batch Test Loss: 0.7043352723121643\n",
            "Epoch: 10, Batch Train Accuracy: 64.74%, Batch Train Loss: 0.5977993011474609, Batch Test Accuracy: 67.59%, Batch Test Loss: 0.5774713158607483\n",
            "Epoch: 20, Batch Train Accuracy: 72.25%, Batch Train Loss: 0.5202183127403259, Batch Test Accuracy: 77.78%, Batch Test Loss: 0.49228689074516296\n",
            "Epoch: 30, Batch Train Accuracy: 78.61%, Batch Train Loss: 0.4614238440990448, Batch Test Accuracy: 76.85%, Batch Test Loss: 0.4757995009422302\n",
            "Epoch: 40, Batch Train Accuracy: 86.13%, Batch Train Loss: 0.34320107102394104, Batch Test Accuracy: 80.56%, Batch Test Loss: 0.4071773886680603\n",
            "Epoch: 50, Batch Train Accuracy: 86.71%, Batch Train Loss: 0.34596797823905945, Batch Test Accuracy: 78.70%, Batch Test Loss: 0.4255211055278778\n",
            "Epoch: 60, Batch Train Accuracy: 83.24%, Batch Train Loss: 0.33086442947387695, Batch Test Accuracy: 82.41%, Batch Test Loss: 0.39194607734680176\n",
            "Epoch: 70, Batch Train Accuracy: 87.28%, Batch Train Loss: 0.3448203504085541, Batch Test Accuracy: 81.48%, Batch Test Loss: 0.37608030438423157\n",
            "Epoch: 80, Batch Train Accuracy: 87.28%, Batch Train Loss: 0.2998258173465729, Batch Test Accuracy: 77.78%, Batch Test Loss: 0.5098336338996887\n",
            "Epoch: 90, Batch Train Accuracy: 89.60%, Batch Train Loss: 0.26192519068717957, Batch Test Accuracy: 76.85%, Batch Test Loss: 0.5690745711326599\n",
            "\n",
            "Number of Neurons: 128\n",
            "Epoch: 0, Batch Train Accuracy: 59.20%, Batch Train Loss: 0.6643592715263367, Batch Test Accuracy: 52.34%, Batch Test Loss: 0.6909327507019043\n",
            "Epoch: 10, Batch Train Accuracy: 64.94%, Batch Train Loss: 0.624436616897583, Batch Test Accuracy: 73.83%, Batch Test Loss: 0.5492511987686157\n",
            "Epoch: 20, Batch Train Accuracy: 77.01%, Batch Train Loss: 0.4809158146381378, Batch Test Accuracy: 69.16%, Batch Test Loss: 0.6456593871116638\n",
            "Epoch: 30, Batch Train Accuracy: 77.59%, Batch Train Loss: 0.45322155952453613, Batch Test Accuracy: 75.70%, Batch Test Loss: 0.4938447177410126\n",
            "Epoch: 40, Batch Train Accuracy: 80.46%, Batch Train Loss: 0.4120330512523651, Batch Test Accuracy: 79.44%, Batch Test Loss: 0.5169140696525574\n",
            "Epoch: 50, Batch Train Accuracy: 83.91%, Batch Train Loss: 0.3757327198982239, Batch Test Accuracy: 78.50%, Batch Test Loss: 0.5828856229782104\n",
            "Epoch: 60, Batch Train Accuracy: 81.03%, Batch Train Loss: 0.38720202445983887, Batch Test Accuracy: 79.44%, Batch Test Loss: 0.4392792880535126\n",
            "Epoch: 70, Batch Train Accuracy: 81.61%, Batch Train Loss: 0.44860804080963135, Batch Test Accuracy: 71.96%, Batch Test Loss: 0.5818833112716675\n",
            "Epoch: 80, Batch Train Accuracy: 79.31%, Batch Train Loss: 0.4010179340839386, Batch Test Accuracy: 73.83%, Batch Test Loss: 0.5671687722206116\n",
            "Epoch: 90, Batch Train Accuracy: 89.08%, Batch Train Loss: 0.3250048756599426, Batch Test Accuracy: 77.57%, Batch Test Loss: 0.478599488735199\n",
            "\n",
            "Number of Neurons: 128\n",
            "Epoch: 0, Batch Train Accuracy: 55.75%, Batch Train Loss: 0.6833034157752991, Batch Test Accuracy: 54.21%, Batch Test Loss: 0.6751473546028137\n",
            "Epoch: 10, Batch Train Accuracy: 70.11%, Batch Train Loss: 0.5719417929649353, Batch Test Accuracy: 67.29%, Batch Test Loss: 0.6414298415184021\n",
            "Epoch: 20, Batch Train Accuracy: 76.44%, Batch Train Loss: 0.5254817605018616, Batch Test Accuracy: 70.09%, Batch Test Loss: 0.5508489608764648\n",
            "Epoch: 30, Batch Train Accuracy: 83.91%, Batch Train Loss: 0.3953964114189148, Batch Test Accuracy: 74.77%, Batch Test Loss: 0.52223801612854\n",
            "Epoch: 40, Batch Train Accuracy: 75.29%, Batch Train Loss: 0.5273482203483582, Batch Test Accuracy: 79.44%, Batch Test Loss: 0.4796353578567505\n",
            "Epoch: 50, Batch Train Accuracy: 84.48%, Batch Train Loss: 0.2955620288848877, Batch Test Accuracy: 75.70%, Batch Test Loss: 0.4978411793708801\n",
            "Epoch: 60, Batch Train Accuracy: 82.18%, Batch Train Loss: 0.40492379665374756, Batch Test Accuracy: 84.11%, Batch Test Loss: 0.46697983145713806\n",
            "Epoch: 70, Batch Train Accuracy: 79.89%, Batch Train Loss: 0.4066842496395111, Batch Test Accuracy: 81.31%, Batch Test Loss: 0.3822457194328308\n",
            "Epoch: 80, Batch Train Accuracy: 86.78%, Batch Train Loss: 0.2723337709903717, Batch Test Accuracy: 84.11%, Batch Test Loss: 0.36557283997535706\n",
            "Epoch: 90, Batch Train Accuracy: 85.06%, Batch Train Loss: 0.3052338659763336, Batch Test Accuracy: 77.57%, Batch Test Loss: 0.6066099405288696\n",
            "\n",
            "Number of Neurons: 128\n",
            "Epoch: 0, Batch Train Accuracy: 60.92%, Batch Train Loss: 0.6718466877937317, Batch Test Accuracy: 55.14%, Batch Test Loss: 0.6803895235061646\n",
            "Epoch: 10, Batch Train Accuracy: 66.67%, Batch Train Loss: 0.5918679237365723, Batch Test Accuracy: 67.29%, Batch Test Loss: 0.584151029586792\n",
            "Epoch: 20, Batch Train Accuracy: 74.14%, Batch Train Loss: 0.5109793543815613, Batch Test Accuracy: 72.90%, Batch Test Loss: 0.4762236773967743\n",
            "Epoch: 30, Batch Train Accuracy: 75.86%, Batch Train Loss: 0.48122072219848633, Batch Test Accuracy: 75.70%, Batch Test Loss: 0.4839216470718384\n",
            "Epoch: 40, Batch Train Accuracy: 83.91%, Batch Train Loss: 0.37633079290390015, Batch Test Accuracy: 73.83%, Batch Test Loss: 0.45380929112434387\n",
            "Epoch: 50, Batch Train Accuracy: 78.16%, Batch Train Loss: 0.4219689965248108, Batch Test Accuracy: 85.05%, Batch Test Loss: 0.3718949854373932\n",
            "Epoch: 60, Batch Train Accuracy: 84.48%, Batch Train Loss: 0.3742204010486603, Batch Test Accuracy: 75.70%, Batch Test Loss: 0.5278766751289368\n",
            "Epoch: 70, Batch Train Accuracy: 82.76%, Batch Train Loss: 0.38315728306770325, Batch Test Accuracy: 78.50%, Batch Test Loss: 0.4955507218837738\n",
            "Epoch: 80, Batch Train Accuracy: 87.36%, Batch Train Loss: 0.3100166916847229, Batch Test Accuracy: 75.70%, Batch Test Loss: 0.5703278183937073\n",
            "Epoch: 90, Batch Train Accuracy: 85.63%, Batch Train Loss: 0.3952837884426117, Batch Test Accuracy: 85.05%, Batch Test Loss: 0.34873151779174805\n",
            "\n",
            "Number of Neurons: 256\n",
            "Epoch: 0, Batch Train Accuracy: 57.23%, Batch Train Loss: 0.6801890134811401, Batch Test Accuracy: 63.89%, Batch Test Loss: 0.6574150919914246\n",
            "Epoch: 10, Batch Train Accuracy: 72.25%, Batch Train Loss: 0.5690765976905823, Batch Test Accuracy: 67.59%, Batch Test Loss: 0.6525104641914368\n",
            "Epoch: 20, Batch Train Accuracy: 80.35%, Batch Train Loss: 0.44134795665740967, Batch Test Accuracy: 66.67%, Batch Test Loss: 0.5885794162750244\n",
            "Epoch: 30, Batch Train Accuracy: 84.97%, Batch Train Loss: 0.3579818606376648, Batch Test Accuracy: 78.70%, Batch Test Loss: 0.447578102350235\n",
            "Epoch: 40, Batch Train Accuracy: 83.24%, Batch Train Loss: 0.38820943236351013, Batch Test Accuracy: 77.78%, Batch Test Loss: 0.5245029926300049\n",
            "Epoch: 50, Batch Train Accuracy: 84.39%, Batch Train Loss: 0.4428909420967102, Batch Test Accuracy: 79.63%, Batch Test Loss: 0.4624527096748352\n",
            "Epoch: 60, Batch Train Accuracy: 94.80%, Batch Train Loss: 0.1861569881439209, Batch Test Accuracy: 75.93%, Batch Test Loss: 0.5350528955459595\n",
            "Epoch: 70, Batch Train Accuracy: 94.22%, Batch Train Loss: 0.2099037766456604, Batch Test Accuracy: 83.33%, Batch Test Loss: 0.4819381833076477\n",
            "Epoch: 80, Batch Train Accuracy: 90.17%, Batch Train Loss: 0.20636603236198425, Batch Test Accuracy: 75.00%, Batch Test Loss: 0.6169629693031311\n",
            "Epoch: 90, Batch Train Accuracy: 88.44%, Batch Train Loss: 0.30259817838668823, Batch Test Accuracy: 76.85%, Batch Test Loss: 0.6708024144172668\n",
            "\n",
            "Number of Neurons: 256\n",
            "Epoch: 0, Batch Train Accuracy: 56.07%, Batch Train Loss: 0.6713933944702148, Batch Test Accuracy: 63.89%, Batch Test Loss: 0.6620550751686096\n",
            "Epoch: 10, Batch Train Accuracy: 69.36%, Batch Train Loss: 0.5522343516349792, Batch Test Accuracy: 71.30%, Batch Test Loss: 0.5572916865348816\n",
            "Epoch: 20, Batch Train Accuracy: 72.25%, Batch Train Loss: 0.4927102327346802, Batch Test Accuracy: 77.78%, Batch Test Loss: 0.4563616216182709\n",
            "Epoch: 30, Batch Train Accuracy: 84.97%, Batch Train Loss: 0.3581748604774475, Batch Test Accuracy: 78.70%, Batch Test Loss: 0.48426976799964905\n",
            "Epoch: 40, Batch Train Accuracy: 87.86%, Batch Train Loss: 0.267791211605072, Batch Test Accuracy: 84.26%, Batch Test Loss: 0.38074439764022827\n",
            "Epoch: 50, Batch Train Accuracy: 83.24%, Batch Train Loss: 0.3355467617511749, Batch Test Accuracy: 82.41%, Batch Test Loss: 0.4518709182739258\n",
            "Epoch: 60, Batch Train Accuracy: 83.82%, Batch Train Loss: 0.3064957559108734, Batch Test Accuracy: 78.70%, Batch Test Loss: 0.5885285139083862\n",
            "Epoch: 70, Batch Train Accuracy: 91.33%, Batch Train Loss: 0.2106921523809433, Batch Test Accuracy: 79.63%, Batch Test Loss: 0.6460445523262024\n",
            "Epoch: 80, Batch Train Accuracy: 90.75%, Batch Train Loss: 0.22376494109630585, Batch Test Accuracy: 75.93%, Batch Test Loss: 0.6427586674690247\n",
            "Epoch: 90, Batch Train Accuracy: 89.60%, Batch Train Loss: 0.27208468317985535, Batch Test Accuracy: 71.30%, Batch Test Loss: 0.676159679889679\n",
            "\n",
            "Number of Neurons: 256\n",
            "Epoch: 0, Batch Train Accuracy: 63.22%, Batch Train Loss: 0.6592444181442261, Batch Test Accuracy: 65.42%, Batch Test Loss: 0.6446204781532288\n",
            "Epoch: 10, Batch Train Accuracy: 68.39%, Batch Train Loss: 0.6081050634384155, Batch Test Accuracy: 67.29%, Batch Test Loss: 0.6129060387611389\n",
            "Epoch: 20, Batch Train Accuracy: 78.16%, Batch Train Loss: 0.456674188375473, Batch Test Accuracy: 71.96%, Batch Test Loss: 0.5423082113265991\n",
            "Epoch: 30, Batch Train Accuracy: 81.61%, Batch Train Loss: 0.42332878708839417, Batch Test Accuracy: 78.50%, Batch Test Loss: 0.472161203622818\n",
            "Epoch: 40, Batch Train Accuracy: 84.48%, Batch Train Loss: 0.39384523034095764, Batch Test Accuracy: 75.70%, Batch Test Loss: 0.6282512545585632\n",
            "Epoch: 50, Batch Train Accuracy: 87.36%, Batch Train Loss: 0.27712884545326233, Batch Test Accuracy: 77.57%, Batch Test Loss: 0.5673646926879883\n",
            "Epoch: 60, Batch Train Accuracy: 89.08%, Batch Train Loss: 0.26489999890327454, Batch Test Accuracy: 75.70%, Batch Test Loss: 0.6345905065536499\n",
            "Epoch: 70, Batch Train Accuracy: 88.51%, Batch Train Loss: 0.2545650899410248, Batch Test Accuracy: 84.11%, Batch Test Loss: 0.439333438873291\n",
            "Epoch: 80, Batch Train Accuracy: 95.40%, Batch Train Loss: 0.15202081203460693, Batch Test Accuracy: 76.64%, Batch Test Loss: 0.6649743318557739\n",
            "Epoch: 90, Batch Train Accuracy: 91.95%, Batch Train Loss: 0.20444920659065247, Batch Test Accuracy: 78.50%, Batch Test Loss: 0.5532388687133789\n",
            "\n",
            "Number of Neurons: 256\n",
            "Epoch: 0, Batch Train Accuracy: 63.22%, Batch Train Loss: 0.666533887386322, Batch Test Accuracy: 60.75%, Batch Test Loss: 0.6657025218009949\n",
            "Epoch: 10, Batch Train Accuracy: 66.67%, Batch Train Loss: 0.5542125701904297, Batch Test Accuracy: 65.42%, Batch Test Loss: 0.6051708459854126\n",
            "Epoch: 20, Batch Train Accuracy: 78.16%, Batch Train Loss: 0.4917992651462555, Batch Test Accuracy: 72.90%, Batch Test Loss: 0.4954238831996918\n",
            "Epoch: 30, Batch Train Accuracy: 77.59%, Batch Train Loss: 0.4886723756790161, Batch Test Accuracy: 78.50%, Batch Test Loss: 0.4529542028903961\n",
            "Epoch: 40, Batch Train Accuracy: 79.31%, Batch Train Loss: 0.43182137608528137, Batch Test Accuracy: 76.64%, Batch Test Loss: 0.4882168769836426\n",
            "Epoch: 50, Batch Train Accuracy: 81.61%, Batch Train Loss: 0.4253719747066498, Batch Test Accuracy: 74.77%, Batch Test Loss: 0.6164158582687378\n",
            "Epoch: 60, Batch Train Accuracy: 88.51%, Batch Train Loss: 0.2937434911727905, Batch Test Accuracy: 90.65%, Batch Test Loss: 0.21934598684310913\n",
            "Epoch: 70, Batch Train Accuracy: 88.51%, Batch Train Loss: 0.2610589265823364, Batch Test Accuracy: 82.24%, Batch Test Loss: 0.4959033727645874\n",
            "Epoch: 80, Batch Train Accuracy: 91.95%, Batch Train Loss: 0.2451184093952179, Batch Test Accuracy: 77.57%, Batch Test Loss: 0.4682386815547943\n",
            "Epoch: 90, Batch Train Accuracy: 93.68%, Batch Train Loss: 0.20198924839496613, Batch Test Accuracy: 76.64%, Batch Test Loss: 0.6186782121658325\n",
            "\n",
            "Number of Neurons: 256\n",
            "Epoch: 0, Batch Train Accuracy: 63.79%, Batch Train Loss: 0.6671173572540283, Batch Test Accuracy: 53.27%, Batch Test Loss: 0.7168248295783997\n",
            "Epoch: 10, Batch Train Accuracy: 76.44%, Batch Train Loss: 0.5157227516174316, Batch Test Accuracy: 63.55%, Batch Test Loss: 0.666029155254364\n",
            "Epoch: 20, Batch Train Accuracy: 78.74%, Batch Train Loss: 0.4449959993362427, Batch Test Accuracy: 79.44%, Batch Test Loss: 0.4629693031311035\n",
            "Epoch: 30, Batch Train Accuracy: 80.46%, Batch Train Loss: 0.38140028715133667, Batch Test Accuracy: 81.31%, Batch Test Loss: 0.44344183802604675\n",
            "Epoch: 40, Batch Train Accuracy: 82.76%, Batch Train Loss: 0.40650835633277893, Batch Test Accuracy: 77.57%, Batch Test Loss: 0.46580395102500916\n",
            "Epoch: 50, Batch Train Accuracy: 87.36%, Batch Train Loss: 0.29301777482032776, Batch Test Accuracy: 76.64%, Batch Test Loss: 0.5664945840835571\n",
            "Epoch: 60, Batch Train Accuracy: 89.08%, Batch Train Loss: 0.2634994685649872, Batch Test Accuracy: 83.18%, Batch Test Loss: 0.418672651052475\n",
            "Epoch: 70, Batch Train Accuracy: 89.08%, Batch Train Loss: 0.2636793255805969, Batch Test Accuracy: 78.50%, Batch Test Loss: 0.5164110064506531\n",
            "Epoch: 80, Batch Train Accuracy: 91.95%, Batch Train Loss: 0.2158210426568985, Batch Test Accuracy: 81.31%, Batch Test Loss: 0.4676905572414398\n",
            "Epoch: 90, Batch Train Accuracy: 90.80%, Batch Train Loss: 0.22074875235557556, Batch Test Accuracy: 79.44%, Batch Test Loss: 0.4289892613887787\n"
          ]
        }
      ],
      "source": [
        "def find_optimal_hyperparameter(X_train, y_train, parameters, mode, batch_size):\n",
        "  # initialise dictonaries required for output\n",
        "  cross_validation_accuracies = {}\n",
        "  cross_validation_times = 0 # will not be using, hence it will return 0\n",
        "\n",
        "  # Loop through each neuron num size\n",
        "  for neurons in parameters:\n",
        "    kfold = KFold(n_splits = 5, shuffle=True, random_state = 0)\n",
        "\n",
        "    # list to store all the cross validation accuracies for every fold for each num of neurons\n",
        "    fold_cross_validation_accuracies = []\n",
        "    for t_samples, v_samples in kfold.split(X_train):\n",
        "      # X_t = training data for the current fold\n",
        "      X_t = X_train[t_samples]\n",
        "      # y_t = corresponding target values (labels) of the training data in the current fold.\n",
        "      y_t = y_train[t_samples]\n",
        "      # X_v = validation data for the current fold\n",
        "      X_v = X_train[v_samples]\n",
        "      # y_v = corresponding target values (labels) of the validation data in the current fold.\n",
        "      y_v = y_train[v_samples]\n",
        "\n",
        "      # to scale the data\n",
        "      scaler = preprocessing.StandardScaler()\n",
        "\n",
        "      # Scale the training data and validation data\n",
        "      X_t_scaled = scaler.fit_transform(X_t)\n",
        "      X_v_scaled = scaler.transform(X_v)\n",
        "\n",
        "      # initialisation of NN (MLP takes the neuron value for first layer)\n",
        "      model = MLP(77, neurons, 1)\n",
        "      optimizer = torch.optim.Adam(model.parameters(), lr=0.001)\n",
        "\n",
        "      print(f\"\\nNumber of Neurons: {neurons}\")\n",
        "      train_accuracies, train_losses, val_accuracies, val_losses, times = train(model, X_t_scaled, y_t, X_v_scaled, y_v, batch_size)\n",
        "      # append each fold's run as a list in the list\n",
        "      fold_cross_validation_accuracies.append(val_accuracies)\n",
        "    # get the accuraries of the last epoch of each fold\n",
        "    accuracies_last_epoch_for_diff_folds = [inner_list[-1] for inner_list in fold_cross_validation_accuracies]\n",
        "    # get the mean of the obtained last epochs of all folds for that value of num neurons\n",
        "    cross_validation_accuracies[neurons] = sum(accuracies_last_epoch_for_diff_folds) / len(accuracies_last_epoch_for_diff_folds)\n",
        "\n",
        "  return cross_validation_accuracies, cross_validation_times\n",
        "\n",
        "'''\n",
        "optimal_bs = 0. Fill your optimal batch size in the following code.\n",
        "'''\n",
        "# Create preprocess function for datasets for kfold\n",
        "def preprocess(df):\n",
        "    df['label'] = preprocessing.LabelEncoder().fit_transform(df['label'])\n",
        "    X_train = df.drop(['label', 'filename'], axis = 1)\n",
        "    y_train = df['label'].to_numpy()\n",
        "\n",
        "    return X_train, y_train\n",
        "\n",
        "df = pd.read_csv('simplified.csv')\n",
        "df['label'] = df['filename'].str.split('_').str[-2]\n",
        "df['label'].value_counts()\n",
        "\n",
        "# apply preprocessing to dataset\n",
        "X_train, y_train = preprocess(df)\n",
        "\n",
        "num_neurons = [64,128,256]\n",
        "optimal_bs = 256\n",
        "cross_validation_accuracies, cross_validation_times = find_optimal_hyperparameter(X_train.to_numpy(), y_train, num_neurons, 'num_neurons', optimal_bs)"
      ]
    },
    {
      "cell_type": "code",
      "execution_count": 94,
      "id": "13b4cce9-3a65-47fa-9b34-44b75de57dff",
      "metadata": {
        "deletable": false,
        "editable": false,
        "id": "13b4cce9-3a65-47fa-9b34-44b75de57dff",
        "nbgrader": {
          "cell_type": "code",
          "checksum": "975e552e751c4efb2cec0eac214f85cd",
          "grade": true,
          "grade_id": "correct_hyperparameter_tuning",
          "locked": true,
          "points": 1,
          "schema_version": 3,
          "solution": false,
          "task": false
        },
        "tags": []
      },
      "outputs": [],
      "source": []
    },
    {
      "cell_type": "markdown",
      "id": "b6756ab6-92e0-4a5e-b4b9-aebe009f5480",
      "metadata": {
        "deletable": false,
        "editable": false,
        "id": "b6756ab6-92e0-4a5e-b4b9-aebe009f5480",
        "nbgrader": {
          "cell_type": "markdown",
          "checksum": "0de56ab3a8b732e3ada17c55bc90a3cf",
          "grade": false,
          "grade_id": "cell-d0eceff23b1291e2",
          "locked": true,
          "schema_version": 3,
          "solution": false,
          "task": false
        }
      },
      "source": [
        "4. Plot the cross-validation accuracies against the number of epochs for different numbers of hidden-layer neurons. Limit the search space of the number of neurons to {64, 128, 256}."
      ]
    },
    {
      "cell_type": "code",
      "execution_count": 95,
      "id": "8fa3afdf-eed6-47b9-9acc-bc2304c46ec3",
      "metadata": {
        "colab": {
          "base_uri": "https://localhost:8080/",
          "height": 449
        },
        "deletable": false,
        "id": "8fa3afdf-eed6-47b9-9acc-bc2304c46ec3",
        "nbgrader": {
          "cell_type": "code",
          "checksum": "25582e96a2b85a5ce6e0cf48a58064bd",
          "grade": true,
          "grade_id": "cell-plot",
          "locked": false,
          "points": 2,
          "schema_version": 3,
          "solution": true,
          "task": false
        },
        "outputId": "2353ad39-781c-4e27-c376-814687ae298a",
        "tags": []
      },
      "outputs": [
        {
          "data": {
            "image/png": "[encoded data removed]",
            "text/plain": [
              "<Figure size 640x480 with 1 Axes>"
            ]
          },
          "metadata": {},
          "output_type": "display_data"
        }
      ],
      "source": [
        "# YOUR CODE HERE\n",
        "# plot the mean cross-validation accuracies on the final epoch for different number of first hidden-layer neurons.\n",
        "accuracies_to_plot = [cross_validation_accuracies[neuron] for neuron in num_neurons]\n",
        "\n",
        "plt.scatter(range(len(num_neurons)), accuracies_to_plot)\n",
        "plt.xticks(range(len(num_neurons)), num_neurons)\n",
        "plt.xlabel(\"Number of neurons\")\n",
        "plt.ylabel(\"Cross-validation accuracies\")\n",
        "plt.grid(True)  # Add gridlines for better readability\n",
        "plt.show()"
      ]
    },
    {
      "cell_type": "markdown",
      "id": "baab6e4d-4e8b-4358-a68d-682f60db4a06",
      "metadata": {
        "deletable": false,
        "editable": false,
        "id": "baab6e4d-4e8b-4358-a68d-682f60db4a06",
        "nbgrader": {
          "cell_type": "markdown",
          "checksum": "2024917155ea0cc8755c69415b4956cf",
          "grade": false,
          "grade_id": "part-1-3",
          "locked": true,
          "schema_version": 3,
          "solution": false,
          "task": false
        }
      },
      "source": [
        "5. Select the optimal number of neurons for the hidden layer. State the rationale for your selection."
      ]
    },
    {
      "cell_type": "code",
      "execution_count": 96,
      "id": "3e45a22d-9f20-441b-986b-dca35083abc3",
      "metadata": {
        "deletable": false,
        "id": "3e45a22d-9f20-441b-986b-dca35083abc3",
        "nbgrader": {
          "cell_type": "code",
          "checksum": "a8f1233c3ecacc38527a60e87185938b",
          "grade": false,
          "grade_id": "reason",
          "locked": false,
          "schema_version": 3,
          "solution": true,
          "task": false
        }
      },
      "outputs": [],
      "source": [
        "optimal_neurons = 256\n",
        "reason = \"My selection for the optimal number of neurons for the hidden layer is 256, as it yielded the highest cross-validation accuracy,as seen on the plot above.\""
      ]
    },
    {
      "cell_type": "code",
      "execution_count": 96,
      "id": "e9a76852-5fd9-48e6-b6ee-d0b9277340fa",
      "metadata": {
        "deletable": false,
        "editable": false,
        "id": "e9a76852-5fd9-48e6-b6ee-d0b9277340fa",
        "nbgrader": {
          "cell_type": "code",
          "checksum": "d8632aa5f8381d571f8992f3196e7aab",
          "grade": true,
          "grade_id": "reason1",
          "locked": true,
          "points": 1,
          "schema_version": 3,
          "solution": false,
          "task": false
        }
      },
      "outputs": [],
      "source": []
    },
    {
      "cell_type": "markdown",
      "id": "ebf2dc5e-91d5-49dc-a05f-b9318f3371a7",
      "metadata": {
        "deletable": false,
        "editable": false,
        "id": "ebf2dc5e-91d5-49dc-a05f-b9318f3371a7",
        "nbgrader": {
          "cell_type": "markdown",
          "checksum": "4c609ceb4ecc2dac0684b1da17f44daa",
          "grade": false,
          "grade_id": "cell-302503e166f647c9",
          "locked": true,
          "schema_version": 3,
          "solution": false,
          "task": false
        }
      },
      "source": [
        "6. Plot the train and test accuracies against training epochs with the optimal number of neurons using a line plot."
      ]
    },
    {
      "cell_type": "code",
      "execution_count": 97,
      "id": "081aa567-cd92-4749-93fd-fc6608a1f6ae",
      "metadata": {
        "colab": {
          "base_uri": "https://localhost:8080/",
          "height": 640
        },
        "deletable": false,
        "id": "081aa567-cd92-4749-93fd-fc6608a1f6ae",
        "nbgrader": {
          "cell_type": "code",
          "checksum": "2776dd57325ada98de4534313e894572",
          "grade": true,
          "grade_id": "figure",
          "locked": false,
          "points": 2,
          "schema_version": 3,
          "solution": true,
          "task": false
        },
        "outputId": "cf8abd2c-5294-4e94-9929-4dc78ec39fae",
        "tags": []
      },
      "outputs": [
        {
          "name": "stdout",
          "output_type": "stream",
          "text": [
            "Epoch: 0, Batch Train Accuracy: 54.29%, Batch Train Loss: 0.6921427845954895, Batch Test Accuracy: 53.90%, Batch Test Loss: 0.6908838748931885\n",
            "Epoch: 10, Batch Train Accuracy: 70.71%, Batch Train Loss: 0.5684230327606201, Batch Test Accuracy: 67.38%, Batch Test Loss: 0.6351943612098694\n",
            "Epoch: 20, Batch Train Accuracy: 82.14%, Batch Train Loss: 0.4480088949203491, Batch Test Accuracy: 73.76%, Batch Test Loss: 0.5402467846870422\n",
            "Epoch: 30, Batch Train Accuracy: 83.57%, Batch Train Loss: 0.3860906958580017, Batch Test Accuracy: 69.50%, Batch Test Loss: 0.6596029996871948\n",
            "Epoch: 40, Batch Train Accuracy: 78.57%, Batch Train Loss: 0.4510365128517151, Batch Test Accuracy: 78.01%, Batch Test Loss: 0.4770309329032898\n",
            "Epoch: 50, Batch Train Accuracy: 77.86%, Batch Train Loss: 0.4502201974391937, Batch Test Accuracy: 74.47%, Batch Test Loss: 0.6063018441200256\n",
            "Epoch: 60, Batch Train Accuracy: 85.71%, Batch Train Loss: 0.35862651467323303, Batch Test Accuracy: 73.05%, Batch Test Loss: 0.6500993967056274\n",
            "Epoch: 70, Batch Train Accuracy: 87.14%, Batch Train Loss: 0.3132737874984741, Batch Test Accuracy: 80.85%, Batch Test Loss: 0.4728272259235382\n",
            "Epoch: 80, Batch Train Accuracy: 87.86%, Batch Train Loss: 0.27156153321266174, Batch Test Accuracy: 78.72%, Batch Test Loss: 0.5826941132545471\n",
            "Epoch: 90, Batch Train Accuracy: 92.86%, Batch Train Loss: 0.22682133316993713, Batch Test Accuracy: 78.01%, Batch Test Loss: 0.6534727215766907\n"
          ]
        },
        {
          "data": {
            "text/plain": [
              "<matplotlib.legend.Legend at 0x7903234aae60>"
            ]
          },
          "execution_count": 97,
          "metadata": {},
          "output_type": "execute_result"
        },
        {
          "data": {
            "image/png": "[encoded data removed]",
            "text/plain": [
              "<Figure size 640x480 with 1 Axes>"
            ]
          },
          "metadata": {},
          "output_type": "display_data"
        }
      ],
      "source": [
        "# YOUR CODE HERE\n",
        "# since find_optimal_hyperparameter function does not return training_accuracies\n",
        "# (and its recommended not to change the base format of the function)\n",
        "# created a new function to train the model and get the train and test accuracies\n",
        "def find_train_and_test_accuracies(X_train, y_train, optimal_neurons):\n",
        "  # initialise dictonaries required for output\n",
        "  cross_validation_accuracies = {}\n",
        "  training_accuracies = {}\n",
        "\n",
        "  kfold = KFold(n_splits = 2, shuffle=True, random_state = 0)\n",
        "\n",
        "  for t_samples, v_samples in kfold.split(X_train):\n",
        "    # X_t = training data for the current fold\n",
        "    X_t = X_train[t_samples]\n",
        "    # y_t = corresponding target values (labels) of the training data in the current fold.\n",
        "    y_t = y_train[t_samples]\n",
        "    # X_v = validation data for the current fold\n",
        "    X_v = X_train[v_samples]\n",
        "    # y_v = corresponding target values (labels) of the validation data in the current fold.\n",
        "    y_v = y_train[v_samples]\n",
        "\n",
        "    # to scale the data\n",
        "    scaler = preprocessing.StandardScaler()\n",
        "\n",
        "    # Scale the training data and validation data\n",
        "    X_t_scaled = scaler.fit_transform(X_t)\n",
        "    X_v_scaled = scaler.transform(X_v)\n",
        "\n",
        "    # initialisation of NN (MLP takes the neuron value for first layer)\n",
        "    model = MLP(77, optimal_neurons, 1)\n",
        "    optimizer = torch.optim.Adam(model.parameters(), lr=0.001)\n",
        "\n",
        "    train_accuracies, train_losses, val_accuracies, val_losses, times = train(model, X_t_scaled, y_t, X_v_scaled, y_v, 256)\n",
        "    # since just need 1, just break\n",
        "    break\n",
        "  cross_validation_accuracies[optimal_neurons] = val_accuracies\n",
        "  training_accuracies[optimal_neurons] = train_accuracies\n",
        "\n",
        "  return cross_validation_accuracies, training_accuracies\n",
        "\n",
        "X_train, y_train = preprocess(df)\n",
        "test_accuracy, train_accuracy = find_train_and_test_accuracies(X_train.to_numpy(), y_train, optimal_neurons)\n",
        "\n",
        "plt.plot(train_accuracy[256], label=\"Training accuracy\")\n",
        "plt.plot(test_accuracy[256], label=\"Validation accuracy\")\n",
        "\n",
        "plt.xlabel(\"Epochs\")\n",
        "plt.legend()"
      ]
    }
  ],
  "metadata": {
    "colab": {
      "provenance": []
    },
    "kernelspec": {
      "display_name": "Python 3 (ipykernel)",
      "language": "python",
      "name": "python3"
    },
    "language_info": {
      "codemirror_mode": {
        "name": "ipython",
        "version": 3
      },
      "file_extension": ".py",
      "mimetype": "text/x-python",
      "name": "python",
      "nbconvert_exporter": "python",
      "pygments_lexer": "ipython3",
      "version": "3.11.2"
    }
  },
  "nbformat": 4,
  "nbformat_minor": 5
}
